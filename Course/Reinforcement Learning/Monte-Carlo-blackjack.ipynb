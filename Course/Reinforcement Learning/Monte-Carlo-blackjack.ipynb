{
 "cells": [
  {
   "cell_type": "code",
   "execution_count": 20,
   "metadata": {},
   "outputs": [],
   "source": [
    "import gym\n",
    "import numpy as np\n",
    "import seaborn as sns\n",
    "import matplotlib.pyplot as plt\n",
    "%matplotlib inline\n",
    "import copy"
   ]
  },
  {
   "cell_type": "code",
   "execution_count": 21,
   "metadata": {},
   "outputs": [],
   "source": [
    "env = gym.make('Blackjack-v0')"
   ]
  },
  {
   "cell_type": "code",
   "execution_count": 22,
   "metadata": {},
   "outputs": [
    {
     "data": {
      "text/plain": [
       "(5, 10, False)"
      ]
     },
     "execution_count": 22,
     "metadata": {},
     "output_type": "execute_result"
    }
   ],
   "source": [
    "env.reset()\n",
    "#player's current sum , dealer's one showing card , player has usable ace"
   ]
  },
  {
   "cell_type": "code",
   "execution_count": 4,
   "metadata": {},
   "outputs": [
    {
     "data": {
      "text/plain": [
       "Discrete(2)"
      ]
     },
     "execution_count": 4,
     "metadata": {},
     "output_type": "execute_result"
    }
   ],
   "source": [
    "env.action_space\n",
    "# 0 = stick\n",
    "# 1 = hit"
   ]
  },
  {
   "cell_type": "code",
   "execution_count": 23,
   "metadata": {},
   "outputs": [
    {
     "data": {
      "text/plain": [
       "((15, 10, False), 0.0, False, {})"
      ]
     },
     "execution_count": 23,
     "metadata": {},
     "output_type": "execute_result"
    }
   ],
   "source": [
    "env.step(1)\n",
    "# next_state, reward, done, info"
   ]
  },
  {
   "cell_type": "code",
   "execution_count": 24,
   "metadata": {},
   "outputs": [
    {
     "name": "stdout",
     "output_type": "stream",
     "text": [
      "dealer:  [10, 5]\n",
      "player:  [2, 3, 10]\n"
     ]
    }
   ],
   "source": [
    "# cards of the dealer\n",
    "print(\"dealer: \", env.dealer)\n",
    "\n",
    "# cards of the player\n",
    "print(\"player: \",env.player)"
   ]
  },
  {
   "cell_type": "code",
   "execution_count": 25,
   "metadata": {},
   "outputs": [
    {
     "data": {
      "text/plain": [
       "Tuple(Discrete(32), Discrete(11), Discrete(2))"
      ]
     },
     "execution_count": 25,
     "metadata": {},
     "output_type": "execute_result"
    }
   ],
   "source": [
    "env.observation_space"
   ]
  },
  {
   "cell_type": "code",
   "execution_count": 8,
   "metadata": {},
   "outputs": [
    {
     "data": {
      "text/plain": [
       "704"
      ]
     },
     "execution_count": 8,
     "metadata": {},
     "output_type": "execute_result"
    }
   ],
   "source": [
    "32*11*2"
   ]
  },
  {
   "cell_type": "code",
   "execution_count": 26,
   "metadata": {},
   "outputs": [],
   "source": [
    "def create_initial_policy():\n",
    "    # initialize policy with 200 states \n",
    "    # player's sum 12-21 * dealer showing 1-10 * usable ace\n",
    "    # set all actions to hit=1 ...\n",
    "\n",
    "    policy = np.ones([10, 10, 2])\n",
    "        \n",
    "    # ... except when player has 20 or 21, then it is stick\n",
    "    policy[8:, :, :] = 0\n",
    "    \n",
    "    return policy"
   ]
  },
  {
   "cell_type": "code",
   "execution_count": 31,
   "metadata": {},
   "outputs": [],
   "source": [
    "current_policy = create_initial_policy()"
   ]
  },
  {
   "cell_type": "code",
   "execution_count": 32,
   "metadata": {},
   "outputs": [
    {
     "name": "stdout",
     "output_type": "stream",
     "text": [
      "(20, 5, False)\n",
      "0\n",
      "\n",
      "## end of episode ##\n",
      "reward:  1.0\n",
      "dealer:  [5, 10, 3]\n",
      "player:  [4, 4, 2, 10]\n"
     ]
    }
   ],
   "source": [
    "# play a game\n",
    "observation = env.reset()\n",
    "done = False\n",
    "\n",
    "while not done:\n",
    "    # if player's sum < 12, it should hit\n",
    "    while observation[0] < 12:\n",
    "        observation, reward, done, info = env.step(1)\n",
    "        \n",
    "    print(observation)    \n",
    "    action = int(current_policy[observation[0]-12,observation[1]-1,int(observation[2])])\n",
    "    print(action)\n",
    "    \n",
    "    # if action is stick, dealer will be played automatically\n",
    "    observation, reward, done, info = env.step(action)\n",
    "\n",
    "print()\n",
    "print(\"## end of episode ##\")\n",
    "print(\"reward: \", reward)\n",
    "print(\"dealer: \", env.dealer)\n",
    "print(\"player: \",env.player)\n",
    "\n",
    "        \n"
   ]
  },
  {
   "cell_type": "code",
   "execution_count": 13,
   "metadata": {},
   "outputs": [
    {
     "data": {
      "text/plain": [
       "' Monte Carlo prediction '"
      ]
     },
     "execution_count": 13,
     "metadata": {},
     "output_type": "execute_result"
    }
   ],
   "source": [
    "''' Monte Carlo prediction '''"
   ]
  },
  {
   "cell_type": "code",
   "execution_count": 14,
   "metadata": {},
   "outputs": [],
   "source": [
    "def choose_action(observation):\n",
    "    if observation[0] < 12:\n",
    "        action = 1\n",
    "    else:\n",
    "        action = int(current_policy[observation[0]-12,observation[1]-1,int(observation[2])])\n",
    "    return action\n"
   ]
  },
  {
   "cell_type": "code",
   "execution_count": 37,
   "metadata": {},
   "outputs": [
    {
     "name": "stdout",
     "output_type": "stream",
     "text": [
      "\n",
      "## end of episode ##\n",
      "reward:  0.0\n",
      "dealer:  [10, 10]\n",
      "player:  [10, 10]\n"
     ]
    }
   ],
   "source": [
    "# play a game\n",
    "observation = env.reset()\n",
    "done = False\n",
    "\n",
    "while not done:\n",
    "    action = choose_action(observation)\n",
    "\n",
    "    # if action is stick, dealer will be played automatically\n",
    "    observation, reward, done, info = env.step(action)\n",
    "\n",
    "print()\n",
    "print(\"## end of episode ##\")\n",
    "print(\"reward: \", reward)\n",
    "print(\"dealer: \", env.dealer)\n",
    "print(\"player: \", env.player)\n",
    "#print(\"last obs: \", observation)\n",
    "\n"
   ]
  },
  {
   "cell_type": "markdown",
   "metadata": {},
   "source": [
    "#monte carlo first visit prediction (policy evaluation)\n",
    "\n",
    "![pseudo code from page 92 of the text book](MC-prediction.png)\n"
   ]
  },
  {
   "cell_type": "code",
   "execution_count": 38,
   "metadata": {},
   "outputs": [],
   "source": [
    "def toState(playersum):\n",
    "    if playersum < 12:\n",
    "        return -1\n",
    "    else:\n",
    "        return playersum-12\n",
    "\n",
    "from collections import defaultdict"
   ]
  },
  {
   "cell_type": "markdown",
   "metadata": {},
   "source": [
    "**implementation of every-visit Monte-Carlo Prediction**"
   ]
  },
  {
   "cell_type": "code",
   "execution_count": 39,
   "metadata": {},
   "outputs": [],
   "source": [
    "# input: a policy to be evaluated\n",
    "current_policy = create_initial_policy()\n",
    "\n",
    "# initialize:\n",
    "state_values = dict()\n",
    "## a list of returns, one for each state (as dict)\n",
    "returns_dict = defaultdict(list)\n",
    "\n",
    "# a list for the episode is needed\n",
    "trajectory = list() # SAR S'A'R' S''A''R''\n",
    "gamma = 1.0\n",
    "\n",
    "\n",
    "###################################\n",
    "# loop forever (foreach episode) = 100\n",
    "\n",
    "for i in range(8000):\n",
    "    # start environment for the new episode\n",
    "    observation = env.reset()\n",
    "    done = False\n",
    "    trajectory.clear()\n",
    "\n",
    "    \n",
    "    # first generate an episode\n",
    "    while not done:\n",
    "        action = choose_action(observation)\n",
    "        current_SA = [ (toState(observation[0]),observation[1]-1,int(observation[2])) , action ]\n",
    "\n",
    "        # if action is stick, dealer will be played automatically\n",
    "        observation, reward, done, info = env.step(action)\n",
    "        current_SA.append(reward)\n",
    "        trajectory.append( tuple(current_SA) )\n",
    "\n",
    "    g_return = 0\n",
    "\n",
    "    # loop backwards in episode\n",
    "    for step in reversed(trajectory):\n",
    "        g_return = gamma * g_return + step[2]\n",
    "        returns_dict[step[0]].append(g_return)\n",
    "        #print(returns_dict[step[0]])\n",
    "        state_values[step[0]] = np.mean(returns_dict[step[0]])\n",
    "    \n",
    "# end loop forever\n",
    "###################################"
   ]
  },
  {
   "cell_type": "code",
   "execution_count": 20,
   "metadata": {},
   "outputs": [],
   "source": [
    "#for entry in state_values.items():\n",
    "#    print(entry)"
   ]
  },
  {
   "cell_type": "code",
   "execution_count": 40,
   "metadata": {},
   "outputs": [],
   "source": [
    "# \"convert\" ungly state values in dict to 1d-array (only without usable ace)\n",
    "\n",
    "v_matrix = np.zeros(100)\n",
    "\n",
    "i = 0\n",
    "for playersum in range(10):\n",
    "    for dealercard in range (10):\n",
    "        v_matrix[i] = state_values[(playersum, dealercard, 0)]\n",
    "        i += 1\n",
    "        "
   ]
  },
  {
   "cell_type": "code",
   "execution_count": 41,
   "metadata": {},
   "outputs": [
    {
     "data": {
      "image/png": "[encoded data removed]",
      "text/plain": [
       "<Figure size 288x288 with 1 Axes>"
      ]
     },
     "metadata": {
      "needs_background": "light"
     },
     "output_type": "display_data"
    }
   ],
   "source": [
    "import seaborn as sns\n",
    "plt.figure(figsize=(4, 4))\n",
    "sns.heatmap(v_matrix.reshape(10, 10),  cmap=\"YlGnBu\", annot=True, cbar=False, square=True);\n",
    "\n"
   ]
  },
  {
   "cell_type": "code",
   "execution_count": null,
   "metadata": {},
   "outputs": [],
   "source": []
  }
 ],
 "metadata": {
  "kernelspec": {
   "display_name": "Python 3",
   "language": "python",
   "name": "python3"
  },
  "language_info": {
   "codemirror_mode": {
    "name": "ipython",
    "version": 3
   },
   "file_extension": ".py",
   "mimetype": "text/x-python",
   "name": "python",
   "nbconvert_exporter": "python",
   "pygments_lexer": "ipython3",
   "version": "3.8.5"
  }
 },
 "nbformat": 4,
 "nbformat_minor": 4
}
