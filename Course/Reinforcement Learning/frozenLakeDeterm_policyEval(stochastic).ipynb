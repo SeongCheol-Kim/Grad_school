{
 "cells": [
  {
   "cell_type": "code",
   "execution_count": 1,
   "metadata": {},
   "outputs": [],
   "source": [
    "import gym\n",
    "import numpy as np\n",
    "import seaborn as sns\n",
    "import matplotlib.pyplot as plt\n",
    "%matplotlib inline"
   ]
  },
  {
   "cell_type": "code",
   "execution_count": 2,
   "metadata": {},
   "outputs": [],
   "source": [
    "# load frozen lake env and change to deterministic behavior\n",
    "gym.envs.register(\n",
    "    id='FrozenLakeNotSlippery-v0',\n",
    "    entry_point='gym.envs.toy_text:FrozenLakeEnv',\n",
    "    kwargs={'map_name' : '4x4', 'is_slippery': True},\n",
    "    max_episode_steps=100,\n",
    ")"
   ]
  },
  {
   "cell_type": "code",
   "execution_count": 3,
   "metadata": {},
   "outputs": [],
   "source": [
    "env = gym.make('FrozenLakeNotSlippery-v0')\n"
   ]
  },
  {
   "cell_type": "code",
   "execution_count": 4,
   "metadata": {},
   "outputs": [
    {
     "name": "stdout",
     "output_type": "stream",
     "text": [
      "Discrete(4)\n",
      "Discrete(16)\n",
      "\n",
      "\u001b[41mS\u001b[0mFFF\n",
      "FHFH\n",
      "FFFH\n",
      "HFFG\n"
     ]
    }
   ],
   "source": [
    "# reset the environment\n",
    "obs = env.reset()\n",
    "\n",
    "print(env.action_space)\n",
    "print(env.observation_space)\n",
    "\n",
    "#env.render('rgb_array')\n",
    "_ = env.render()"
   ]
  },
  {
   "cell_type": "code",
   "execution_count": 5,
   "metadata": {},
   "outputs": [
    {
     "name": "stdout",
     "output_type": "stream",
     "text": [
      "0\n"
     ]
    }
   ],
   "source": [
    "action = env.action_space.sample()\n",
    "print(action)"
   ]
  },
  {
   "cell_type": "code",
   "execution_count": 6,
   "metadata": {},
   "outputs": [
    {
     "name": "stdout",
     "output_type": "stream",
     "text": [
      "state:  0\n",
      "reward:  0.0\n",
      "done:  False\n",
      "info:  {'prob': 0.3333333333333333}\n"
     ]
    }
   ],
   "source": [
    "curent_state = env.reset()\n",
    "done = False\n",
    "\n",
    "current_state, reward, done, info = env.step(env.action_space.sample())\n",
    "print('state: ', current_state)\n",
    "print('reward: ', reward)\n",
    "print('done: ', done)\n",
    "print('info: ', info)\n"
   ]
  },
  {
   "cell_type": "code",
   "execution_count": 8,
   "metadata": {
    "scrolled": false
   },
   "outputs": [
    {
     "name": "stdout",
     "output_type": "stream",
     "text": [
      "  (Left)\n",
      "\u001b[41mS\u001b[0mFFF\n",
      "FHFH\n",
      "FFFH\n",
      "HFFG\n",
      "  (Up)\n",
      "S\u001b[41mF\u001b[0mFF\n",
      "FHFH\n",
      "FFFH\n",
      "HFFG\n",
      "  (Left)\n",
      "SFFF\n",
      "F\u001b[41mH\u001b[0mFH\n",
      "FFFH\n",
      "HFFG\n"
     ]
    }
   ],
   "source": [
    "curent_state = env.reset()\n",
    "done = False\n",
    "while not done:\n",
    "    current_state, reward, done, info = env.step(env.action_space.sample())   \n",
    "    env.render()"
   ]
  },
  {
   "cell_type": "code",
   "execution_count": 9,
   "metadata": {},
   "outputs": [],
   "source": [
    "class create_agent():\n",
    "    # create a grid environment\n",
    "    \n",
    "    def __init__(self, name='random', actions=gym.spaces.Discrete(4)):\n",
    "        self.name = name.lower()\n",
    "        self.actions=actions\n",
    "        \n",
    "        if 'random' in name:\n",
    "            self.policy = 'random'\n",
    "        else:\n",
    "            self.policy = 'random'\n",
    "\n",
    "    def act(self):\n",
    "        return self.actions.sample()\n",
    "        \n",
    "        "
   ]
  },
  {
   "cell_type": "code",
   "execution_count": 10,
   "metadata": {},
   "outputs": [
    {
     "name": "stdout",
     "output_type": "stream",
     "text": [
      "  (Right)\n",
      "SFFF\n",
      "F\u001b[41mH\u001b[0mFH\n",
      "FFFH\n",
      "HFFG\n"
     ]
    }
   ],
   "source": [
    "curent_state = env.reset()\n",
    "done = False\n",
    "\n",
    "agent = create_agent('random')\n",
    "\n",
    "while not done:\n",
    "    current_state, reward, done, info = env.step(agent.act())\n",
    "    \n",
    "env.render()"
   ]
  },
  {
   "cell_type": "code",
   "execution_count": 10,
   "metadata": {},
   "outputs": [
    {
     "data": {
      "text/plain": [
       "'\\n\\nHow to implement policy evaluation?\\n\\n'"
      ]
     },
     "execution_count": 10,
     "metadata": {},
     "output_type": "execute_result"
    }
   ],
   "source": [
    "'''\n",
    "\n",
    "How to implement policy evaluation?\n",
    "\n",
    "'''"
   ]
  },
  {
   "cell_type": "code",
   "execution_count": 11,
   "metadata": {},
   "outputs": [
    {
     "data": {
      "text/plain": [
       "[(0.3333333333333333, 0, 0.0, False),\n",
       " (0.3333333333333333, 4, 0.0, False),\n",
       " (0.3333333333333333, 1, 0.0, False)]"
      ]
     },
     "execution_count": 11,
     "metadata": {},
     "output_type": "execute_result"
    }
   ],
   "source": [
    "# no need to reassign states to env and execute step()\n",
    "\n",
    "# state, action\n",
    "env.P[0][1]\n",
    "# probability, state', reward, done"
   ]
  },
  {
   "cell_type": "code",
   "execution_count": null,
   "metadata": {},
   "outputs": [],
   "source": []
  },
  {
   "cell_type": "markdown",
   "metadata": {},
   "source": [
    "'''\n",
    "\n",
    "this exercise\n",
    "preparation:\n",
    "- run some jupyter notebook and similar environment\n",
    "- install openAI gym and deterministic frozen lake\n",
    "(- use/try out my introductory code if you like)\n",
    "\n",
    "task 1: implement 1-step policy evaluation\n",
    "- create and initialize V and V'\n",
    "- for each state get expected Return according to Bellman equation\n",
    "-> let us compare our results\n",
    "\n",
    "'''\n",
    "![Psudocode from textbook page 75](files/policy_eval.png \"Title\")\n"
   ]
  },
  {
   "cell_type": "code",
   "execution_count": 12,
   "metadata": {
    "scrolled": true
   },
   "outputs": [
    {
     "name": "stdout",
     "output_type": "stream",
     "text": [
      "(16, 4)\n"
     ]
    },
    {
     "data": {
      "image/png": "[encoded data removed]",
      "text/plain": [
       "<Figure size 432x288 with 1 Axes>"
      ]
     },
     "metadata": {
      "needs_background": "light"
     },
     "output_type": "display_data"
    },
    {
     "data": {
      "image/png": "[encoded data removed]",
      "text/plain": [
       "<Figure size 576x576 with 1 Axes>"
      ]
     },
     "metadata": {
      "needs_background": "light"
     },
     "output_type": "display_data"
    }
   ],
   "source": [
    "def random_policy_with_prob(n_states, n_actions):\n",
    "    policy = np.ones([n_states, n_actions]) / n_actions\n",
    "    return policy\n",
    "\n",
    "policy = random_policy_with_prob(16, 4)\n",
    "print(policy.shape)\n",
    "# print(policy)\n",
    "\n",
    "sns.heatmap(policy,  cmap=\"YlGnBu\", annot=True, cbar=False);\n",
    "\n",
    "# Plot heatmap of first V\n",
    "V = np.zeros(env.observation_space.n)\n",
    "plt.figure(figsize=(8, 8))\n",
    "sns.heatmap(V.reshape(4, 4),  cmap=\"YlGnBu\", annot=True, cbar=False);"
   ]
  },
  {
   "cell_type": "code",
   "execution_count": 17,
   "metadata": {},
   "outputs": [],
   "source": [
    "def policy_evaluation(env, policy, theta=0.001):\n",
    "    \"\"\"\n",
    "    Policy evaluation function. Loop until state values stable, delta < theta.\n",
    "    Uses 2 separate V tables: V and V_prime\n",
    "    Returns V updated under policy\n",
    "    \"\"\"\n",
    "\n",
    "    # Create state-value array (16,)\n",
    "    V = np.zeros(env.observation_space.n)\n",
    "    while True:\n",
    "        delta = 0.0\n",
    "        V_prime = np.zeros(env.observation_space.n)\n",
    "        # for all states\n",
    "        for state in range(env.observation_space.n):\n",
    "            # for all actions\n",
    "            for action, action_prob in enumerate(policy[state]):\n",
    "                for next_state_prob, next_state, reward, done in env.P[state][action]:  \n",
    "                    V_prime[state] += action_prob * next_state_prob * (reward + V[next_state])\n",
    "        \n",
    "            delta = max(delta, np.abs(V[state]-V_prime[state]))\n",
    "\n",
    "        # Update V\n",
    "        V = V_prime\n",
    "\n",
    "        if delta < theta:\n",
    "            break\n",
    "\n",
    "    return V"
   ]
  },
  {
   "cell_type": "code",
   "execution_count": 18,
   "metadata": {},
   "outputs": [],
   "source": [
    "# Generate random policy \n",
    "policy = random_policy_with_prob(env.observation_space.n, env.action_space.n)"
   ]
  },
  {
   "cell_type": "code",
   "execution_count": 19,
   "metadata": {},
   "outputs": [],
   "source": [
    "# policy evaluation\n",
    "V = policy_evaluation(env, policy)"
   ]
  },
  {
   "cell_type": "code",
   "execution_count": 20,
   "metadata": {},
   "outputs": [
    {
     "name": "stdout",
     "output_type": "stream",
     "text": [
      "\n",
      "\u001b[41mS\u001b[0mFFF\n",
      "FHFH\n",
      "FFFH\n",
      "HFFG\n"
     ]
    },
    {
     "data": {
      "image/png": "[encoded data removed]",
      "text/plain": [
       "<Figure size 576x576 with 1 Axes>"
      ]
     },
     "metadata": {
      "needs_background": "light"
     },
     "output_type": "display_data"
    }
   ],
   "source": [
    "# Plot heatmap\n",
    "env.reset()\n",
    "env.render()\n",
    "plt.figure(figsize=(8, 8))\n",
    "sns.heatmap(V.reshape(4, 4),  cmap=\"YlGnBu\", annot=True, cbar=False);"
   ]
  },
  {
   "cell_type": "code",
   "execution_count": null,
   "metadata": {},
   "outputs": [],
   "source": []
  }
 ],
 "metadata": {
  "kernelspec": {
   "display_name": "Python 3",
   "language": "python",
   "name": "python3"
  },
  "language_info": {
   "codemirror_mode": {
    "name": "ipython",
    "version": 3
   },
   "file_extension": ".py",
   "mimetype": "text/x-python",
   "name": "python",
   "nbconvert_exporter": "python",
   "pygments_lexer": "ipython3",
   "version": "3.8.5"
  }
 },
 "nbformat": 4,
 "nbformat_minor": 4
}
