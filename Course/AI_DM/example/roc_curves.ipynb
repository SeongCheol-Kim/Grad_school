{
 "cells": [
  {
   "cell_type": "code",
   "execution_count": 1,
   "metadata": {},
   "outputs": [],
   "source": [
    "## import necessary modules\n",
    "\n",
    "import numpy as np\n",
    "import scipy.stats as stats\n",
    "import statistics\n",
    "from matplotlib import pyplot as plt"
   ]
  },
  {
   "cell_type": "code",
   "execution_count": 15,
   "metadata": {},
   "outputs": [
    {
     "data": {
      "text/plain": [
       "(array([  1.,   1.,   0.,   1.,   1.,   3.,   1.,   1.,   5.,   8.,   0.,\n",
       "          4.,  10.,   9.,   6.,   5.,  13.,  18.,  20.,  26.,  28.,  37.,\n",
       "         40.,  38.,  58.,  54.,  69.,  75.,  86.,  97.,  90., 107., 138.,\n",
       "        146., 172., 183., 200., 202., 207., 227., 213., 225., 259., 259.,\n",
       "        298., 297., 260., 305., 301., 289., 290., 272., 274., 305., 285.,\n",
       "        274., 256., 245., 224., 216., 191., 220., 205., 193., 163., 153.,\n",
       "        158., 124., 101., 115.,  90.,  88.,  83.,  59.,  42.,  42.,  31.,\n",
       "         38.,  19.,  26.,  20.,  24.,  14.,  11.,  13.,  10.,   3.,  10.,\n",
       "          3.,   3.,   2.,   1.,   2.,   3.,   1.,   1.,   1.,   2.,   0.,\n",
       "          1.]),\n",
       " array([-2.69071172, -2.61646434, -2.54221696, -2.46796958, -2.3937222 ,\n",
       "        -2.31947482, -2.24522744, -2.17098006, -2.09673268, -2.0224853 ,\n",
       "        -1.94823793, -1.87399055, -1.79974317, -1.72549579, -1.65124841,\n",
       "        -1.57700103, -1.50275365, -1.42850627, -1.35425889, -1.28001151,\n",
       "        -1.20576413, -1.13151675, -1.05726937, -0.98302199, -0.90877462,\n",
       "        -0.83452724, -0.76027986, -0.68603248, -0.6117851 , -0.53753772,\n",
       "        -0.46329034, -0.38904296, -0.31479558, -0.2405482 , -0.16630082,\n",
       "        -0.09205344, -0.01780606,  0.05644132,  0.13068869,  0.20493607,\n",
       "         0.27918345,  0.35343083,  0.42767821,  0.50192559,  0.57617297,\n",
       "         0.65042035,  0.72466773,  0.79891511,  0.87316249,  0.94740987,\n",
       "         1.02165725,  1.09590462,  1.170152  ,  1.24439938,  1.31864676,\n",
       "         1.39289414,  1.46714152,  1.5413889 ,  1.61563628,  1.68988366,\n",
       "         1.76413104,  1.83837842,  1.9126258 ,  1.98687318,  2.06112056,\n",
       "         2.13536793,  2.20961531,  2.28386269,  2.35811007,  2.43235745,\n",
       "         2.50660483,  2.58085221,  2.65509959,  2.72934697,  2.80359435,\n",
       "         2.87784173,  2.95208911,  3.02633649,  3.10058386,  3.17483124,\n",
       "         3.24907862,  3.323326  ,  3.39757338,  3.47182076,  3.54606814,\n",
       "         3.62031552,  3.6945629 ,  3.76881028,  3.84305766,  3.91730504,\n",
       "         3.99155242,  4.0657998 ,  4.14004717,  4.21429455,  4.28854193,\n",
       "         4.36278931,  4.43703669,  4.51128407,  4.58553145,  4.65977883,\n",
       "         4.73402621]),\n",
       " <BarContainer object of 100 artists>)"
      ]
     },
     "execution_count": 15,
     "metadata": {},
     "output_type": "execute_result"
    },
    {
     "data": {
      "image/png": "[encoded data removed]",
      "text/plain": [
       "<Figure size 432x288 with 1 Axes>"
      ]
     },
     "metadata": {
      "needs_background": "light"
     },
     "output_type": "display_data"
    }
   ],
   "source": [
    "variance, noiseMean, signalMean = 1, 0, 1\n",
    "\n",
    "noise_samples = np.random.randn(10000)\n",
    "plt.hist(noise_samples, alpha = 0.5, bins = 100)\n",
    "plt.hist(np.random.randn(10000)+signalMean, alpha = 0.5, bins = 100)"
   ]
  },
  {
   "cell_type": "code",
   "execution_count": 2,
   "metadata": {},
   "outputs": [],
   "source": [
    "## define mean, variance of signal and noise\n",
    "variance, noiseMean, signalMean = 1, 0, 1\n",
    "# dprime = (signalMean - noiseMean) / np.sqrt(variance)\n",
    "\n",
    "## define the criterion for decision making\n",
    "criterionList = np.linspace(-3, 3, 100)\n",
    "## number of trials\n",
    "nTrials = 1000\n",
    "C = len(criterionList)"
   ]
  },
  {
   "cell_type": "code",
   "execution_count": 3,
   "metadata": {},
   "outputs": [],
   "source": [
    "## probability of correct rejection (pCR)\n",
    "## probability of target hit (pHit)\n",
    "## estimated dprime\n",
    "pCR  = np.zeros(C)\n",
    "pHit = np.zeros(C)\n",
    "# pFA  = np.zeros(C)\n",
    "# pMiss = np.zeros(C)\n",
    "dPrimeEst = np.zeros(C)"
   ]
  },
  {
   "cell_type": "code",
   "execution_count": 9,
   "metadata": {},
   "outputs": [],
   "source": [
    "for criterionNum in range(C):\n",
    "    criterion = criterionList[criterionNum]\n",
    "    ## randomly generate stimulation 0 (noise) or 1 (signal)\n",
    "    stim = np.zeros(nTrials)\n",
    "    stim[np.random.rand(nTrials)>0.5] = 1\n",
    "#     stim = np.floor(np.linspace(0.5,1.5,num=nTrials))\n",
    "#     np.random.shuffle(stim)\n",
    "#     temp = np.floor(np.linspace(0.5,1.5,num=nTrials))\n",
    "#     stim = temp[np.random.permutation(range(nTrials))]\n",
    "    \n",
    "    ## initialization of response and internal response\n",
    "    resp = np.zeros(nTrials)\n",
    "    internalResponse = np.zeros(nTrials)\n",
    "    \n",
    "    for t in range(nTrials):\n",
    "        if stim[t] == 0:  ## no signal, only noise\n",
    "            internalResponse[t] = np.random.randn(1)*np.sqrt(variance)+noiseMean\n",
    "#             internalResponse[t] = np.random.normal(noiseMean, np.sqrt(variance), 1)\n",
    "        else:  ## signal\n",
    "            internalResponse[t] = np.random.randn(1)*np.sqrt(variance)+signalMean\n",
    "        ## decide the response\n",
    "        resp[t] = internalResponse[t] > criterion\n",
    "        \n",
    "    ## Actual (from simulation experiment) probability of correct Rejection\n",
    "    pCR[criterionNum] = sum(np.logical_and(resp==0, stim==0)) / sum(stim==0)\n",
    "    if pCR[criterionNum]==0.0 or pCR[criterionNum]==1.0:\n",
    "        zCR = np.nan\n",
    "    else:  ## Calculate z-score of Correct Rejection probability using inverted cumulative Gaussian\n",
    "        zCR = statistics.NormalDist().inv_cdf(pCR[criterionNum])\n",
    "        \n",
    "    ## Actual (from simulation experiment) probability of Hits \n",
    "    pHit[criterionNum] = sum(np.logical_and(resp==1, stim==1)) / sum(stim==1)\n",
    "#     pFA[criterionNum] = sum(np.logical_and(resp==1, stim==0)) / sum(stim==0)\n",
    "#     pMiss[criterionNum] = sum(np.logical_and(resp==0, stim==1)) / sum(stim==1)\n",
    "    if pHit[criterionNum]==0.0 or pHit[criterionNum]==1.0:\n",
    "        zHit = np.nan\n",
    "    else: ## Calculate z-score of Correct Rejection probability using inverted cumulative Gaussian\n",
    "        zHit = statistics.NormalDist().inv_cdf(pHit[criterionNum])\n",
    "        \n",
    "    ## Actual (from simulation experiment) d' from simulation   \n",
    "    dPrimeEst[criterionNum] = zCR + zHit\n",
    "        \n",
    "        "
   ]
  },
  {
   "cell_type": "code",
   "execution_count": 10,
   "metadata": {
    "scrolled": true
   },
   "outputs": [
    {
     "data": {
      "image/png": "[encoded data removed]",
      "text/plain": [
       "<Figure size 432x288 with 1 Axes>"
      ]
     },
     "metadata": {
      "needs_background": "light"
     },
     "output_type": "display_data"
    }
   ],
   "source": [
    "# Display results step-by-step\n",
    "dPrime = (signalMean - noiseMean) / np.sqrt(variance)\n",
    "## Actual (from simulation experiment) probability of False Alarm\n",
    "pFA = 1 - pCR\n",
    "\n",
    "## Theoretical probability of Hits and False Alarm for criterionList\n",
    "pHitReal = np.array([1 - statistics.NormalDist(signalMean, np.sqrt(variance)).cdf(val) for val in criterionList])\n",
    "pFAReal = np.array([1 - statistics.NormalDist(noiseMean, np.sqrt(variance)).cdf(val) for val in criterionList])\n",
    "\n",
    "## use np.trapz for calculation of area under ROC curve for the actual case\n",
    "area_under_curve = np.trapz(sorted(pHit), sorted(pFA))\n",
    "plt.plot(pFA, pHit, 'b.')\n",
    "## For theoretical ROC curve\n",
    "plt.plot(pFAReal, pHitReal, 'k')\n",
    "plt.xlabel('p (False Alarm)')\n",
    "plt.ylabel('p (Hit)')\n",
    "plt.text(0.7, 0.3, 'auc = {:04.3f}'.format(area_under_curve), size=15)\n",
    "plt.show()\n"
   ]
  },
  {
   "cell_type": "code",
   "execution_count": 11,
   "metadata": {},
   "outputs": [
    {
     "name": "stdout",
     "output_type": "stream",
     "text": [
      "0.7444505970724191\n"
     ]
    },
    {
     "data": {
      "image/png": "[encoded data removed]",
      "text/plain": [
       "<Figure size 432x288 with 1 Axes>"
      ]
     },
     "metadata": {
      "needs_background": "light"
     },
     "output_type": "display_data"
    }
   ],
   "source": [
    "## Do the same thing with using modules from sklearn, metrics.roc_curve\n",
    "from sklearn import metrics\n",
    "fpr, tpr, thresholds = metrics.roc_curve(stim, internalResponse, pos_label=1)\n",
    "plt.plot(sorted(pFAReal),sorted(pHitReal))\n",
    "plt.plot(pFA, pHit,'.')\n",
    "## calcualte area under curve using the modules\n",
    "area_under_curve2 = metrics.auc(sorted(fpr), sorted(tpr))\n",
    "print(area_under_curve2)\n",
    "## Compare this result to the previous one"
   ]
  }
 ],
 "metadata": {
  "kernelspec": {
   "display_name": "Python 3",
   "language": "python",
   "name": "python3"
  },
  "language_info": {
   "codemirror_mode": {
    "name": "ipython",
    "version": 3
   },
   "file_extension": ".py",
   "mimetype": "text/x-python",
   "name": "python",
   "nbconvert_exporter": "python",
   "pygments_lexer": "ipython3",
   "version": "3.8.5"
  }
 },
 "nbformat": 4,
 "nbformat_minor": 4
}
