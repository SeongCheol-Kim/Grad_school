{
 "cells": [
  {
   "cell_type": "code",
   "execution_count": 25,
   "metadata": {},
   "outputs": [],
   "source": [
    "import os, sys\n",
    "import csv\n",
    "from os.path import join, dirname\n",
    "import pandas as pd\n",
    "import numpy as np\n",
    "from glob import glob \n",
    "\n",
    "from sklearn.ensemble import RandomForestClassifier, RandomForestRegressor\n",
    "from sklearn.feature_selection import RFE, VarianceThreshold, SelectFromModel\n",
    "from sklearn.feature_selection import SelectKBest, mutual_info_regression, mutual_info_classif, chi2\n",
    "from sklearn import metrics\n",
    "from sklearn.model_selection import cross_validate, train_test_split\n",
    "from sklearn.preprocessing import KBinsDiscretizer, scale, minmax_scale"
   ]
  },
  {
   "cell_type": "code",
   "execution_count": 26,
   "metadata": {},
   "outputs": [],
   "source": [
    "root_dir = '/workspace/GradSchool/2020-2/Adv_ML/Final/data'\n",
    "\n",
    "stat_dir = root_dir + '/epl_player_stat'\n",
    "result_dir = root_dir + '/epl_result'"
   ]
  },
  {
   "cell_type": "code",
   "execution_count": 27,
   "metadata": {},
   "outputs": [],
   "source": [
    "result_file = result_dir + '/EPL_Results_from_1993_to_2020.csv'\n",
    "results = pd.read_csv(result_file)"
   ]
  },
  {
   "cell_type": "code",
   "execution_count": 28,
   "metadata": {},
   "outputs": [],
   "source": [
    "results = results[['Season', 'HomeTeam', 'AwayTeam', 'FTHG', 'FTAG', 'FTR']]"
   ]
  },
  {
   "cell_type": "code",
   "execution_count": 29,
   "metadata": {},
   "outputs": [],
   "source": [
    "results.loc[results['HomeTeam'] == 'Man City',\"HomeTeam\"] = 'Manchester City'\n",
    "results.loc[results['AwayTeam'] == 'Man City',\"AwayTeam\"] = 'Manchester City'\n",
    "results.loc[results['HomeTeam'] == 'Man United',\"HomeTeam\"] = 'Manchester United'\n",
    "results.loc[results['AwayTeam'] == 'Man United',\"AwayTeam\"] = 'Manchester United'\n",
    "results.loc[results['HomeTeam'] == 'Newcastle',\"HomeTeam\"] = 'Newcastle United'\n",
    "results.loc[results['AwayTeam'] == 'Newcastle',\"AwayTeam\"] = 'Newcastle United'\n",
    "results.loc[results['HomeTeam'] == 'West Brom',\"HomeTeam\"] = 'West Bromwich Albion'\n",
    "results.loc[results['AwayTeam'] == 'West Brom',\"AwayTeam\"] = 'West Bromwich Albion'\n",
    "results.loc[results['HomeTeam'] == 'Wolves',\"HomeTeam\"] = 'Wolverhampton Wanderers'\n",
    "results.loc[results['AwayTeam'] == 'Wolves',\"AwayTeam\"] = 'Wolverhampton Wanderers'"
   ]
  },
  {
   "cell_type": "code",
   "execution_count": 30,
   "metadata": {},
   "outputs": [],
   "source": [
    "is_train = results['Season'].str.contains('2015-16|2016-17|2017-18|2018-19')\n",
    "is_test = results['Season'].str.contains('2019-20')"
   ]
  },
  {
   "cell_type": "code",
   "execution_count": 31,
   "metadata": {},
   "outputs": [],
   "source": [
    "train_result = results[is_train]\n",
    "test_result = results[is_test]"
   ]
  },
  {
   "cell_type": "code",
   "execution_count": 32,
   "metadata": {},
   "outputs": [],
   "source": [
    "stat1_path = sorted(glob(stat_dir + '/20*.csv'))\n",
    "stat2_path = sorted(glob(stat_dir + '/pl*.csv'))"
   ]
  },
  {
   "cell_type": "code",
   "execution_count": 33,
   "metadata": {
    "scrolled": true
   },
   "outputs": [
    {
     "name": "stderr",
     "output_type": "stream",
     "text": [
      "<ipython-input-33-76b4df548cac>:23: SettingWithCopyWarning: \n",
      "A value is trying to be set on a copy of a slice from a DataFrame\n",
      "\n",
      "See the caveats in the documentation: https://pandas.pydata.org/pandas-docs/stable/user_guide/indexing.html#returning-a-view-versus-a-copy\n",
      "  tmp[i] = team_name_list[0]\n"
     ]
    }
   ],
   "source": [
    "train1_stat = pd.DataFrame()\n",
    "test1_stat = pd.DataFrame()\n",
    "participating_team = pd.DataFrame(columns=['Season', 'team_name'])\n",
    "\n",
    "for path in stat1_path:\n",
    "    \n",
    "    temp_participating_team = pd.DataFrame(columns=['Season', 'team_name'])\n",
    "    \n",
    "    season = path.split('\\\\')\n",
    "    season = season[1].split('.')\n",
    "    season = season[0]\n",
    "    \n",
    "    temp = pd.read_csv(path)\n",
    "    is_epl_player = temp['league'].str.contains('EPL')\n",
    "    temp = temp[is_epl_player]\n",
    "    temp.rename(columns={'Unnamed: 0': 'Season'}, inplace=True)\n",
    "    temp.rename(columns={'player_name': 'Name'}, inplace=True)\n",
    "    temp['Season'] = season\n",
    "    \n",
    "    tmp = temp['teams_played_for']\n",
    "    for i in range(len(temp)):\n",
    "        team_name_list = tmp[i].split(',')\n",
    "        tmp[i] = team_name_list[0]\n",
    "    temp['teams_played_for'] = tmp\n",
    "    \n",
    "    temp_participating_team['team_name'] = list(set(tmp))\n",
    "    temp_participating_team['Season'] = season\n",
    "    participating_team = pd.concat([participating_team, temp_participating_team])\n",
    "    \n",
    "    \n",
    "    if season == '2019-20':\n",
    "        test1_stat = pd.concat([test1_stat, temp])\n",
    "    else:\n",
    "        train1_stat = pd.concat([train1_stat, temp])"
   ]
  },
  {
   "cell_type": "code",
   "execution_count": 34,
   "metadata": {},
   "outputs": [
    {
     "name": "stderr",
     "output_type": "stream",
     "text": [
      "<ipython-input-34-c77531e86d95>:19: SettingWithCopyWarning: \n",
      "A value is trying to be set on a copy of a slice from a DataFrame\n",
      "\n",
      "See the caveats in the documentation: https://pandas.pydata.org/pandas-docs/stable/user_guide/indexing.html#returning-a-view-versus-a-copy\n",
      "  tmp[i] = tmp[i].rstrip()\n"
     ]
    }
   ],
   "source": [
    "train2_stat = pd.DataFrame()\n",
    "test2_stat = pd.DataFrame()\n",
    "\n",
    "for path in stat2_path:\n",
    "    \n",
    "    season = path.split('\\\\')\n",
    "    season = season[1].split('.')\n",
    "    season = season[0]\n",
    "    season = season.split('_')\n",
    "    season = '20'+season[1]\n",
    "    \n",
    "    temp = pd.read_csv(path)\n",
    "\n",
    "    temp.rename(columns={'Unnamed: 0': 'Season'}, inplace=True)\n",
    "    temp['Season'] = season\n",
    "    \n",
    "    tmp = temp['Name']\n",
    "    for i in range(len(temp)):\n",
    "        tmp[i] = tmp[i].rstrip()\n",
    "    temp['Name'] = tmp\n",
    "    \n",
    "    if season == '2019-20':\n",
    "        test2_stat = pd.concat([test2_stat, temp])\n",
    "    else:\n",
    "        train2_stat = pd.concat([train2_stat, temp])"
   ]
  },
  {
   "cell_type": "code",
   "execution_count": 37,
   "metadata": {},
   "outputs": [
    {
     "data": {
      "text/plain": [
       "Index(['Season', 'Name', 'Position', 'Appearances', 'Clean sheets',\n",
       "       'Goals conceded', 'Tackles', 'Tackle success %', 'Last man tackles',\n",
       "       'Blocked shots', 'Interceptions', 'Clearances', 'Headed Clearance',\n",
       "       'Clearances off line', 'Recoveries', 'Duels won', 'Duels lost',\n",
       "       'Successful 50/50s', 'Aerial battles won', 'Aerial battles lost',\n",
       "       'Own goals', 'Errors leading to goal', 'Assists', 'Passes',\n",
       "       'Passes per match', 'Big chances created', 'Crosses',\n",
       "       'Cross accuracy %', 'Through balls', 'Accurate long balls',\n",
       "       'Yellow cards', 'Red cards', 'Fouls', 'Offsides', 'Goals',\n",
       "       'Headed goals', 'Goals with right foot', 'Goals with left foot',\n",
       "       'Hit woodwork', 'Goals per match', 'Penalties scored',\n",
       "       'Freekicks scored', 'Shots', 'Shots on target', 'Shooting accuracy %',\n",
       "       'Big chances missed', 'Saves', 'Penalties saved', 'Punches',\n",
       "       'High Claims', 'Catches', 'Sweeper clearances', 'Throw outs',\n",
       "       'Goal Kicks'],\n",
       "      dtype='object')"
      ]
     },
     "execution_count": 37,
     "metadata": {},
     "output_type": "execute_result"
    }
   ],
   "source": [
    "train2_stat.columns"
   ]
  },
  {
   "cell_type": "code",
   "execution_count": 11,
   "metadata": {},
   "outputs": [],
   "source": [
    "train1_stat = train1_stat[['Season', 'Name', 'teams_played_for', 'minutes_played']]\n",
    "test1_stat = test1_stat[['Season', 'Name', 'teams_played_for', 'minutes_played']]"
   ]
  },
  {
   "cell_type": "code",
   "execution_count": 12,
   "metadata": {},
   "outputs": [],
   "source": [
    "train_stat = pd.merge(train2_stat,train1_stat,  how='left', on=['Season', 'Name'])\n",
    "test_stat = pd.merge(test2_stat,test1_stat,  how='left', on=['Season', 'Name'])"
   ]
  },
  {
   "cell_type": "code",
   "execution_count": 13,
   "metadata": {},
   "outputs": [],
   "source": [
    "# # stat _col\n",
    "# ['Season', 'Name', 'Position', 'Appearances', 'Clean sheets', 'Goals conceded', 'Tackles', 'Tackle success %', 'Last man tackles',\n",
    "#  'Blocked shots', 'Interceptions', 'Clearances', 'Headed Clearance','Clearances off line', 'Recoveries', 'Duels won', 'Duels lost',\n",
    "#  'Successful 50/50s', 'Aerial battles won', 'Aerial battles lost', 'Own goals', 'Errors leading to goal', 'Assists', 'Passes',\n",
    "#  'Passes per match', 'Big chances created', 'Crosses', 'Cross accuracy %', 'Through balls', 'Accurate long balls', 'Yellow cards',\n",
    "#  'Red cards', 'Fouls', 'Offsides', 'Goals', 'Headed goals', 'Goals with right foot', 'Goals with left foot', 'Hit woodwork',\n",
    "#  'Goals per match', 'Penalties scored', 'Freekicks scored', 'Shots', 'Shots on target', 'Shooting accuracy %', 'Big chances missed',\n",
    "#  'Saves', 'Penalties saved', 'Punches', 'High Claims', 'Catches', 'Sweeper clearances', 'Throw outs', 'Goal Kicks']\n",
    "# ['Season', 'player_name', 'teams_played_for', 'league', 'games', 'minutes_played', 'goals', 'npg', 'assists', 'xG', 'xA',\n",
    "#  'npxG', 'xG90', 'xA90', 'npxG90', 'position', 'shots', 'key_passes', 'yellow_cards', 'red_cards', 'xGBuildup', 'xGChain']"
   ]
  },
  {
   "cell_type": "code",
   "execution_count": 14,
   "metadata": {},
   "outputs": [],
   "source": [
    "train_stat = train_stat[['Season', 'Name', 'Position', 'Appearances', 'Clean sheets', 'Goals conceded', 'Tackles', 'Last man tackles',\n",
    " 'Blocked shots', 'Interceptions', 'Clearances', 'Headed Clearance','Clearances off line', 'Recoveries', 'Duels won', 'Duels lost',\n",
    " 'Successful 50/50s', 'Aerial battles won', 'Aerial battles lost', 'Own goals', 'Errors leading to goal', 'Assists',\n",
    " 'Passes per match', 'Big chances created', 'Crosses', 'Through balls', 'Accurate long balls', 'Yellow cards',\n",
    " 'Red cards', 'Fouls', 'Offsides', 'Hit woodwork', 'Goals per match', 'Penalties scored', 'Freekicks scored', 'Shots', \n",
    " 'Shots on target', 'Big chances missed', 'Saves', 'Penalties saved', 'Punches', 'High Claims', 'Catches', \n",
    " 'Sweeper clearances', 'Throw outs', 'Goal Kicks', 'teams_played_for', 'minutes_played']]\n",
    "test_stat = test_stat[['Season', 'Name', 'Position', 'Appearances', 'Clean sheets', 'Goals conceded', 'Tackles', 'Last man tackles',\n",
    " 'Blocked shots', 'Interceptions', 'Clearances', 'Headed Clearance','Clearances off line', 'Recoveries', 'Duels won', 'Duels lost',\n",
    " 'Successful 50/50s', 'Aerial battles won', 'Aerial battles lost', 'Own goals', 'Errors leading to goal', 'Assists',\n",
    " 'Passes per match', 'Big chances created', 'Crosses', 'Through balls', 'Accurate long balls', 'Yellow cards',\n",
    " 'Red cards', 'Fouls', 'Offsides', 'Hit woodwork', 'Goals per match', 'Penalties scored', 'Freekicks scored', 'Shots', \n",
    " 'Shots on target', 'Big chances missed', 'Saves', 'Penalties saved', 'Punches', 'High Claims', 'Catches', \n",
    " 'Sweeper clearances', 'Throw outs', 'Goal Kicks', 'teams_played_for', 'minutes_played']]"
   ]
  },
  {
   "cell_type": "code",
   "execution_count": 15,
   "metadata": {},
   "outputs": [],
   "source": [
    "train_stat = train_stat.sort_values(by=['Season','teams_played_for'] ,ascending=True)\n",
    "train_stat = train_stat.dropna(subset=['teams_played_for'])\n",
    "train_stat = train_stat.fillna(0)\n",
    "test_stat = test_stat.sort_values(by=['Season','teams_played_for'] ,ascending=True)\n",
    "test_stat = test_stat.dropna(subset=['teams_played_for'])\n",
    "test_stat = test_stat.fillna(0)"
   ]
  },
  {
   "cell_type": "code",
   "execution_count": 16,
   "metadata": {},
   "outputs": [],
   "source": [
    "change_col_name = ['Clean sheets', 'Goals conceded', 'Tackles', 'Last man tackles',  'Blocked shots', 'Interceptions', 'Clearances', \n",
    "             'Headed Clearance','Clearances off line', 'Recoveries', 'Duels won', 'Duels lost', 'Successful 50/50s', \n",
    "             'Aerial battles won', 'Aerial battles lost', 'Own goals', 'Errors leading to goal', 'Assists', \n",
    "              'Big chances created', 'Crosses', 'Through balls', 'Accurate long balls', \n",
    "             'Yellow cards', 'Red cards', 'Fouls', 'Offsides', 'Hit woodwork', 'Penalties scored', \n",
    "             'Freekicks scored', 'Shots', 'Shots on target', 'Big chances missed', 'Saves', 'Penalties saved', 'Punches', \n",
    "             'High Claims', 'Catches', 'Sweeper clearances', 'Throw outs', 'Goal Kicks', 'minutes_played']"
   ]
  },
  {
   "cell_type": "code",
   "execution_count": 17,
   "metadata": {},
   "outputs": [],
   "source": [
    "for j in change_col_name:\n",
    "    train_stat[j] = train_stat[j].astype('float32')\n",
    "    test_stat[j] = test_stat[j].astype('float32')"
   ]
  },
  {
   "cell_type": "code",
   "execution_count": 18,
   "metadata": {},
   "outputs": [],
   "source": [
    "# # Convert to stats per game\n",
    "# for i in train_stat.index:\n",
    "#     player = train_stat.loc[i]\n",
    "#     for col in change_col_name:\n",
    "#         print(col)\n",
    "#         train_stat[col] = train_stat[col] / player['Appearances']\n",
    "#         print(train_stat[col])\n",
    "#         break\n",
    "\n",
    "# for i in test_stat.index:\n",
    "#     player = test_stat.loc[i]\n",
    "#     for col in change_col_name:\n",
    "#         test_stat[col] = test_stat[col] / player['Appearances']"
   ]
  },
  {
   "cell_type": "code",
   "execution_count": 19,
   "metadata": {},
   "outputs": [],
   "source": [
    "# train_stat['Appearances'] = train_stat['Appearances'] / 38\n",
    "# test_stat['Appearances'] = test_stat['Appearances'] / 38"
   ]
  },
  {
   "cell_type": "code",
   "execution_count": 20,
   "metadata": {},
   "outputs": [],
   "source": [
    "train_stat.to_csv('/workspace/GradSchool/2020-2/Adv_ML/Final/data/processed_data/train_stat.csv', index = False)\n",
    "test_stat.to_csv('/workspace/GradSchool/2020-2/Adv_ML/Final/data/processed_data/test_stat.csv', index = False)\n",
    "train_result.to_csv('/workspace/GradSchool/2020-2/Adv_ML/Final/data/processed_data/EPL_Results_from_2014_to_2019.csv', index = False)\n",
    "test_result.to_csv('/workspace/GradSchool/2020-2/Adv_ML/Final/data/processed_data/EPL_Result_2019-20.csv', index = False)"
   ]
  },
  {
   "cell_type": "markdown",
   "metadata": {},
   "source": [
    "['Season', 'Name', 'Position', 'Appearances', 'Clean sheets', 'Goals conceded', 'Tackles', 'Last man tackles',\n",
    " 'Blocked shots', 'Interceptions', 'Clearances', 'Headed Clearance','Clearances off line', 'Recoveries', 'Duels won', 'Duels lost',\n",
    " 'Successful 50/50s', 'Aerial battles won', 'Aerial battles lost', 'Own goals', 'Errors leading to goal', 'Assists',\n",
    " 'Passes per match', 'Big chances created', 'Crosses', 'Through balls', 'Accurate long balls', 'Yellow cards',\n",
    " 'Red cards', 'Fouls', 'Offsides', 'Hit woodwork', 'Goals per match', 'Penalties scored', 'Freekicks scored', 'Shots', \n",
    " 'Shots on target', 'Big chances missed', 'Saves', 'Penalties saved', 'Punches', 'High Claims', 'Catches', \n",
    " 'Sweeper clearances', 'Throw outs', 'Goal Kicks', 'teams_played_for', 'minutes_played']"
   ]
  },
  {
   "cell_type": "code",
   "execution_count": 21,
   "metadata": {},
   "outputs": [],
   "source": [
    "root_dir = '/workspace/GradSchool/2020-2/Adv_ML/Final/data/processed_data'\n",
    "\n",
    "train_stat_file = root_dir + '/train_stat.csv'\n",
    "train_result_file = root_dir + '/EPL_Results_from_2014_to_2019.csv'\n",
    "test_stat_file = root_dir + '/test_stat.csv'\n",
    "test_result_file = root_dir + '/EPL_Result_2019-20.csv'\n",
    "\n",
    "train_stat = csv.reader(open(train_stat_file), delimiter=',', quotechar='\"')\n",
    "train_result = csv.reader(open(train_result_file), delimiter=',', quotechar='\"')\n",
    "test_stat = csv.reader(open(test_stat_file), delimiter=',', quotechar='\"')\n",
    "test_result = csv.reader(open(test_result_file), delimiter=',', quotechar='\"')\n",
    "\n",
    "stat_header = next(train_stat)\n",
    "result_header = next(train_result)"
   ]
  },
  {
   "cell_type": "code",
   "execution_count": 22,
   "metadata": {},
   "outputs": [],
   "source": [
    "def sum_stat(data, column_list, num, is_team = False):\n",
    "    value = []\n",
    "    \n",
    "    if is_team:\n",
    "        for i in column_list:\n",
    "            value.append(data[i].sum())\n",
    "    else:\n",
    "        for i in column_list:\n",
    "            value.append(data[i].sum() / len(data) * 3)\n",
    "    \n",
    "    return value"
   ]
  },
  {
   "cell_type": "code",
   "execution_count": 23,
   "metadata": {},
   "outputs": [],
   "source": [
    "def cal_lineup_value(data, season, team_name, formation = [4,3,3]):\n",
    "    # data: players stat data list, season: str, team_name:str, formation: list\n",
    "    team_mem = data[data['teams_played_for'] == team_name]\n",
    "    team_mem = team_mem[team_mem['Season'] == season]\n",
    "    \n",
    "    col = ['Appearances', 'Clean sheets', 'Goals conceded', 'Tackles', 'Last man tackles', 'Blocked shots', 'Interceptions', 'Clearances', 'Headed Clearance','Clearances off line', 'Recoveries', 'Duels won', 'Duels lost', 'Successful 50/50s', 'Aerial battles won', 'Aerial battles lost', 'Own goals', 'Errors leading to goal', 'Assists', 'Passes per match', 'Big chances created', 'Crosses', 'Through balls', 'Accurate long balls', 'Yellow cards', 'Red cards', 'Fouls', 'Offsides', 'Hit woodwork', 'Goals per match', 'Penalties scored', 'Freekicks scored', 'Shots', 'Shots on target', 'Big chances missed', 'Saves', 'Penalties saved', 'Punches', 'High Claims', 'Catches', 'Sweeper clearances', 'Throw outs', 'Goal Kicks', 'minutes_played']\n",
    "    \n",
    "    gk_num = 1\n",
    "    df_num = formation[0]\n",
    "    mf_num = formation[1]\n",
    "    fw_num = formation[2]\n",
    "    \n",
    "    team_value = pd.DataFrame(columns=col)\n",
    "    temp_team_value = pd.DataFrame(columns=col)\n",
    "    \n",
    "    gk = team_mem[team_mem['Position'] == 'Goalkeeper']    \n",
    "    df = team_mem[team_mem['Position'] == 'Defender']\n",
    "    mf = team_mem[team_mem['Position'] == 'Midfielder']\n",
    "    fw = team_mem[team_mem['Position'] == 'Forward']\n",
    "    \n",
    "    # calculate each position's value\n",
    "    team_gk_value = sum_stat(gk, col,gk_num)\n",
    "    team_df_value = sum_stat(df, col, df_num)\n",
    "    team_mf_value = sum_stat(mf, col, mf_num)\n",
    "    team_fw_value = sum_stat(fw, col, fw_num)\n",
    "    \n",
    "    # calculate 11 player's value\n",
    "    temp_team_value.loc[0] = team_gk_value\n",
    "    temp_team_value.loc[1] = team_df_value\n",
    "    temp_team_value.loc[2] = team_mf_value\n",
    "    temp_team_value.loc[3] = team_fw_value\n",
    "    \n",
    "    team_value.loc[0] = sum_stat(temp_team_value, col, 0, is_team=True)\n",
    "    \n",
    "    return team_value"
   ]
  },
  {
   "cell_type": "code",
   "execution_count": null,
   "metadata": {},
   "outputs": [],
   "source": []
  }
 ],
 "metadata": {
  "kernelspec": {
   "display_name": "Python 3",
   "language": "python",
   "name": "python3"
  },
  "language_info": {
   "codemirror_mode": {
    "name": "ipython",
    "version": 3
   },
   "file_extension": ".py",
   "mimetype": "text/x-python",
   "name": "python",
   "nbconvert_exporter": "python",
   "pygments_lexer": "ipython3",
   "version": "3.8.5"
  }
 },
 "nbformat": 4,
 "nbformat_minor": 4
}
