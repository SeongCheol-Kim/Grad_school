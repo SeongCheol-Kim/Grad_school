{
 "cells": [
  {
   "cell_type": "markdown",
   "id": "ea1a0b07",
   "metadata": {},
   "source": [
    "### Cluster Analysis"
   ]
  },
  {
   "cell_type": "markdown",
   "id": "54935231",
   "metadata": {},
   "source": [
    "The goal of this notebook is to explore the data structure for hidden\n",
    "clusters. Good clusters have high intra-class similarity and low\n",
    "inter-class similarity. Good clustering produces clusters where points\n",
    "within a cluster are similar and dissimilar from points in different\n",
    "clusters. We hope to find good clusters in the data we could exploit by\n",
    "fitting classification models on individual clusters instead of the\n",
    "entire dataset. We expect the models for individual clusters to be more\n",
    "accurate and provide better results than a single model fitted on the\n",
    "entire dataset."
   ]
  },
  {
   "cell_type": "code",
   "execution_count": null,
   "id": "771d7ee8",
   "metadata": {},
   "outputs": [],
   "source": [
    "import matplotlib.pyplot as plt\n",
    "from matplotlib import cm\n",
    "import numpy as np\n",
    "import pandas as pd\n",
    "from sklearn.cluster import AgglomerativeClustering, DBSCAN, KMeans, OPTICS\n",
    "from sklearn.decomposition import PCA\n",
    "from sklearn.metrics import calinski_harabasz_score, davies_bouldin_score, silhouette_score, silhouette_samples\n",
    "from sklearn.model_selection import GridSearchCV\n",
    "from sklearn.preprocessing import MinMaxScaler\n",
    "import warnings\n",
    "%matplotlib inline"
   ]
  },
  {
   "cell_type": "code",
   "execution_count": null,
   "id": "ee11419a",
   "metadata": {},
   "outputs": [],
   "source": [
    "# Format output of data frame. \n",
    "pd.set_option(\"precision\", 4)\n",
    "pd.set_option('display.max_columns', None)"
   ]
  },
  {
   "cell_type": "code",
   "execution_count": null,
   "id": "39375703",
   "metadata": {},
   "outputs": [],
   "source": [
    "# Load the data with all columns\n",
    "linearReg = pd.read_csv('Data/LinearRegressionWith8.csv')\n",
    "randomForest = pd.read_csv('Data/RandomForestRegressor_feature_importancesWith8.csv')"
   ]
  },
  {
   "cell_type": "code",
   "execution_count": null,
   "id": "387b7dae",
   "metadata": {},
   "outputs": [],
   "source": [
    "# Format tables and drop rows of all zeros\n",
    "linearReg.index = linearReg.iloc[:,0]\n",
    "linearReg = linearReg.iloc[:,1:]\n",
    "linearReg.loc[:,'Total'] = linearReg.sum(axis = 1)\n",
    "linearReg = linearReg.loc[(linearReg['Total']!=0),:]\n",
    "linearReg = linearReg.iloc[:,:-1]\n",
    "\n",
    "randomForest.index = randomForest.iloc[:,0]\n",
    "randomForest = randomForest.iloc[:,1:]\n",
    "randomForest.loc[:, 'Total'] = randomForest.sum(axis = 1)\n",
    "randomForest = randomForest.loc[(randomForest['Total']!=0),:]\n",
    "randomForest = randomForest.iloc[:,:-1]"
   ]
  },
  {
   "cell_type": "code",
   "execution_count": null,
   "id": "23c60009",
   "metadata": {},
   "outputs": [],
   "source": [
    "# Drop rows with NA\n",
    "linearReg = linearReg.dropna()\n",
    "randomForest = randomForest.dropna()"
   ]
  },
  {
   "cell_type": "code",
   "execution_count": null,
   "id": "a7c15cbd",
   "metadata": {},
   "outputs": [],
   "source": [
    "# Scale data using min-max scaling.\n",
    "scaler = MinMaxScaler()\n",
    "scaler.fit(randomForest)\n",
    "randomForestScale = scaler.transform(randomForest)"
   ]
  },
  {
   "cell_type": "code",
   "execution_count": null,
   "id": "d706fef5",
   "metadata": {},
   "outputs": [],
   "source": [
    "# Scale data using min-max scaling.\n",
    "scaler = MinMaxScaler()\n",
    "scaler.fit(linearReg)\n",
    "linearRegScale = scaler.transform(linearReg)"
   ]
  },
  {
   "cell_type": "markdown",
   "id": "47c1ef27",
   "metadata": {},
   "source": [
    "## Functions"
   ]
  },
  {
   "cell_type": "markdown",
   "id": "b30a385a",
   "metadata": {},
   "source": [
    "The following functions will be used throughout the cluster analysis\n",
    "that follows.\n",
    "\n",
    "The runClusteringModel function fits the cluster model and returns three\n",
    "different clustering scores, along with the cluster labels. The three\n",
    "clustering scores are the Variance Ratio Criterion, Davies-Bouldin\n",
    "Criterion, and Silhouette Coefficient using the specified distance\n",
    "measure."
   ]
  },
  {
   "cell_type": "code",
   "execution_count": null,
   "id": "608d4738",
   "metadata": {},
   "outputs": [],
   "source": [
    "def runClusteringModel(data, silhouetteScoreMeasure, clusteringModel): \n",
    "    \"\"\"Returns Variance Ratio Criterion, Davies-Bouldin score, Silhouette Coefficient \n",
    "    based on given distance measure, and the class labels.\"\"\"\n",
    "\n",
    "    # Initialize and fit clustering model\n",
    "    mdl = clusteringModel\n",
    "    mdl.fit(data)    \n",
    "\n",
    "    mdlLabels = mdl.labels_  # Get cluster labels\n",
    "\n",
    "    VRC = calinski_harabasz_score(data, mdlLabels)\n",
    "    dBScore = davies_bouldin_score(data, mdlLabels)\n",
    "    silhouetteScore = silhouette_score(data, mdlLabels, metric=silhouetteScoreMeasure, random_state=210)\n",
    "\n",
    "    return VRC, dBScore, silhouetteScore, mdlLabels"
   ]
  },
  {
   "cell_type": "markdown",
   "id": "e77eead7",
   "metadata": {},
   "source": [
    "The runPCAClusteringModel function performs PCA analysis keeping the\n",
    "number of components for the amount of variance specified by the user as\n",
    "an input parameter.  \n",
    "The function then calls runClusteringModel to run\n",
    "the cluster analysis using the PCA transformed data. It returns the same\n",
    "information as runClusteringModel plus the number of components needed\n",
    "to capture the amount of variance specified."
   ]
  },
  {
   "cell_type": "code",
   "execution_count": null,
   "id": "9117e1e4",
   "metadata": {},
   "outputs": [],
   "source": [
    "def runPCAClusteringModel(data, silhouetteScoreMeasure, varCaptured, clusteringModel): \n",
    "    \"\"\"Returns the results of clustering algorithm using PCA transformed data and the number of components\n",
    "    required to caputure the inputted amount of variance.\n",
    "    varCaptured is in decimal form to specify the amount of the data's variance the components capture. \n",
    "    \"\"\"\n",
    "\n",
    "    pca = PCA(n_components=None)\n",
    "\n",
    "    # Initialize PCA keeping all components and fit to data. \n",
    "    pca = PCA(n_components=None)\n",
    "    pca.fit(data)\n",
    "\n",
    "    # Find number of components that obtain 95% of variance\n",
    "    cumVar = pca.explained_variance_ratio_.cumsum().round(decimals=2)\n",
    "    i = 0\n",
    "    while True:\n",
    "        if cumVar[i] >= varCaptured:  # True if at least varCaptured of the variance is captured\n",
    "            numComp = i + 1  # Component number is index plus 1. \n",
    "            break\n",
    "        i += 1\n",
    "\n",
    "    # Rerun PCA analysis and transformations keeping only three components. \n",
    "    pca = PCA(n_components=numComp)\n",
    "    pca.fit(data)\n",
    "    data_pca = pca.transform(data)\n",
    "\n",
    "    # Call runClusteringModel function with PCA transformed data.\n",
    "    VRC, dBScore, silhouetteScore, mdlLabels = runClusteringModel(data_pca, silhouetteScoreMeasure, clusteringModel)\n",
    "    return VRC, dBScore, silhouetteScore, mdlLabels, numComp"
   ]
  },
  {
   "cell_type": "markdown",
   "id": "b925364b",
   "metadata": {},
   "source": [
    "The printClusteringStats function prints the results of the cluster\n",
    "analysis. The results include the three clustering scores obtain from\n",
    "runClusteringModel. Additionally, the function prints the number of\n",
    "clusters produced and some information regarding the top 5 clusters\n",
    "based on the number of instances associated with them."
   ]
  },
  {
   "cell_type": "code",
   "execution_count": null,
   "id": "74c43f23",
   "metadata": {},
   "outputs": [],
   "source": [
    "def printClusteringStats(VRC, dBScore, silhouetteScore, silhouetteScoreMeasure, mdlLabels):\n",
    "    \"\"\"Prints clustering results, different measures, number of clusters, and stats of top 5 clusters.\"\"\"\n",
    "    print('The Variance Ratio Criterion is equal to ' + str(round(VRC,2)) + '.')\n",
    "    print('The Davies-Bouldin score is equal to ' + str(round(dBScore,2)) + '.')\n",
    "    print('The mean Silhouette Coefficient using the ' + silhouetteScoreMeasure + ' distance is equal to ' + str(round(silhouetteScore,2)) + '.')\n",
    "    print('The model produced ' + str(mdlLabels.max() + 1) + ' clusters.\\n')\n",
    "\n",
    "    #show top five clusters and percentage of data in each\n",
    "    unique, counts = np.unique(mdlLabels, return_counts=True)\n",
    "    percent = counts/mdlLabels.size\n",
    "    clusters = pd.DataFrame({'Clusters': unique, 'Number of Instances': counts, 'Percent of Instances': percent})\n",
    "    print(clusters.sort_values(by=['Number of Instances'], ascending=False).head(5))\n",
    "    return"
   ]
  },
  {
   "cell_type": "markdown",
   "id": "607cee89",
   "metadata": {},
   "source": [
    "The silhouette_scorer function is the scoring method used for\n",
    "GridSearchCV function. silhouette_scorer is needed because there is no\n",
    "built-in option for GridSearchCV to score clusters without the true\n",
    "class labels, which we do not know in this situation. After all, we're\n",
    "trying to find unknown clusters in the data."
   ]
  },
  {
   "cell_type": "code",
   "execution_count": null,
   "id": "cd5230d7",
   "metadata": {},
   "outputs": [],
   "source": [
    "def silhouette_scorer(data, clusteringModel, silhouetteScoreMeasure='euclidean'):\n",
    "    \"\"\"Returns Silhouette Coefficient to be used in GridSearchCV.\"\"\"\n",
    "\n",
    "    # Initialize and fit clustering model\n",
    "    mdl = clusteringModel\n",
    "    mdl.fit(data)    \n",
    "\n",
    "    mdlLabels = mdl.labels_  # Get cluster labels\n",
    "\n",
    "    numLabels = np.unique(mdlLabels).size \n",
    "    numInstances = data.shape[0]\n",
    "\n",
    "    if numLabels == 1 or numLabels == numInstances:  # True if only one cluster or cluster for each individual instance\n",
    "        return -1\n",
    "    else:\n",
    "        return silhouette_score(data, mdlLabels, metric=silhouetteScoreMeasure, random_state=210)"
   ]
  },
  {
   "cell_type": "markdown",
   "id": "afc84ae2",
   "metadata": {},
   "source": [
    "The graphResults function graphs the results from using different\n",
    "hyperparameters. It displays the Variance Ratio Criterion,\n",
    "Davies-Bouldin Index, and Silhouette Coefficient on the Y-axes over the\n",
    "range of hyperparameter values on the x-axis."
   ]
  },
  {
   "cell_type": "code",
   "execution_count": null,
   "id": "5b27c0da",
   "metadata": {},
   "outputs": [],
   "source": [
    "def graphResults(x, VRCLst, dBScoreLst, silhouetteScoreLst):\n",
    "    \"\"\"Produce graph for tuning clustering parameters\"\"\"\n",
    "\n",
    "    # Create graph with number of K on x-axis and measures on y-axes.\n",
    "    fig,ax = plt.subplots()\n",
    "\n",
    "    # Formatting Y-axis on left side of plot \n",
    "    vrc = ax.plot(x, VRCLst, color='red', marker='o', label='Variance Ratio Criterion')\n",
    "    ax.set_xlabel(\"Hyperparameter\",fontsize=14)\n",
    "    ax.set_ylabel(\"Variance Ratio Criterion\",color=\"red\",fontsize=14)\n",
    "\n",
    "    # Formatting Y-axis on right side of plot\n",
    "    ax2=ax.twinx()\n",
    "    dbScore = ax2.plot(x, dBScoreLst,color='blue',marker='o', label='Davies–Bouldin index')\n",
    "    silScore = ax2.plot(x, silhouetteScoreLst,color='green',marker='o', label='Silhouette Score')\n",
    "    ax2.set_ylabel(\"DB & Silhouette Score\",color='blue',fontsize=14)\n",
    "\n",
    "    # Formatting the legend and displaying plot\n",
    "    lns = vrc+dbScore+silScore\n",
    "    labs = [l.get_label() for l in lns]\n",
    "    ax.legend(lns, labs, loc='center left', bbox_to_anchor=(1.25, 0.5))\n",
    "    plt.show()"
   ]
  },
  {
   "cell_type": "code",
   "execution_count": null,
   "id": "d6857c06",
   "metadata": {},
   "outputs": [],
   "source": [
    "def plot_silhouettes(data, clusters, metric='euclidean'):\n",
    "    \"\"\"Plots cluster silhouettes.\"\"\"\n",
    "\n",
    "    cluster_labels = np.unique(clusters)+1  # Label clusters beginning at 1.\n",
    "    n_clusters = cluster_labels.shape[0]\n",
    "    silhouette_vals = silhouette_samples(data, clusters, metric='cosine')\n",
    "    c_ax_lower, c_ax_upper = 0, 0\n",
    "    cticks = []\n",
    "    for i, k in enumerate(cluster_labels):\n",
    "        c_silhouette_vals = silhouette_vals[clusters == k]\n",
    "        c_silhouette_vals.sort()\n",
    "        c_ax_upper += len(c_silhouette_vals)\n",
    "        color = cm.jet(float(i) / n_clusters)\n",
    "        plt.barh(range(c_ax_lower, c_ax_upper), c_silhouette_vals, height=1.0, \n",
    "                      edgecolor='none', color=color)\n",
    "\n",
    "        cticks.append((c_ax_lower + c_ax_upper) / 2)\n",
    "        c_ax_lower += len(c_silhouette_vals)\n",
    "\n",
    "    silhouette_avg = np.mean(silhouette_vals)\n",
    "    plt.axvline(silhouette_avg, color=\"red\", linestyle=\"--\") \n",
    "\n",
    "    plt.yticks(cticks, cluster_labels)\n",
    "    plt.ylabel('Cluster')\n",
    "    plt.xlabel('Silhouette coefficient')\n",
    "\n",
    "    plt.tight_layout()\n",
    "    plt.show()\n",
    "\n",
    "    return"
   ]
  },
  {
   "cell_type": "code",
   "execution_count": null,
   "id": "93f888b7",
   "metadata": {},
   "outputs": [],
   "source": [
    "def tuner(data, model, simMeasure='euclidean', varCaptured = .95):\n",
    "    # X-axis values and those to be tested for k\n",
    "    x = np.arange(2, 18)\n",
    "\n",
    "    # placeholders for evaluation measure scores.\n",
    "    VRCLst = []\n",
    "    dBScoreLst = []\n",
    "    silhouetteScoreLst = []\n",
    "\n",
    "    # Test different values for K\n",
    "    for k in x:\n",
    "        if model == 'runClusteringModel':\n",
    "            VRC, dBScore, silhouetteScore, mdlLabels = runClusteringModel(data, simMeasure, KMeans(n_clusters=k, random_state=210))\n",
    "        else:\n",
    "            VRC, dBScore, silhouetteScore, mdlLabels, numComp = runPCAClusteringModel(data, simMeasure, varCaptured, KMeans(n_clusters=k, random_state=210))\n",
    "        VRCLst.append(VRC)\n",
    "        dBScoreLst.append(dBScore)\n",
    "        silhouetteScoreLst.append(silhouetteScore)\n",
    "\n",
    "    graphResults(x, VRCLst, dBScoreLst, silhouetteScoreLst)"
   ]
  },
  {
   "cell_type": "markdown",
   "id": "5b28c9c2",
   "metadata": {},
   "source": [
    "## KMeans Clustering\n",
    "\n",
    "#### Random Forest"
   ]
  },
  {
   "cell_type": "code",
   "execution_count": null,
   "id": "f6b8fe65",
   "metadata": {},
   "outputs": [],
   "source": [
    "tuner(randomForestScale, 'runClusteringModel', 'euclidean')"
   ]
  },
  {
   "cell_type": "code",
   "execution_count": null,
   "id": "0d252299",
   "metadata": {},
   "outputs": [],
   "source": [
    "silhouetteScoreMeasure = 'euclidean'\n",
    "VRC, dBScore, silhouetteScore, mdlLabels = runClusteringModel(randomForestScale, silhouetteScoreMeasure, KMeans(n_clusters=2, random_state=210))\n",
    "printClusteringStats(VRC, dBScore, silhouetteScore, silhouetteScoreMeasure, mdlLabels)"
   ]
  },
  {
   "cell_type": "code",
   "execution_count": null,
   "id": "4c157dc2",
   "metadata": {},
   "outputs": [],
   "source": [
    "plot_silhouettes(randomForestScale, mdlLabels)"
   ]
  },
  {
   "cell_type": "code",
   "execution_count": null,
   "id": "b5eb76b7",
   "metadata": {},
   "outputs": [],
   "source": [
    "silhouetteScoreMeasure = 'euclidean'\n",
    "VRC, dBScore, silhouetteScore, mdlLabels = runClusteringModel(randomForestScale, silhouetteScoreMeasure, KMeans(n_clusters=3, random_state=210))\n",
    "printClusteringStats(VRC, dBScore, silhouetteScore, silhouetteScoreMeasure, mdlLabels)"
   ]
  },
  {
   "cell_type": "code",
   "execution_count": null,
   "id": "388da8e4",
   "metadata": {},
   "outputs": [],
   "source": [
    "plot_silhouettes(randomForestScale, mdlLabels)"
   ]
  },
  {
   "cell_type": "code",
   "execution_count": null,
   "id": "3119fb41",
   "metadata": {},
   "outputs": [],
   "source": [
    "silhouetteScoreMeasure = 'euclidean'\n",
    "VRC, dBScore, silhouetteScore, mdlLabels = runClusteringModel(randomForestScale, silhouetteScoreMeasure, KMeans(n_clusters=5, random_state=210))\n",
    "printClusteringStats(VRC, dBScore, silhouetteScore, silhouetteScoreMeasure, mdlLabels)"
   ]
  },
  {
   "cell_type": "code",
   "execution_count": null,
   "id": "85247dbe",
   "metadata": {},
   "outputs": [],
   "source": [
    "plot_silhouettes(randomForestScale, mdlLabels)"
   ]
  },
  {
   "cell_type": "code",
   "execution_count": null,
   "id": "da9393a6",
   "metadata": {},
   "outputs": [],
   "source": [
    "silhouetteScoreMeasure = 'euclidean'\n",
    "VRC, dBScore, silhouetteScore, mdlLabels = runClusteringModel(randomForestScale, silhouetteScoreMeasure, KMeans(n_clusters=6, random_state=210))\n",
    "printClusteringStats(VRC, dBScore, silhouetteScore, silhouetteScoreMeasure, mdlLabels)"
   ]
  },
  {
   "cell_type": "code",
   "execution_count": null,
   "id": "f45e6848",
   "metadata": {},
   "outputs": [],
   "source": [
    "plot_silhouettes(randomForestScale, mdlLabels)"
   ]
  },
  {
   "cell_type": "code",
   "execution_count": null,
   "id": "fae3db91",
   "metadata": {},
   "outputs": [],
   "source": [
    "tuner(randomForestScale, 'runClusteringModel', 'cosine')"
   ]
  },
  {
   "cell_type": "code",
   "execution_count": null,
   "id": "0b076efc",
   "metadata": {},
   "outputs": [],
   "source": [
    "silhouetteScoreMeasure = 'cosine'\n",
    "VRC, dBScore, silhouetteScore, mdlLabels = runClusteringModel(randomForestScale, silhouetteScoreMeasure, KMeans(n_clusters=2, random_state=210))\n",
    "printClusteringStats(VRC, dBScore, silhouetteScore, silhouetteScoreMeasure, mdlLabels)"
   ]
  },
  {
   "cell_type": "code",
   "execution_count": null,
   "id": "ad5b1bc2",
   "metadata": {},
   "outputs": [],
   "source": [
    "plot_silhouettes(randomForestScale, mdlLabels)"
   ]
  },
  {
   "cell_type": "code",
   "execution_count": null,
   "id": "54561e7e",
   "metadata": {},
   "outputs": [],
   "source": [
    "silhouetteScoreMeasure = 'cosine'\n",
    "VRC, dBScore, silhouetteScore, mdlLabels = runClusteringModel(randomForestScale, silhouetteScoreMeasure, KMeans(n_clusters=3, random_state=210))\n",
    "printClusteringStats(VRC, dBScore, silhouetteScore, silhouetteScoreMeasure, mdlLabels)"
   ]
  },
  {
   "cell_type": "code",
   "execution_count": null,
   "id": "630452cd",
   "metadata": {},
   "outputs": [],
   "source": [
    "plot_silhouettes(randomForestScale, mdlLabels)"
   ]
  },
  {
   "cell_type": "code",
   "execution_count": null,
   "id": "f9819bd9",
   "metadata": {},
   "outputs": [],
   "source": [
    "silhouetteScoreMeasure = 'cosine'\n",
    "VRC, dBScore, silhouetteScore, mdlLabels = runClusteringModel(randomForestScale, silhouetteScoreMeasure, KMeans(n_clusters=5, random_state=210))\n",
    "printClusteringStats(VRC, dBScore, silhouetteScore, silhouetteScoreMeasure, mdlLabels)"
   ]
  },
  {
   "cell_type": "code",
   "execution_count": null,
   "id": "1db1a2b7",
   "metadata": {},
   "outputs": [],
   "source": [
    "plot_silhouettes(randomForestScale, mdlLabels)"
   ]
  },
  {
   "cell_type": "code",
   "execution_count": null,
   "id": "c728731b",
   "metadata": {},
   "outputs": [],
   "source": [
    "silhouetteScoreMeasure = 'cosine'\n",
    "VRC, dBScore, silhouetteScore, mdlLabels = runClusteringModel(randomForestScale, silhouetteScoreMeasure, KMeans(n_clusters=6, random_state=210))\n",
    "printClusteringStats(VRC, dBScore, silhouetteScore, silhouetteScoreMeasure, mdlLabels)"
   ]
  },
  {
   "cell_type": "code",
   "execution_count": null,
   "id": "40c76265",
   "metadata": {},
   "outputs": [],
   "source": [
    "plot_silhouettes(randomForestScale, mdlLabels)"
   ]
  },
  {
   "cell_type": "code",
   "execution_count": null,
   "id": "a7c48164",
   "metadata": {},
   "outputs": [],
   "source": [
    "tuner(randomForestScale, 'runPCAClusteringModel', 'euclidean')"
   ]
  },
  {
   "cell_type": "code",
   "execution_count": null,
   "id": "cd2424dc",
   "metadata": {},
   "outputs": [],
   "source": [
    "silhouetteScoreMeasure = 'euclidean'\n",
    "VRC, dBScore, silhouetteScore, mdlLabels, numComp = runPCAClusteringModel(randomForestScale, silhouetteScoreMeasure, .95, KMeans(n_clusters=2, random_state=210))\n",
    "printClusteringStats(VRC, dBScore, silhouetteScore, silhouetteScoreMeasure, mdlLabels)"
   ]
  },
  {
   "cell_type": "code",
   "execution_count": null,
   "id": "17196496",
   "metadata": {},
   "outputs": [],
   "source": [
    "plot_silhouettes(randomForestScale, mdlLabels)"
   ]
  },
  {
   "cell_type": "code",
   "execution_count": null,
   "id": "1f129a3b",
   "metadata": {},
   "outputs": [],
   "source": [
    "silhouetteScoreMeasure = 'euclidean'\n",
    "VRC, dBScore, silhouetteScore, mdlLabels, numComp = runPCAClusteringModel(randomForestScale, silhouetteScoreMeasure, .95, KMeans(n_clusters=3, random_state=210))\n",
    "printClusteringStats(VRC, dBScore, silhouetteScore, silhouetteScoreMeasure, mdlLabels)"
   ]
  },
  {
   "cell_type": "code",
   "execution_count": null,
   "id": "d65e7ab3",
   "metadata": {},
   "outputs": [],
   "source": [
    "plot_silhouettes(randomForestScale, mdlLabels)"
   ]
  },
  {
   "cell_type": "code",
   "execution_count": null,
   "id": "7f9fd360",
   "metadata": {},
   "outputs": [],
   "source": [
    "silhouetteScoreMeasure = 'euclidean'\n",
    "VRC, dBScore, silhouetteScore, mdlLabels, numComp = runPCAClusteringModel(randomForestScale, silhouetteScoreMeasure, .95, KMeans(n_clusters=5, random_state=210))\n",
    "printClusteringStats(VRC, dBScore, silhouetteScore, silhouetteScoreMeasure, mdlLabels)"
   ]
  },
  {
   "cell_type": "code",
   "execution_count": null,
   "id": "383415c1",
   "metadata": {},
   "outputs": [],
   "source": [
    "plot_silhouettes(randomForestScale, mdlLabels)"
   ]
  },
  {
   "cell_type": "code",
   "execution_count": null,
   "id": "db075977",
   "metadata": {},
   "outputs": [],
   "source": [
    "silhouetteScoreMeasure = 'euclidean'\n",
    "VRC, dBScore, silhouetteScore, mdlLabels, numComp = runPCAClusteringModel(randomForestScale, silhouetteScoreMeasure, .95, KMeans(n_clusters=6, random_state=210))\n",
    "printClusteringStats(VRC, dBScore, silhouetteScore, silhouetteScoreMeasure, mdlLabels)"
   ]
  },
  {
   "cell_type": "code",
   "execution_count": null,
   "id": "cf9c7a08",
   "metadata": {},
   "outputs": [],
   "source": [
    "plot_silhouettes(randomForestScale, mdlLabels)"
   ]
  },
  {
   "cell_type": "code",
   "execution_count": null,
   "id": "293698b9",
   "metadata": {},
   "outputs": [],
   "source": [
    "tuner(randomForestScale, 'runPCAClusteringModel', 'cosine')"
   ]
  },
  {
   "cell_type": "code",
   "execution_count": null,
   "id": "a36ff13f",
   "metadata": {},
   "outputs": [],
   "source": [
    "silhouetteScoreMeasure = 'cosine'\n",
    "VRC, dBScore, silhouetteScore, mdlLabels, numComp = runPCAClusteringModel(randomForestScale, silhouetteScoreMeasure, .95, KMeans(n_clusters=2, random_state=210))\n",
    "printClusteringStats(VRC, dBScore, silhouetteScore, silhouetteScoreMeasure, mdlLabels)"
   ]
  },
  {
   "cell_type": "code",
   "execution_count": null,
   "id": "27bd1720",
   "metadata": {},
   "outputs": [],
   "source": [
    "plot_silhouettes(randomForestScale, mdlLabels)"
   ]
  },
  {
   "cell_type": "code",
   "execution_count": null,
   "id": "3ddde972",
   "metadata": {},
   "outputs": [],
   "source": [
    "silhouetteScoreMeasure = 'cosine'\n",
    "VRC, dBScore, silhouetteScore, mdlLabels, numComp = runPCAClusteringModel(randomForestScale, silhouetteScoreMeasure, .95, KMeans(n_clusters=3, random_state=210))\n",
    "printClusteringStats(VRC, dBScore, silhouetteScore, silhouetteScoreMeasure, mdlLabels)"
   ]
  },
  {
   "cell_type": "code",
   "execution_count": null,
   "id": "6241bdf7",
   "metadata": {},
   "outputs": [],
   "source": [
    "plot_silhouettes(randomForestScale, mdlLabels)"
   ]
  },
  {
   "cell_type": "code",
   "execution_count": null,
   "id": "8a77b740",
   "metadata": {},
   "outputs": [],
   "source": [
    "silhouetteScoreMeasure = 'cosine'\n",
    "VRC, dBScore, silhouetteScore, mdlLabels, numComp = runPCAClusteringModel(randomForestScale, silhouetteScoreMeasure, .95, KMeans(n_clusters=5, random_state=210))\n",
    "printClusteringStats(VRC, dBScore, silhouetteScore, silhouetteScoreMeasure, mdlLabels)"
   ]
  },
  {
   "cell_type": "code",
   "execution_count": null,
   "id": "1858a7e4",
   "metadata": {},
   "outputs": [],
   "source": [
    "plot_silhouettes(randomForestScale, mdlLabels)"
   ]
  },
  {
   "cell_type": "code",
   "execution_count": null,
   "id": "8ddccf7c",
   "metadata": {},
   "outputs": [],
   "source": [
    "silhouetteScoreMeasure = 'cosine'\n",
    "VRC, dBScore, silhouetteScore, mdlLabels, numComp = runPCAClusteringModel(randomForestScale, silhouetteScoreMeasure, .95, KMeans(n_clusters=6, random_state=210))\n",
    "printClusteringStats(VRC, dBScore, silhouetteScore, silhouetteScoreMeasure, mdlLabels)"
   ]
  },
  {
   "cell_type": "code",
   "execution_count": null,
   "id": "12991175",
   "metadata": {},
   "outputs": [],
   "source": [
    "plot_silhouettes(randomForestScale, mdlLabels)"
   ]
  },
  {
   "cell_type": "code",
   "execution_count": null,
   "id": "fbef82e2",
   "metadata": {},
   "outputs": [],
   "source": [
    "randomForest.loc[:,'Labels'] = mdlLabels\n",
    "randomForest.to_csv('randomforestlabelsv2.csv')"
   ]
  },
  {
   "cell_type": "code",
   "execution_count": null,
   "id": "c0c3d3a2",
   "metadata": {},
   "outputs": [],
   "source": [
    "warnings.filterwarnings('ignore')\n",
    "cv = [(slice(None), slice(None))]\n",
    "paramDict = {'n_clusters': np.arange(2, 18)}\n",
    "grid = GridSearchCV(estimator=KMeans(random_state=210), param_grid=paramDict, \n",
    "                  scoring=silhouette_scorer, cv=cv, n_jobs=-1)\n",
    "grid.fit(randomForestScale)\n",
    "print(grid.best_params_) "
   ]
  },
  {
   "cell_type": "markdown",
   "id": "1d28afbe",
   "metadata": {},
   "source": [
    "All three measures agree the best number of clusters is 2. The Variance\n",
    "Ratio Criterion signifies the optimal number of clusters at its first\n",
    "local mean. The Davies-Bouldin Index indicated the optimal number of\n",
    "clusters when minimized and the Silhouette Coefficient does when\n",
    "maximized. All of the indications by the three measures agree two is the\n",
    "optimal number of clusters."
   ]
  },
  {
   "cell_type": "markdown",
   "id": "c32a1ac2",
   "metadata": {},
   "source": [
    "#### Linear Regression"
   ]
  },
  {
   "cell_type": "code",
   "execution_count": null,
   "id": "97c8a3ea",
   "metadata": {},
   "outputs": [],
   "source": [
    "tuner(linearRegScale, 'runClusteringModel', 'euclidean')"
   ]
  },
  {
   "cell_type": "code",
   "execution_count": null,
   "id": "dff957fb",
   "metadata": {},
   "outputs": [],
   "source": [
    "silhouetteScoreMeasure = 'euclidean'\n",
    "VRC, dBScore, silhouetteScore, mdlLabels = runClusteringModel(linearRegScale, silhouetteScoreMeasure, KMeans(n_clusters=2, random_state=210))\n",
    "printClusteringStats(VRC, dBScore, silhouetteScore, silhouetteScoreMeasure, mdlLabels)"
   ]
  },
  {
   "cell_type": "code",
   "execution_count": null,
   "id": "c983dbc2",
   "metadata": {},
   "outputs": [],
   "source": [
    "plot_silhouettes(linearRegScale, mdlLabels)"
   ]
  },
  {
   "cell_type": "code",
   "execution_count": null,
   "id": "8255775c",
   "metadata": {},
   "outputs": [],
   "source": [
    "silhouetteScoreMeasure = 'euclidean'\n",
    "VRC, dBScore, silhouetteScore, mdlLabels = runClusteringModel(linearRegScale, silhouetteScoreMeasure, KMeans(n_clusters=3, random_state=210))\n",
    "printClusteringStats(VRC, dBScore, silhouetteScore, silhouetteScoreMeasure, mdlLabels)"
   ]
  },
  {
   "cell_type": "code",
   "execution_count": null,
   "id": "48603b57",
   "metadata": {},
   "outputs": [],
   "source": [
    "plot_silhouettes(linearRegScale, mdlLabels)"
   ]
  },
  {
   "cell_type": "code",
   "execution_count": null,
   "id": "9c256388",
   "metadata": {},
   "outputs": [],
   "source": [
    "silhouetteScoreMeasure = 'euclidean'\n",
    "VRC, dBScore, silhouetteScore, mdlLabels = runClusteringModel(linearRegScale, silhouetteScoreMeasure, KMeans(n_clusters=6, random_state=210))\n",
    "printClusteringStats(VRC, dBScore, silhouetteScore, silhouetteScoreMeasure, mdlLabels)"
   ]
  },
  {
   "cell_type": "code",
   "execution_count": null,
   "id": "f7e40769",
   "metadata": {},
   "outputs": [],
   "source": [
    "plot_silhouettes(linearRegScale, mdlLabels)"
   ]
  },
  {
   "cell_type": "code",
   "execution_count": null,
   "id": "a0355b8f",
   "metadata": {},
   "outputs": [],
   "source": [
    "tuner(linearRegScale, 'runClusteringModel', 'cosine')"
   ]
  },
  {
   "cell_type": "code",
   "execution_count": null,
   "id": "25622282",
   "metadata": {},
   "outputs": [],
   "source": [
    "silhouetteScoreMeasure = 'cosine'\n",
    "VRC, dBScore, silhouetteScore, mdlLabels = runClusteringModel(linearRegScale, silhouetteScoreMeasure, KMeans(n_clusters=2, random_state=210))\n",
    "printClusteringStats(VRC, dBScore, silhouetteScore, silhouetteScoreMeasure, mdlLabels)"
   ]
  },
  {
   "cell_type": "code",
   "execution_count": null,
   "id": "25e92190",
   "metadata": {},
   "outputs": [],
   "source": [
    "plot_silhouettes(linearRegScale, mdlLabels)"
   ]
  },
  {
   "cell_type": "code",
   "execution_count": null,
   "id": "b69ae3c1",
   "metadata": {},
   "outputs": [],
   "source": [
    "silhouetteScoreMeasure = 'cosine'\n",
    "VRC, dBScore, silhouetteScore, mdlLabels = runClusteringModel(linearRegScale, silhouetteScoreMeasure, KMeans(n_clusters=3, random_state=210))\n",
    "printClusteringStats(VRC, dBScore, silhouetteScore, silhouetteScoreMeasure, mdlLabels)"
   ]
  },
  {
   "cell_type": "code",
   "execution_count": null,
   "id": "6d829bc4",
   "metadata": {},
   "outputs": [],
   "source": [
    "plot_silhouettes(linearRegScale, mdlLabels)"
   ]
  },
  {
   "cell_type": "code",
   "execution_count": null,
   "id": "a5fb8d22",
   "metadata": {},
   "outputs": [],
   "source": [
    "tuner(linearRegScale, 'runPCAClusteringModel', 'euclidean')"
   ]
  },
  {
   "cell_type": "code",
   "execution_count": null,
   "id": "c8b3785d",
   "metadata": {},
   "outputs": [],
   "source": [
    "silhouetteScoreMeasure = 'euclidean'\n",
    "VRC, dBScore, silhouetteScore, mdlLabels, numComp = runPCAClusteringModel(linearRegScale, silhouetteScoreMeasure, .95, KMeans(n_clusters=2, random_state=210))\n",
    "printClusteringStats(VRC, dBScore, silhouetteScore, silhouetteScoreMeasure, mdlLabels)"
   ]
  },
  {
   "cell_type": "code",
   "execution_count": null,
   "id": "39abfcff",
   "metadata": {},
   "outputs": [],
   "source": [
    "plot_silhouettes(linearRegScale, mdlLabels)"
   ]
  },
  {
   "cell_type": "code",
   "execution_count": null,
   "id": "69c85766",
   "metadata": {},
   "outputs": [],
   "source": [
    "silhouetteScoreMeasure = 'euclidean'\n",
    "VRC, dBScore, silhouetteScore, mdlLabels, numComp = runPCAClusteringModel(linearRegScale, silhouetteScoreMeasure, .95, KMeans(n_clusters=3, random_state=210))\n",
    "printClusteringStats(VRC, dBScore, silhouetteScore, silhouetteScoreMeasure, mdlLabels)"
   ]
  },
  {
   "cell_type": "code",
   "execution_count": null,
   "id": "17260409",
   "metadata": {},
   "outputs": [],
   "source": [
    "plot_silhouettes(linearRegScale, mdlLabels)"
   ]
  },
  {
   "cell_type": "code",
   "execution_count": null,
   "id": "d9efde42",
   "metadata": {},
   "outputs": [],
   "source": [
    "tuner(linearRegScale, 'runPCAClusteringModel', 'cosine')"
   ]
  },
  {
   "cell_type": "code",
   "execution_count": null,
   "id": "45275434",
   "metadata": {},
   "outputs": [],
   "source": [
    "silhouetteScoreMeasure = 'cosine'\n",
    "VRC, dBScore, silhouetteScore, mdlLabels, numComp = runPCAClusteringModel(linearRegScale, silhouetteScoreMeasure, .95, KMeans(n_clusters=2, random_state=210))\n",
    "printClusteringStats(VRC, dBScore, silhouetteScore, silhouetteScoreMeasure, mdlLabels)"
   ]
  },
  {
   "cell_type": "code",
   "execution_count": null,
   "id": "5825825f",
   "metadata": {},
   "outputs": [],
   "source": [
    "plot_silhouettes(linearRegScale, mdlLabels)"
   ]
  },
  {
   "cell_type": "code",
   "execution_count": null,
   "id": "7ce31b12",
   "metadata": {},
   "outputs": [],
   "source": [
    "silhouetteScoreMeasure = 'cosine'\n",
    "VRC, dBScore, silhouetteScore, mdlLabels, numComp = runPCAClusteringModel(linearRegScale, silhouetteScoreMeasure, .95, KMeans(n_clusters=3, random_state=210))\n",
    "printClusteringStats(VRC, dBScore, silhouetteScore, silhouetteScoreMeasure, mdlLabels)"
   ]
  },
  {
   "cell_type": "code",
   "execution_count": null,
   "id": "3d57e514",
   "metadata": {},
   "outputs": [],
   "source": [
    "plot_silhouettes(linearRegScale, mdlLabels)"
   ]
  },
  {
   "cell_type": "code",
   "execution_count": null,
   "id": "9e2aaa2d",
   "metadata": {},
   "outputs": [],
   "source": [
    "warnings.filterwarnings('ignore')\n",
    "cv = [(slice(None), slice(None))]\n",
    "paramDict = {'n_clusters': np.arange(2, 18)}\n",
    "grid = GridSearchCV(estimator=KMeans(random_state=210), param_grid=paramDict, \n",
    "                  scoring=silhouette_scorer, cv=cv, n_jobs=-1)\n",
    "grid.fit(linearRegScale)\n",
    "print(grid.best_params_) "
   ]
  },
  {
   "cell_type": "markdown",
   "id": "dcab9ae9",
   "metadata": {},
   "source": [
    "Obtain confirmation from GridSearchCV that 2 number of clusters produces\n",
    "the best Silhouette Coefficient.\n",
    "\n",
    "K-Means clustering with and without PCA transformed data did not perform\n",
    "well. The best Silhouette Coefficient produced was .19. The two clusters\n",
    "may represent functional and non functional water pumps."
   ]
  },
  {
   "cell_type": "markdown",
   "id": "2fe646f5",
   "metadata": {},
   "source": [
    "## Density-Based Spatial Clustering of Applications with Noise (DBSCAN)"
   ]
  },
  {
   "cell_type": "code",
   "execution_count": null,
   "id": "dcdfd063",
   "metadata": {},
   "outputs": [],
   "source": [
    "def dbTuner(data, model, simMeasure='euclidean', varCaptured = .95):\n",
    "    # X-axis values and those to be tested for k\n",
    "    x = np.linspace(.1, .4, 20)\n",
    "\n",
    "    # placeholders for evaluation measure scores.\n",
    "    VRCLst = []\n",
    "    dBScoreLst = []\n",
    "    silhouetteScoreLst = []\n",
    "\n",
    "    # Test different values for K\n",
    "    for eps in x:\n",
    "        if model == 'runClusteringModel':\n",
    "            VRC, dBScore, silhouetteScore, mdlLabels = runClusteringModel(data, simMeasure, DBSCAN(eps=eps))\n",
    "        else:\n",
    "            VRC, dBScore, silhouetteScore, mdlLabels, numComp = runPCAClusteringModel(data, simMeasure, varCaptured, DBSCAN(eps=eps))\n",
    "        VRCLst.append(VRC)\n",
    "        dBScoreLst.append(dBScore)\n",
    "        silhouetteScoreLst.append(silhouetteScore)\n",
    "\n",
    "    graphResults(x, VRCLst, dBScoreLst, silhouetteScoreLst)"
   ]
  },
  {
   "cell_type": "markdown",
   "id": "500db73a",
   "metadata": {},
   "source": [
    "#### Random Forest"
   ]
  },
  {
   "cell_type": "code",
   "execution_count": null,
   "id": "73594b4b",
   "metadata": {},
   "outputs": [],
   "source": [
    "dbTuner(randomForestScale, 'runClusteringModel', 'euclidean')"
   ]
  },
  {
   "cell_type": "code",
   "execution_count": null,
   "id": "5969afcb",
   "metadata": {},
   "outputs": [],
   "source": [
    "silhouetteScoreMeasure = 'euclidean'\n",
    "VRC, dBScore, silhouetteScore, mdlLabels = runClusteringModel(randomForestScale, silhouetteScoreMeasure, DBSCAN(eps=.1))\n",
    "printClusteringStats(VRC, dBScore, silhouetteScore, silhouetteScoreMeasure, mdlLabels)"
   ]
  },
  {
   "cell_type": "code",
   "execution_count": null,
   "id": "96aeaa90",
   "metadata": {},
   "outputs": [],
   "source": [
    "plot_silhouettes(randomForestScale, mdlLabels)"
   ]
  },
  {
   "cell_type": "code",
   "execution_count": null,
   "id": "3c4d0f74",
   "metadata": {},
   "outputs": [],
   "source": [
    "silhouetteScoreMeasure = 'euclidean'\n",
    "VRC, dBScore, silhouetteScore, mdlLabels = runClusteringModel(randomForestScale, silhouetteScoreMeasure, DBSCAN(eps=.15))\n",
    "printClusteringStats(VRC, dBScore, silhouetteScore, silhouetteScoreMeasure, mdlLabels)"
   ]
  },
  {
   "cell_type": "code",
   "execution_count": null,
   "id": "2f458f1c",
   "metadata": {},
   "outputs": [],
   "source": [
    "plot_silhouettes(randomForestScale, mdlLabels)"
   ]
  },
  {
   "cell_type": "code",
   "execution_count": null,
   "id": "3771149e",
   "metadata": {},
   "outputs": [],
   "source": [
    "silhouetteScoreMeasure = 'euclidean'\n",
    "VRC, dBScore, silhouetteScore, mdlLabels = runClusteringModel(randomForestScale, silhouetteScoreMeasure, DBSCAN(eps=.2))\n",
    "printClusteringStats(VRC, dBScore, silhouetteScore, silhouetteScoreMeasure, mdlLabels)"
   ]
  },
  {
   "cell_type": "code",
   "execution_count": null,
   "id": "668f8d40",
   "metadata": {},
   "outputs": [],
   "source": [
    "plot_silhouettes(randomForestScale, mdlLabels)"
   ]
  },
  {
   "cell_type": "code",
   "execution_count": null,
   "id": "56049125",
   "metadata": {},
   "outputs": [],
   "source": [
    "dbTuner(randomForestScale, 'runClusteringModel', 'cosine')"
   ]
  },
  {
   "cell_type": "code",
   "execution_count": null,
   "id": "57b815d7",
   "metadata": {},
   "outputs": [],
   "source": [
    "silhouetteScoreMeasure = 'cosine'\n",
    "VRC, dBScore, silhouetteScore, mdlLabels = runClusteringModel(randomForestScale, silhouetteScoreMeasure, DBSCAN(eps=.1))\n",
    "printClusteringStats(VRC, dBScore, silhouetteScore, silhouetteScoreMeasure, mdlLabels)"
   ]
  },
  {
   "cell_type": "code",
   "execution_count": null,
   "id": "e0877bd3",
   "metadata": {},
   "outputs": [],
   "source": [
    "plot_silhouettes(randomForestScale, mdlLabels)"
   ]
  },
  {
   "cell_type": "code",
   "execution_count": null,
   "id": "b752305c",
   "metadata": {},
   "outputs": [],
   "source": [
    "silhouetteScoreMeasure = 'cosine'\n",
    "VRC, dBScore, silhouetteScore, mdlLabels = runClusteringModel(randomForestScale, silhouetteScoreMeasure, DBSCAN(eps=.13))\n",
    "printClusteringStats(VRC, dBScore, silhouetteScore, silhouetteScoreMeasure, mdlLabels)"
   ]
  },
  {
   "cell_type": "code",
   "execution_count": null,
   "id": "7d0ded3e",
   "metadata": {},
   "outputs": [],
   "source": [
    "plot_silhouettes(randomForestScale, mdlLabels)"
   ]
  },
  {
   "cell_type": "code",
   "execution_count": null,
   "id": "0d0abdcf",
   "metadata": {},
   "outputs": [],
   "source": [
    "silhouetteScoreMeasure = 'cosine'\n",
    "VRC, dBScore, silhouetteScore, mdlLabels = runClusteringModel(randomForestScale, silhouetteScoreMeasure, DBSCAN(eps=.15))\n",
    "printClusteringStats(VRC, dBScore, silhouetteScore, silhouetteScoreMeasure, mdlLabels)"
   ]
  },
  {
   "cell_type": "code",
   "execution_count": null,
   "id": "6e5167d6",
   "metadata": {},
   "outputs": [],
   "source": [
    "plot_silhouettes(randomForestScale, mdlLabels)"
   ]
  },
  {
   "cell_type": "code",
   "execution_count": null,
   "id": "17c80b06",
   "metadata": {},
   "outputs": [],
   "source": [
    "dbTuner(randomForestScale, 'runPCAClusteringModel', 'euclidean')"
   ]
  },
  {
   "cell_type": "code",
   "execution_count": null,
   "id": "5484f18b",
   "metadata": {},
   "outputs": [],
   "source": [
    "silhouetteScoreMeasure = 'euclidean'\n",
    "VRC, dBScore, silhouetteScore, mdlLabels, numComp = runPCAClusteringModel(randomForestScale, silhouetteScoreMeasure, .95, DBSCAN(eps=.1))\n",
    "printClusteringStats(VRC, dBScore, silhouetteScore, silhouetteScoreMeasure, mdlLabels)"
   ]
  },
  {
   "cell_type": "code",
   "execution_count": null,
   "id": "7ba57ee6",
   "metadata": {},
   "outputs": [],
   "source": [
    "plot_silhouettes(randomForestScale, mdlLabels)"
   ]
  },
  {
   "cell_type": "code",
   "execution_count": null,
   "id": "3a298562",
   "metadata": {},
   "outputs": [],
   "source": [
    "silhouetteScoreMeasure = 'euclidean'\n",
    "VRC, dBScore, silhouetteScore, mdlLabels, numComp = runPCAClusteringModel(randomForestScale, silhouetteScoreMeasure, .95, DBSCAN(eps=.13))\n",
    "printClusteringStats(VRC, dBScore, silhouetteScore, silhouetteScoreMeasure, mdlLabels)"
   ]
  },
  {
   "cell_type": "code",
   "execution_count": null,
   "id": "188c07bd",
   "metadata": {},
   "outputs": [],
   "source": [
    "plot_silhouettes(randomForestScale, mdlLabels)"
   ]
  },
  {
   "cell_type": "code",
   "execution_count": null,
   "id": "9f55500e",
   "metadata": {},
   "outputs": [],
   "source": [
    "silhouetteScoreMeasure = 'euclidean'\n",
    "VRC, dBScore, silhouetteScore, mdlLabels, numComp = runPCAClusteringModel(randomForestScale, silhouetteScoreMeasure, .95, DBSCAN(eps=.15))\n",
    "printClusteringStats(VRC, dBScore, silhouetteScore, silhouetteScoreMeasure, mdlLabels)"
   ]
  },
  {
   "cell_type": "code",
   "execution_count": null,
   "id": "e1da1128",
   "metadata": {},
   "outputs": [],
   "source": [
    "plot_silhouettes(randomForestScale, mdlLabels)"
   ]
  },
  {
   "cell_type": "code",
   "execution_count": null,
   "id": "6d82805e",
   "metadata": {},
   "outputs": [],
   "source": [
    "dbTuner(randomForestScale, 'runPCAClusteringModel', 'cosine')"
   ]
  },
  {
   "cell_type": "code",
   "execution_count": null,
   "id": "1873cde1",
   "metadata": {},
   "outputs": [],
   "source": [
    "silhouetteScoreMeasure = 'cosine'\n",
    "VRC, dBScore, silhouetteScore, mdlLabels, numComp = runPCAClusteringModel(randomForestScale, silhouetteScoreMeasure, .95, DBSCAN(eps=.1))\n",
    "printClusteringStats(VRC, dBScore, silhouetteScore, silhouetteScoreMeasure, mdlLabels)"
   ]
  },
  {
   "cell_type": "code",
   "execution_count": null,
   "id": "ae048feb",
   "metadata": {},
   "outputs": [],
   "source": [
    "plot_silhouettes(randomForestScale, mdlLabels)"
   ]
  },
  {
   "cell_type": "code",
   "execution_count": null,
   "id": "57508fe2",
   "metadata": {},
   "outputs": [],
   "source": [
    "silhouetteScoreMeasure = 'cosine'\n",
    "VRC, dBScore, silhouetteScore, mdlLabels, numComp = runPCAClusteringModel(randomForestScale, silhouetteScoreMeasure, .95, DBSCAN(eps=.13))\n",
    "printClusteringStats(VRC, dBScore, silhouetteScore, silhouetteScoreMeasure, mdlLabels)"
   ]
  },
  {
   "cell_type": "code",
   "execution_count": null,
   "id": "beec5859",
   "metadata": {},
   "outputs": [],
   "source": [
    "plot_silhouettes(randomForestScale, mdlLabels)"
   ]
  },
  {
   "cell_type": "code",
   "execution_count": null,
   "id": "479df45b",
   "metadata": {},
   "outputs": [],
   "source": [
    "silhouetteScoreMeasure = 'cosine'\n",
    "VRC, dBScore, silhouetteScore, mdlLabels, numComp = runPCAClusteringModel(randomForestScale, silhouetteScoreMeasure, .95, DBSCAN(eps=.15))\n",
    "printClusteringStats(VRC, dBScore, silhouetteScore, silhouetteScoreMeasure, mdlLabels)"
   ]
  },
  {
   "cell_type": "code",
   "execution_count": null,
   "id": "902ae120",
   "metadata": {},
   "outputs": [],
   "source": [
    "plot_silhouettes(randomForestScale, mdlLabels)"
   ]
  },
  {
   "cell_type": "code",
   "execution_count": null,
   "id": "70a76ebc",
   "metadata": {},
   "outputs": [],
   "source": [
    "warnings.filterwarnings('ignore')\n",
    "cv = [(slice(None), slice(None))]\n",
    "paramDict = {'eps': np.linspace(.1, .4, 20)}\n",
    "grid = GridSearchCV(estimator=DBSCAN(), param_grid=paramDict, \n",
    "                  scoring=silhouette_scorer, cv=cv, n_jobs=-1)\n",
    "grid.fit(randomForestScale)\n",
    "print(grid.best_params_) "
   ]
  },
  {
   "cell_type": "markdown",
   "id": "9fcbb08a",
   "metadata": {},
   "source": [
    "#### Linear Regression"
   ]
  },
  {
   "cell_type": "code",
   "execution_count": null,
   "id": "c608b015",
   "metadata": {},
   "outputs": [],
   "source": [
    "dbTuner(linearRegScale, 'runClusteringModel', 'euclidean')"
   ]
  },
  {
   "cell_type": "code",
   "execution_count": null,
   "id": "7563f35e",
   "metadata": {},
   "outputs": [],
   "source": [
    "silhouetteScoreMeasure = 'euclidean'\n",
    "VRC, dBScore, silhouetteScore, mdlLabels = runClusteringModel(linearRegScale, silhouetteScoreMeasure, DBSCAN(eps=.1))\n",
    "printClusteringStats(VRC, dBScore, silhouetteScore, silhouetteScoreMeasure, mdlLabels)"
   ]
  },
  {
   "cell_type": "code",
   "execution_count": null,
   "id": "9cd88237",
   "metadata": {},
   "outputs": [],
   "source": [
    "plot_silhouettes(linearRegScale, mdlLabels)"
   ]
  },
  {
   "cell_type": "code",
   "execution_count": null,
   "id": "ea463006",
   "metadata": {},
   "outputs": [],
   "source": [
    "silhouetteScoreMeasure = 'euclidean'\n",
    "VRC, dBScore, silhouetteScore, mdlLabels = runClusteringModel(linearRegScale, silhouetteScoreMeasure, DBSCAN(eps=.12))\n",
    "printClusteringStats(VRC, dBScore, silhouetteScore, silhouetteScoreMeasure, mdlLabels)"
   ]
  },
  {
   "cell_type": "code",
   "execution_count": null,
   "id": "7d800506",
   "metadata": {},
   "outputs": [],
   "source": [
    "plot_silhouettes(linearRegScale, mdlLabels)"
   ]
  },
  {
   "cell_type": "code",
   "execution_count": null,
   "id": "731e6e52",
   "metadata": {},
   "outputs": [],
   "source": [
    "silhouetteScoreMeasure = 'euclidean'\n",
    "VRC, dBScore, silhouetteScore, mdlLabels = runClusteringModel(linearRegScale, silhouetteScoreMeasure, DBSCAN(eps=.13))\n",
    "printClusteringStats(VRC, dBScore, silhouetteScore, silhouetteScoreMeasure, mdlLabels)"
   ]
  },
  {
   "cell_type": "code",
   "execution_count": null,
   "id": "142cfb4a",
   "metadata": {},
   "outputs": [],
   "source": [
    "plot_silhouettes(linearRegScale, mdlLabels)"
   ]
  },
  {
   "cell_type": "code",
   "execution_count": null,
   "id": "23f8829c",
   "metadata": {},
   "outputs": [],
   "source": [
    "dbTuner(linearRegScale, 'runClusteringModel', 'cosine')"
   ]
  },
  {
   "cell_type": "code",
   "execution_count": null,
   "id": "a44530dd",
   "metadata": {},
   "outputs": [],
   "source": [
    "silhouetteScoreMeasure = 'cosine'\n",
    "VRC, dBScore, silhouetteScore, mdlLabels = runClusteringModel(linearRegScale, silhouetteScoreMeasure, DBSCAN(eps=.1))\n",
    "printClusteringStats(VRC, dBScore, silhouetteScore, silhouetteScoreMeasure, mdlLabels)"
   ]
  },
  {
   "cell_type": "code",
   "execution_count": null,
   "id": "931576a0",
   "metadata": {},
   "outputs": [],
   "source": [
    "plot_silhouettes(linearRegScale, mdlLabels)"
   ]
  },
  {
   "cell_type": "code",
   "execution_count": null,
   "id": "56cab107",
   "metadata": {},
   "outputs": [],
   "source": [
    "silhouetteScoreMeasure = 'cosine'\n",
    "VRC, dBScore, silhouetteScore, mdlLabels = runClusteringModel(linearRegScale, silhouetteScoreMeasure, DBSCAN(eps=.12))\n",
    "printClusteringStats(VRC, dBScore, silhouetteScore, silhouetteScoreMeasure, mdlLabels)"
   ]
  },
  {
   "cell_type": "code",
   "execution_count": null,
   "id": "db2c6867",
   "metadata": {},
   "outputs": [],
   "source": [
    "plot_silhouettes(linearRegScale, mdlLabels)"
   ]
  },
  {
   "cell_type": "code",
   "execution_count": null,
   "id": "5e8e4498",
   "metadata": {},
   "outputs": [],
   "source": [
    "silhouetteScoreMeasure = 'cosine'\n",
    "VRC, dBScore, silhouetteScore, mdlLabels = runClusteringModel(linearRegScale, silhouetteScoreMeasure, DBSCAN(eps=.13))\n",
    "printClusteringStats(VRC, dBScore, silhouetteScore, silhouetteScoreMeasure, mdlLabels)"
   ]
  },
  {
   "cell_type": "code",
   "execution_count": null,
   "id": "995e20b9",
   "metadata": {},
   "outputs": [],
   "source": [
    "plot_silhouettes(linearRegScale, mdlLabels)"
   ]
  },
  {
   "cell_type": "code",
   "execution_count": null,
   "id": "4585e845",
   "metadata": {},
   "outputs": [],
   "source": [
    "dbTuner(linearRegScale, 'runPCAClusteringModel', 'euclidean')"
   ]
  },
  {
   "cell_type": "code",
   "execution_count": null,
   "id": "4cda9122",
   "metadata": {},
   "outputs": [],
   "source": [
    "silhouetteScoreMeasure = 'cosine'\n",
    "VRC, dBScore, silhouetteScore, mdlLabels, numComp = runPCAClusteringModel(linearRegScale, silhouetteScoreMeasure, .95, DBSCAN(eps=.1))\n",
    "printClusteringStats(VRC, dBScore, silhouetteScore, silhouetteScoreMeasure, mdlLabels)"
   ]
  },
  {
   "cell_type": "code",
   "execution_count": null,
   "id": "fc590810",
   "metadata": {},
   "outputs": [],
   "source": [
    "plot_silhouettes(linearRegScale, mdlLabels)"
   ]
  },
  {
   "cell_type": "code",
   "execution_count": null,
   "id": "7e61e217",
   "metadata": {},
   "outputs": [],
   "source": [
    "silhouetteScoreMeasure = 'cosine'\n",
    "VRC, dBScore, silhouetteScore, mdlLabels, numComp = runPCAClusteringModel(linearRegScale, silhouetteScoreMeasure, .95, DBSCAN(eps=.115))\n",
    "printClusteringStats(VRC, dBScore, silhouetteScore, silhouetteScoreMeasure, mdlLabels)"
   ]
  },
  {
   "cell_type": "code",
   "execution_count": null,
   "id": "df908d53",
   "metadata": {},
   "outputs": [],
   "source": [
    "plot_silhouettes(linearRegScale, mdlLabels)"
   ]
  },
  {
   "cell_type": "code",
   "execution_count": null,
   "id": "e8e1e269",
   "metadata": {},
   "outputs": [],
   "source": [
    "silhouetteScoreMeasure = 'cosine'\n",
    "VRC, dBScore, silhouetteScore, mdlLabels, numComp = runPCAClusteringModel(linearRegScale, silhouetteScoreMeasure, .95, DBSCAN(eps=.125))\n",
    "printClusteringStats(VRC, dBScore, silhouetteScore, silhouetteScoreMeasure, mdlLabels)"
   ]
  },
  {
   "cell_type": "code",
   "execution_count": null,
   "id": "495487ac",
   "metadata": {},
   "outputs": [],
   "source": [
    "plot_silhouettes(linearRegScale, mdlLabels)"
   ]
  },
  {
   "cell_type": "code",
   "execution_count": null,
   "id": "3cb1269b",
   "metadata": {},
   "outputs": [],
   "source": [
    "dbTuner(linearRegScale, 'runPCAClusteringModel', 'cosine')"
   ]
  },
  {
   "cell_type": "code",
   "execution_count": null,
   "id": "84e49ac0",
   "metadata": {},
   "outputs": [],
   "source": [
    "silhouetteScoreMeasure = 'cosine'\n",
    "VRC, dBScore, silhouetteScore, mdlLabels, numComp = runPCAClusteringModel(linearRegScale, silhouetteScoreMeasure, .95, DBSCAN(eps=.1))\n",
    "printClusteringStats(VRC, dBScore, silhouetteScore, silhouetteScoreMeasure, mdlLabels)"
   ]
  },
  {
   "cell_type": "code",
   "execution_count": null,
   "id": "67ebef6f",
   "metadata": {},
   "outputs": [],
   "source": [
    "plot_silhouettes(linearRegScale, mdlLabels)"
   ]
  },
  {
   "cell_type": "code",
   "execution_count": null,
   "id": "404d1804",
   "metadata": {},
   "outputs": [],
   "source": [
    "silhouetteScoreMeasure = 'cosine'\n",
    "VRC, dBScore, silhouetteScore, mdlLabels, numComp = runPCAClusteringModel(linearRegScale, silhouetteScoreMeasure, .95, DBSCAN(eps=.115))\n",
    "printClusteringStats(VRC, dBScore, silhouetteScore, silhouetteScoreMeasure, mdlLabels)"
   ]
  },
  {
   "cell_type": "code",
   "execution_count": null,
   "id": "c0625c8b",
   "metadata": {},
   "outputs": [],
   "source": [
    "plot_silhouettes(linearRegScale, mdlLabels)"
   ]
  },
  {
   "cell_type": "code",
   "execution_count": null,
   "id": "d2b8e782",
   "metadata": {},
   "outputs": [],
   "source": [
    "silhouetteScoreMeasure = 'cosine'\n",
    "VRC, dBScore, silhouetteScore, mdlLabels, numComp = runPCAClusteringModel(linearRegScale, silhouetteScoreMeasure, .95, DBSCAN(eps=.125))\n",
    "printClusteringStats(VRC, dBScore, silhouetteScore, silhouetteScoreMeasure, mdlLabels)"
   ]
  },
  {
   "cell_type": "code",
   "execution_count": null,
   "id": "e59d9f45",
   "metadata": {},
   "outputs": [],
   "source": [
    "plot_silhouettes(linearRegScale, mdlLabels)"
   ]
  },
  {
   "cell_type": "code",
   "execution_count": null,
   "id": "ee3fd158",
   "metadata": {},
   "outputs": [],
   "source": [
    "warnings.filterwarnings('ignore')\n",
    "cv = [(slice(None), slice(None))]\n",
    "paramDict = {'eps': np.linspace(.1, .4, 20)}\n",
    "grid = GridSearchCV(estimator=DBSCAN(), param_grid=paramDict, \n",
    "                  scoring=silhouette_scorer, cv=cv, n_jobs=-1)\n",
    "grid.fit(linearRegScale)\n",
    "print(grid.best_params_) "
   ]
  },
  {
   "cell_type": "markdown",
   "id": "20ebd040",
   "metadata": {},
   "source": [
    "GridSearchCV indicates the best eps is 0.1, lower than that indicated by\n",
    "the three measures graphed above.\n",
    "\n",
    "Density-Based Spatial Clustering of Applications with Noise is producing\n",
    "too many small clusters to be useful. Noise is accounting for the\n",
    "largest share of instances, then there are hundreds of many small\n",
    "clusters that make up around 1.4% or less of the instances in the data\n",
    "set."
   ]
  },
  {
   "cell_type": "markdown",
   "id": "27d96457",
   "metadata": {},
   "source": [
    "## Hierarchical Clustering"
   ]
  },
  {
   "cell_type": "code",
   "execution_count": null,
   "id": "e1dba91d",
   "metadata": {},
   "outputs": [],
   "source": [
    "def hierTuning(data, model, simMeasure='euclidean', varCaptured = .95, affinity='euclidean', linkage='ward'):\n",
    "\n",
    "    # X-axis values and those to be tested for k\n",
    "    x = np.arange(2, 11)\n",
    "\n",
    "    # placeholders for evaluation measure scores.\n",
    "    VRCLst = []\n",
    "    dBScoreLst = []\n",
    "    silhouetteScoreLst = []\n",
    "\n",
    "    # Test different values for K\n",
    "    for numClusters in x:        \n",
    "        if model == 'runClusteringModel':\n",
    "            VRC, dBScore, silhouetteScore, mdlLabels = runClusteringModel(data, simMeasure, AgglomerativeClustering(n_clusters=numClusters, affinity=affinity, linkage=linkage))\n",
    "        else:\n",
    "            VRC, dBScore, silhouetteScore, mdlLabels, numComp = runPCAClusteringModel(data, simMeasure, varCaptured, AgglomerativeClustering(n_clusters=numClusters, affinity=affinity, linkage=linkage))\n",
    "\n",
    "        VRCLst.append(VRC)\n",
    "        dBScoreLst.append(dBScore)\n",
    "        silhouetteScoreLst.append(silhouetteScore)\n",
    "\n",
    "    graphResults(x, VRCLst, dBScoreLst, silhouetteScoreLst)\n",
    "\n",
    "    "
   ]
  },
  {
   "cell_type": "code",
   "execution_count": null,
   "id": "a832a3e3",
   "metadata": {},
   "outputs": [],
   "source": [
    "hierTuning(randomForestScale, 'runClusteringModel', simMeasure='euclidean', affinity='euclidean', linkage='ward')"
   ]
  },
  {
   "cell_type": "code",
   "execution_count": null,
   "id": "cd7d0ab8",
   "metadata": {},
   "outputs": [],
   "source": [
    "silhouetteScoreMeasure = 'euclidean'\n",
    "VRC, dBScore, silhouetteScore, mdlLabels = runClusteringModel(randomForestScale, silhouetteScoreMeasure, AgglomerativeClustering(n_clusters=2, affinity='euclidean', linkage='ward'))\n",
    "printClusteringStats(VRC, dBScore, silhouetteScore, silhouetteScoreMeasure, mdlLabels)"
   ]
  },
  {
   "cell_type": "code",
   "execution_count": null,
   "id": "1898b30e",
   "metadata": {},
   "outputs": [],
   "source": [
    "plot_silhouettes(randomForestScale, mdlLabels)"
   ]
  },
  {
   "cell_type": "code",
   "execution_count": null,
   "id": "bf2b5deb",
   "metadata": {},
   "outputs": [],
   "source": [
    "silhouetteScoreMeasure = 'euclidean'\n",
    "VRC, dBScore, silhouetteScore, mdlLabels = runClusteringModel(randomForestScale, silhouetteScoreMeasure, AgglomerativeClustering(n_clusters=3, affinity='euclidean', linkage='ward'))\n",
    "printClusteringStats(VRC, dBScore, silhouetteScore, silhouetteScoreMeasure, mdlLabels)"
   ]
  },
  {
   "cell_type": "code",
   "execution_count": null,
   "id": "81f0375d",
   "metadata": {},
   "outputs": [],
   "source": [
    "plot_silhouettes(randomForestScale, mdlLabels)"
   ]
  },
  {
   "cell_type": "code",
   "execution_count": null,
   "id": "5ae48426",
   "metadata": {},
   "outputs": [],
   "source": [
    "hierTuning(randomForestScale, 'runClusteringModel', simMeasure='euclidean', affinity='euclidean', linkage='complete')"
   ]
  },
  {
   "cell_type": "code",
   "execution_count": null,
   "id": "813eafd6",
   "metadata": {},
   "outputs": [],
   "source": [
    "silhouetteScoreMeasure = 'euclidean'\n",
    "VRC, dBScore, silhouetteScore, mdlLabels = runClusteringModel(randomForestScale, silhouetteScoreMeasure, AgglomerativeClustering(n_clusters=2, affinity='euclidean', linkage='complete'))\n",
    "printClusteringStats(VRC, dBScore, silhouetteScore, silhouetteScoreMeasure, mdlLabels)"
   ]
  },
  {
   "cell_type": "code",
   "execution_count": null,
   "id": "9dc66a44",
   "metadata": {},
   "outputs": [],
   "source": [
    "plot_silhouettes(randomForestScale, mdlLabels)"
   ]
  },
  {
   "cell_type": "code",
   "execution_count": null,
   "id": "ff1ea165",
   "metadata": {},
   "outputs": [],
   "source": [
    "silhouetteScoreMeasure = 'euclidean'\n",
    "VRC, dBScore, silhouetteScore, mdlLabels = runClusteringModel(randomForestScale, silhouetteScoreMeasure, AgglomerativeClustering(n_clusters=3, affinity='euclidean', linkage='complete'))\n",
    "printClusteringStats(VRC, dBScore, silhouetteScore, silhouetteScoreMeasure, mdlLabels)"
   ]
  },
  {
   "cell_type": "code",
   "execution_count": null,
   "id": "e0057d92",
   "metadata": {},
   "outputs": [],
   "source": [
    "plot_silhouettes(randomForestScale, mdlLabels)"
   ]
  },
  {
   "cell_type": "code",
   "execution_count": null,
   "id": "f4dde28c",
   "metadata": {},
   "outputs": [],
   "source": [
    "silhouetteScoreMeasure = 'euclidean'\n",
    "VRC, dBScore, silhouetteScore, mdlLabels = runClusteringModel(randomForestScale, silhouetteScoreMeasure, AgglomerativeClustering(n_clusters=6, affinity='euclidean', linkage='complete'))\n",
    "printClusteringStats(VRC, dBScore, silhouetteScore, silhouetteScoreMeasure, mdlLabels)"
   ]
  },
  {
   "cell_type": "code",
   "execution_count": null,
   "id": "d0908c0e",
   "metadata": {},
   "outputs": [],
   "source": [
    "plot_silhouettes(randomForestScale, mdlLabels)"
   ]
  },
  {
   "cell_type": "code",
   "execution_count": null,
   "id": "597447ed",
   "metadata": {},
   "outputs": [],
   "source": [
    "silhouetteScoreMeasure = 'euclidean'\n",
    "VRC, dBScore, silhouetteScore, mdlLabels = runClusteringModel(randomForestScale, silhouetteScoreMeasure, AgglomerativeClustering(n_clusters=6, affinity='euclidean', linkage='complete'))\n",
    "printClusteringStats(VRC, dBScore, silhouetteScore, silhouetteScoreMeasure, mdlLabels)"
   ]
  },
  {
   "cell_type": "code",
   "execution_count": null,
   "id": "b0fd6fc3",
   "metadata": {},
   "outputs": [],
   "source": [
    "plot_silhouettes(randomForestScale, mdlLabels)"
   ]
  },
  {
   "cell_type": "code",
   "execution_count": null,
   "id": "398edec4",
   "metadata": {},
   "outputs": [],
   "source": [
    "hierTuning(randomForestScale, 'runClusteringModel', simMeasure='euclidean', affinity='euclidean', linkage='average')"
   ]
  },
  {
   "cell_type": "code",
   "execution_count": null,
   "id": "ac1adfcf",
   "metadata": {},
   "outputs": [],
   "source": [
    "silhouetteScoreMeasure = 'euclidean'\n",
    "VRC, dBScore, silhouetteScore, mdlLabels = runClusteringModel(randomForestScale, silhouetteScoreMeasure, AgglomerativeClustering(n_clusters=2, affinity='euclidean', linkage='average'))\n",
    "printClusteringStats(VRC, dBScore, silhouetteScore, silhouetteScoreMeasure, mdlLabels)"
   ]
  },
  {
   "cell_type": "code",
   "execution_count": null,
   "id": "57709552",
   "metadata": {},
   "outputs": [],
   "source": [
    "plot_silhouettes(randomForestScale, mdlLabels)"
   ]
  },
  {
   "cell_type": "code",
   "execution_count": null,
   "id": "bb7fb728",
   "metadata": {},
   "outputs": [],
   "source": [
    "silhouetteScoreMeasure = 'euclidean'\n",
    "VRC, dBScore, silhouetteScore, mdlLabels = runClusteringModel(randomForestScale, silhouetteScoreMeasure, AgglomerativeClustering(n_clusters=5, affinity='euclidean', linkage='average'))\n",
    "printClusteringStats(VRC, dBScore, silhouetteScore, silhouetteScoreMeasure, mdlLabels)"
   ]
  },
  {
   "cell_type": "code",
   "execution_count": null,
   "id": "0c85fcad",
   "metadata": {},
   "outputs": [],
   "source": [
    "plot_silhouettes(randomForestScale, mdlLabels)"
   ]
  },
  {
   "cell_type": "code",
   "execution_count": null,
   "id": "c9c6124e",
   "metadata": {},
   "outputs": [],
   "source": [
    "hierTuning(randomForestScale, 'runClusteringModel', simMeasure='euclidean', affinity='euclidean', linkage='single')"
   ]
  },
  {
   "cell_type": "code",
   "execution_count": null,
   "id": "3aad397c",
   "metadata": {},
   "outputs": [],
   "source": [
    "silhouetteScoreMeasure = 'euclidean'\n",
    "VRC, dBScore, silhouetteScore, mdlLabels = runClusteringModel(randomForestScale, silhouetteScoreMeasure, AgglomerativeClustering(n_clusters=2, affinity='euclidean', linkage='single'))\n",
    "printClusteringStats(VRC, dBScore, silhouetteScore, silhouetteScoreMeasure, mdlLabels)"
   ]
  },
  {
   "cell_type": "code",
   "execution_count": null,
   "id": "5412ca77",
   "metadata": {},
   "outputs": [],
   "source": [
    "plot_silhouettes(randomForestScale, mdlLabels)"
   ]
  },
  {
   "cell_type": "code",
   "execution_count": null,
   "id": "c18a246f",
   "metadata": {},
   "outputs": [],
   "source": [
    "silhouetteScoreMeasure = 'euclidean'\n",
    "VRC, dBScore, silhouetteScore, mdlLabels = runClusteringModel(randomForestScale, silhouetteScoreMeasure, AgglomerativeClustering(n_clusters=3, affinity='euclidean', linkage='single'))\n",
    "printClusteringStats(VRC, dBScore, silhouetteScore, silhouetteScoreMeasure, mdlLabels)"
   ]
  },
  {
   "cell_type": "code",
   "execution_count": null,
   "id": "715210ea",
   "metadata": {},
   "outputs": [],
   "source": [
    "plot_silhouettes(randomForestScale, mdlLabels)"
   ]
  },
  {
   "cell_type": "code",
   "execution_count": null,
   "id": "a11debba",
   "metadata": {},
   "outputs": [],
   "source": [
    "hierTuning(randomForestScale, 'runClusteringModel', simMeasure='cosine', affinity='euclidean', linkage='ward')"
   ]
  },
  {
   "cell_type": "code",
   "execution_count": null,
   "id": "226a816e",
   "metadata": {},
   "outputs": [],
   "source": [
    "silhouetteScoreMeasure = 'cosine'\n",
    "VRC, dBScore, silhouetteScore, mdlLabels = runClusteringModel(randomForestScale, silhouetteScoreMeasure, AgglomerativeClustering(n_clusters=2, affinity='euclidean', linkage='ward'))\n",
    "printClusteringStats(VRC, dBScore, silhouetteScore, silhouetteScoreMeasure, mdlLabels)"
   ]
  },
  {
   "cell_type": "code",
   "execution_count": null,
   "id": "e50a8ccf",
   "metadata": {},
   "outputs": [],
   "source": [
    "plot_silhouettes(randomForestScale, mdlLabels)"
   ]
  },
  {
   "cell_type": "code",
   "execution_count": null,
   "id": "1b0a0659",
   "metadata": {},
   "outputs": [],
   "source": [
    "silhouetteScoreMeasure = 'cosine'\n",
    "VRC, dBScore, silhouetteScore, mdlLabels = runClusteringModel(randomForestScale, silhouetteScoreMeasure, AgglomerativeClustering(n_clusters=3, affinity='euclidean', linkage='ward'))\n",
    "printClusteringStats(VRC, dBScore, silhouetteScore, silhouetteScoreMeasure, mdlLabels)"
   ]
  },
  {
   "cell_type": "code",
   "execution_count": null,
   "id": "60ab7837",
   "metadata": {},
   "outputs": [],
   "source": [
    "plot_silhouettes(randomForestScale, mdlLabels)"
   ]
  },
  {
   "cell_type": "code",
   "execution_count": null,
   "id": "eeb5ebab",
   "metadata": {},
   "outputs": [],
   "source": [
    "silhouetteScoreMeasure = 'cosine'\n",
    "VRC, dBScore, silhouetteScore, mdlLabels = runClusteringModel(randomForestScale, silhouetteScoreMeasure, AgglomerativeClustering(n_clusters=4, affinity='euclidean', linkage='ward'))\n",
    "printClusteringStats(VRC, dBScore, silhouetteScore, silhouetteScoreMeasure, mdlLabels)"
   ]
  },
  {
   "cell_type": "code",
   "execution_count": null,
   "id": "fb49bf83",
   "metadata": {},
   "outputs": [],
   "source": [
    "plot_silhouettes(randomForestScale, mdlLabels)"
   ]
  },
  {
   "cell_type": "code",
   "execution_count": null,
   "id": "1aee071c",
   "metadata": {},
   "outputs": [],
   "source": [
    "hierTuning(randomForestScale, 'runClusteringModel', simMeasure='cosine', affinity='cosine', linkage='complete')"
   ]
  },
  {
   "cell_type": "code",
   "execution_count": null,
   "id": "03c9ae30",
   "metadata": {},
   "outputs": [],
   "source": [
    "silhouetteScoreMeasure = 'cosine'\n",
    "VRC, dBScore, silhouetteScore, mdlLabels = runClusteringModel(randomForestScale, silhouetteScoreMeasure, AgglomerativeClustering(n_clusters=2, affinity='cosine', linkage='complete'))\n",
    "printClusteringStats(VRC, dBScore, silhouetteScore, silhouetteScoreMeasure, mdlLabels)"
   ]
  },
  {
   "cell_type": "code",
   "execution_count": null,
   "id": "1eef6a01",
   "metadata": {},
   "outputs": [],
   "source": [
    "plot_silhouettes(randomForestScale, mdlLabels)"
   ]
  },
  {
   "cell_type": "code",
   "execution_count": null,
   "id": "7502007f",
   "metadata": {},
   "outputs": [],
   "source": [
    "silhouetteScoreMeasure = 'cosine'\n",
    "VRC, dBScore, silhouetteScore, mdlLabels = runClusteringModel(randomForestScale, silhouetteScoreMeasure, AgglomerativeClustering(n_clusters=3, affinity='cosine', linkage='complete'))\n",
    "printClusteringStats(VRC, dBScore, silhouetteScore, silhouetteScoreMeasure, mdlLabels)"
   ]
  },
  {
   "cell_type": "code",
   "execution_count": null,
   "id": "685826f5",
   "metadata": {},
   "outputs": [],
   "source": [
    "plot_silhouettes(randomForestScale, mdlLabels)"
   ]
  },
  {
   "cell_type": "code",
   "execution_count": null,
   "id": "c7d0379a",
   "metadata": {},
   "outputs": [],
   "source": [
    "hierTuning(randomForestScale, 'runClusteringModel', simMeasure='cosine', affinity='cosine', linkage='average')"
   ]
  },
  {
   "cell_type": "code",
   "execution_count": null,
   "id": "07b57bad",
   "metadata": {},
   "outputs": [],
   "source": [
    "silhouetteScoreMeasure = 'cosine'\n",
    "VRC, dBScore, silhouetteScore, mdlLabels = runClusteringModel(randomForestScale, silhouetteScoreMeasure, AgglomerativeClustering(n_clusters=2, affinity='cosine', linkage='average'))\n",
    "printClusteringStats(VRC, dBScore, silhouetteScore, silhouetteScoreMeasure, mdlLabels)"
   ]
  },
  {
   "cell_type": "code",
   "execution_count": null,
   "id": "1d7591dd",
   "metadata": {},
   "outputs": [],
   "source": [
    "plot_silhouettes(randomForestScale, mdlLabels)"
   ]
  },
  {
   "cell_type": "code",
   "execution_count": null,
   "id": "b84996d3",
   "metadata": {},
   "outputs": [],
   "source": [
    "silhouetteScoreMeasure = 'cosine'\n",
    "VRC, dBScore, silhouetteScore, mdlLabels = runClusteringModel(randomForestScale, silhouetteScoreMeasure, AgglomerativeClustering(n_clusters=3, affinity='cosine', linkage='average'))\n",
    "printClusteringStats(VRC, dBScore, silhouetteScore, silhouetteScoreMeasure, mdlLabels)"
   ]
  },
  {
   "cell_type": "code",
   "execution_count": null,
   "id": "925ff682",
   "metadata": {},
   "outputs": [],
   "source": [
    "plot_silhouettes(randomForestScale, mdlLabels)"
   ]
  },
  {
   "cell_type": "code",
   "execution_count": null,
   "id": "32f81392",
   "metadata": {},
   "outputs": [],
   "source": [
    "silhouetteScoreMeasure = 'cosine'\n",
    "VRC, dBScore, silhouetteScore, mdlLabels = runClusteringModel(randomForestScale, silhouetteScoreMeasure, AgglomerativeClustering(n_clusters=7, affinity='cosine', linkage='average'))\n",
    "printClusteringStats(VRC, dBScore, silhouetteScore, silhouetteScoreMeasure, mdlLabels)"
   ]
  },
  {
   "cell_type": "code",
   "execution_count": null,
   "id": "d60aee4e",
   "metadata": {},
   "outputs": [],
   "source": [
    "plot_silhouettes(randomForestScale, mdlLabels)"
   ]
  },
  {
   "cell_type": "code",
   "execution_count": null,
   "id": "a51d3a6f",
   "metadata": {},
   "outputs": [],
   "source": [
    "silhouetteScoreMeasure = 'cosine'\n",
    "VRC, dBScore, silhouetteScore, mdlLabels = runClusteringModel(randomForestScale, silhouetteScoreMeasure, AgglomerativeClustering(n_clusters=8, affinity='cosine', linkage='average'))\n",
    "printClusteringStats(VRC, dBScore, silhouetteScore, silhouetteScoreMeasure, mdlLabels)"
   ]
  },
  {
   "cell_type": "code",
   "execution_count": null,
   "id": "60f9a8e6",
   "metadata": {},
   "outputs": [],
   "source": [
    "plot_silhouettes(randomForestScale, mdlLabels)"
   ]
  },
  {
   "cell_type": "code",
   "execution_count": null,
   "id": "0153cf72",
   "metadata": {},
   "outputs": [],
   "source": [
    "hierTuning(randomForestScale, 'runClusteringModel', simMeasure='cosine', affinity='cosine', linkage='single')"
   ]
  },
  {
   "cell_type": "code",
   "execution_count": null,
   "id": "0ae56349",
   "metadata": {},
   "outputs": [],
   "source": [
    "silhouetteScoreMeasure = 'cosine'\n",
    "VRC, dBScore, silhouetteScore, mdlLabels = runClusteringModel(randomForestScale, silhouetteScoreMeasure, AgglomerativeClustering(n_clusters=2, affinity='cosine', linkage='single'))\n",
    "printClusteringStats(VRC, dBScore, silhouetteScore, silhouetteScoreMeasure, mdlLabels)"
   ]
  },
  {
   "cell_type": "code",
   "execution_count": null,
   "id": "4c39ea48",
   "metadata": {},
   "outputs": [],
   "source": [
    "plot_silhouettes(randomForestScale, mdlLabels)"
   ]
  },
  {
   "cell_type": "code",
   "execution_count": null,
   "id": "badfc42d",
   "metadata": {},
   "outputs": [],
   "source": [
    "silhouetteScoreMeasure = 'cosine'\n",
    "VRC, dBScore, silhouetteScore, mdlLabels = runClusteringModel(randomForestScale, silhouetteScoreMeasure, AgglomerativeClustering(n_clusters=3, affinity='cosine', linkage='single'))\n",
    "printClusteringStats(VRC, dBScore, silhouetteScore, silhouetteScoreMeasure, mdlLabels)"
   ]
  },
  {
   "cell_type": "code",
   "execution_count": null,
   "id": "16c42425",
   "metadata": {},
   "outputs": [],
   "source": [
    "plot_silhouettes(randomForestScale, mdlLabels)"
   ]
  },
  {
   "cell_type": "code",
   "execution_count": null,
   "id": "afd88a2c",
   "metadata": {},
   "outputs": [],
   "source": [
    "hierTuning(randomForestScale, 'runPCAClusteringModel', simMeasure='euclidean', affinity='euclidean', linkage='ward')"
   ]
  },
  {
   "cell_type": "code",
   "execution_count": null,
   "id": "a953ddbc",
   "metadata": {},
   "outputs": [],
   "source": [
    "silhouetteScoreMeasure = 'euclidean'\n",
    "VRC, dBScore, silhouetteScore, mdlLabels, numComp = runPCAClusteringModel(randomForestScale, silhouetteScoreMeasure, .95, AgglomerativeClustering(n_clusters=2, affinity='euclidean', linkage='ward'))\n",
    "printClusteringStats(VRC, dBScore, silhouetteScore, silhouetteScoreMeasure, mdlLabels)"
   ]
  },
  {
   "cell_type": "code",
   "execution_count": null,
   "id": "5083257c",
   "metadata": {},
   "outputs": [],
   "source": [
    "plot_silhouettes(randomForestScale, mdlLabels)"
   ]
  },
  {
   "cell_type": "code",
   "execution_count": null,
   "id": "9c4dd891",
   "metadata": {},
   "outputs": [],
   "source": [
    "silhouetteScoreMeasure = 'euclidean'\n",
    "VRC, dBScore, silhouetteScore, mdlLabels, numComp = runPCAClusteringModel(randomForestScale, silhouetteScoreMeasure, .95, AgglomerativeClustering(n_clusters=2, affinity='euclidean', linkage='ward'))\n",
    "printClusteringStats(VRC, dBScore, silhouetteScore, silhouetteScoreMeasure, mdlLabels)"
   ]
  },
  {
   "cell_type": "code",
   "execution_count": null,
   "id": "bb1b92b6",
   "metadata": {},
   "outputs": [],
   "source": [
    "plot_silhouettes(randomForestScale, mdlLabels)"
   ]
  },
  {
   "cell_type": "code",
   "execution_count": null,
   "id": "4c3ff368",
   "metadata": {},
   "outputs": [],
   "source": [
    "silhouetteScoreMeasure = 'euclidean'\n",
    "VRC, dBScore, silhouetteScore, mdlLabels, numComp = runPCAClusteringModel(randomForestScale, silhouetteScoreMeasure, .95, AgglomerativeClustering(n_clusters=2, affinity='euclidean', linkage='ward'))\n",
    "printClusteringStats(VRC, dBScore, silhouetteScore, silhouetteScoreMeasure, mdlLabels)"
   ]
  },
  {
   "cell_type": "code",
   "execution_count": null,
   "id": "90255b95",
   "metadata": {},
   "outputs": [],
   "source": [
    "plot_silhouettes(randomForestScale, mdlLabels)"
   ]
  },
  {
   "cell_type": "code",
   "execution_count": null,
   "id": "47934010",
   "metadata": {},
   "outputs": [],
   "source": [
    "hierTuning(randomForestScale, 'runPCAClusteringModel', simMeasure='euclidean', varCaptured = .95, affinity='euclidean', linkage='complete')"
   ]
  },
  {
   "cell_type": "code",
   "execution_count": null,
   "id": "084eedfe",
   "metadata": {},
   "outputs": [],
   "source": [
    "silhouetteScoreMeasure = 'euclidean'\n",
    "VRC, dBScore, silhouetteScore, mdlLabels, numComp = runPCAClusteringModel(randomForestScale, silhouetteScoreMeasure, .95, AgglomerativeClustering(n_clusters=2, affinity='euclidean', linkage='complete'))\n",
    "printClusteringStats(VRC, dBScore, silhouetteScore, silhouetteScoreMeasure, mdlLabels)"
   ]
  },
  {
   "cell_type": "code",
   "execution_count": null,
   "id": "dbea28de",
   "metadata": {},
   "outputs": [],
   "source": [
    "plot_silhouettes(randomForestScale, mdlLabels)"
   ]
  },
  {
   "cell_type": "code",
   "execution_count": null,
   "id": "893925a2",
   "metadata": {},
   "outputs": [],
   "source": [
    "hierTuning(randomForestScale, 'runPCAClusteringModel', simMeasure='euclidean', varCaptured = .95, affinity='euclidean', linkage='average')"
   ]
  },
  {
   "cell_type": "code",
   "execution_count": null,
   "id": "b2f31e83",
   "metadata": {},
   "outputs": [],
   "source": [
    "silhouetteScoreMeasure = 'euclidean'\n",
    "VRC, dBScore, silhouetteScore, mdlLabels, numComp = runPCAClusteringModel(randomForestScale, silhouetteScoreMeasure, .95, AgglomerativeClustering(n_clusters=2, affinity='euclidean', linkage='average'))\n",
    "printClusteringStats(VRC, dBScore, silhouetteScore, silhouetteScoreMeasure, mdlLabels)"
   ]
  },
  {
   "cell_type": "code",
   "execution_count": null,
   "id": "0a6c8565",
   "metadata": {},
   "outputs": [],
   "source": [
    "plot_silhouettes(randomForestScale, mdlLabels)"
   ]
  },
  {
   "cell_type": "code",
   "execution_count": null,
   "id": "f5d38ca8",
   "metadata": {},
   "outputs": [],
   "source": [
    "hierTuning(randomForestScale, 'runPCAClusteringModel', simMeasure='euclidean', varCaptured = .95, affinity='euclidean', linkage='single')"
   ]
  },
  {
   "cell_type": "code",
   "execution_count": null,
   "id": "26becb68",
   "metadata": {},
   "outputs": [],
   "source": [
    "silhouetteScoreMeasure = 'euclidean'\n",
    "VRC, dBScore, silhouetteScore, mdlLabels, numComp = runPCAClusteringModel(randomForestScale, silhouetteScoreMeasure, .95, AgglomerativeClustering(n_clusters=2, affinity='euclidean', linkage='single'))\n",
    "printClusteringStats(VRC, dBScore, silhouetteScore, silhouetteScoreMeasure, mdlLabels)"
   ]
  },
  {
   "cell_type": "code",
   "execution_count": null,
   "id": "4353b13d",
   "metadata": {},
   "outputs": [],
   "source": [
    "plot_silhouettes(randomForestScale, mdlLabels)"
   ]
  },
  {
   "cell_type": "code",
   "execution_count": null,
   "id": "c78b32b8",
   "metadata": {},
   "outputs": [],
   "source": [
    "hierTuning(randomForestScale, 'runPCAClusteringModel', simMeasure='cosine', affinity='euclidean', linkage='ward')"
   ]
  },
  {
   "cell_type": "code",
   "execution_count": null,
   "id": "7d13dd73",
   "metadata": {},
   "outputs": [],
   "source": [
    "silhouetteScoreMeasure = 'cosine'\n",
    "VRC, dBScore, silhouetteScore, mdlLabels, numComp = runPCAClusteringModel(randomForestScale, silhouetteScoreMeasure, .95, AgglomerativeClustering(n_clusters=2, affinity='euclidean', linkage='ward'))\n",
    "printClusteringStats(VRC, dBScore, silhouetteScore, silhouetteScoreMeasure, mdlLabels)"
   ]
  },
  {
   "cell_type": "code",
   "execution_count": null,
   "id": "8a7797fe",
   "metadata": {},
   "outputs": [],
   "source": [
    "plot_silhouettes(randomForestScale, mdlLabels)"
   ]
  },
  {
   "cell_type": "code",
   "execution_count": null,
   "id": "1cf51ed9",
   "metadata": {},
   "outputs": [],
   "source": [
    "silhouetteScoreMeasure = 'cosine'\n",
    "VRC, dBScore, silhouetteScore, mdlLabels, numComp = runPCAClusteringModel(randomForestScale, silhouetteScoreMeasure, .95, AgglomerativeClustering(n_clusters=3, affinity='euclidean', linkage='ward'))\n",
    "printClusteringStats(VRC, dBScore, silhouetteScore, silhouetteScoreMeasure, mdlLabels)"
   ]
  },
  {
   "cell_type": "code",
   "execution_count": null,
   "id": "31d3e095",
   "metadata": {},
   "outputs": [],
   "source": [
    "plot_silhouettes(randomForestScale, mdlLabels)"
   ]
  },
  {
   "cell_type": "code",
   "execution_count": null,
   "id": "6a1ce076",
   "metadata": {},
   "outputs": [],
   "source": [
    "hierTuning(randomForestScale, 'runPCAClusteringModel', simMeasure='cosine', varCaptured = .95, affinity='cosine', linkage='complete')"
   ]
  },
  {
   "cell_type": "code",
   "execution_count": null,
   "id": "e20548f0",
   "metadata": {},
   "outputs": [],
   "source": [
    "silhouetteScoreMeasure = 'cosine'\n",
    "VRC, dBScore, silhouetteScore, mdlLabels, numComp = runPCAClusteringModel(randomForestScale, silhouetteScoreMeasure, .95, AgglomerativeClustering(n_clusters=2, affinity='cosine', linkage='complete'))\n",
    "printClusteringStats(VRC, dBScore, silhouetteScore, silhouetteScoreMeasure, mdlLabels)"
   ]
  },
  {
   "cell_type": "code",
   "execution_count": null,
   "id": "746cc68a",
   "metadata": {},
   "outputs": [],
   "source": [
    "plot_silhouettes(randomForestScale, mdlLabels)"
   ]
  },
  {
   "cell_type": "code",
   "execution_count": null,
   "id": "b78598f3",
   "metadata": {},
   "outputs": [],
   "source": [
    "hierTuning(randomForestScale, 'runPCAClusteringModel', simMeasure='cosine', varCaptured = .95, affinity='cosine', linkage='average')"
   ]
  },
  {
   "cell_type": "code",
   "execution_count": null,
   "id": "10f8d55c",
   "metadata": {},
   "outputs": [],
   "source": [
    "silhouetteScoreMeasure = 'euclidean'\n",
    "VRC, dBScore, silhouetteScore, mdlLabels, numComp = runPCAClusteringModel(randomForestScale, silhouetteScoreMeasure, .95, AgglomerativeClustering(n_clusters=2, affinity='euclidean', linkage='complete'))\n",
    "printClusteringStats(VRC, dBScore, silhouetteScore, silhouetteScoreMeasure, mdlLabels)"
   ]
  },
  {
   "cell_type": "code",
   "execution_count": null,
   "id": "8dac6453",
   "metadata": {},
   "outputs": [],
   "source": [
    "plot_silhouettes(randomForestScale, mdlLabels)"
   ]
  },
  {
   "cell_type": "code",
   "execution_count": null,
   "id": "21b9b226",
   "metadata": {},
   "outputs": [],
   "source": [
    "hierTuning(randomForestScale, 'runPCAClusteringModel', simMeasure='cosine', varCaptured = .95, affinity='cosine', linkage='single')"
   ]
  },
  {
   "cell_type": "code",
   "execution_count": null,
   "id": "bb3b0a31",
   "metadata": {},
   "outputs": [],
   "source": [
    "silhouetteScoreMeasure = 'cosine'\n",
    "VRC, dBScore, silhouetteScore, mdlLabels, numComp = runPCAClusteringModel(randomForestScale, silhouetteScoreMeasure, .95, AgglomerativeClustering(n_clusters=2, affinity='cosine', linkage='single'))\n",
    "printClusteringStats(VRC, dBScore, silhouetteScore, silhouetteScoreMeasure, mdlLabels)"
   ]
  },
  {
   "cell_type": "code",
   "execution_count": null,
   "id": "b83fc287",
   "metadata": {},
   "outputs": [],
   "source": [
    "plot_silhouettes(randomForestScale, mdlLabels)"
   ]
  },
  {
   "cell_type": "code",
   "execution_count": null,
   "id": "fda75796",
   "metadata": {},
   "outputs": [],
   "source": [
    "silhouetteScoreMeasure = 'cosine'\n",
    "VRC, dBScore, silhouetteScore, mdlLabels, numComp = runPCAClusteringModel(randomForestScale, silhouetteScoreMeasure, .95, AgglomerativeClustering(n_clusters=3, affinity='cosine', linkage='single'))\n",
    "printClusteringStats(VRC, dBScore, silhouetteScore, silhouetteScoreMeasure, mdlLabels)"
   ]
  },
  {
   "cell_type": "code",
   "execution_count": null,
   "id": "4c5d962a",
   "metadata": {},
   "outputs": [],
   "source": [
    "plot_silhouettes(randomForestScale, mdlLabels)"
   ]
  },
  {
   "cell_type": "markdown",
   "id": "ce3c4f22",
   "metadata": {},
   "source": [
    "#### Linear Regression"
   ]
  },
  {
   "cell_type": "code",
   "execution_count": null,
   "id": "c340b2fd",
   "metadata": {},
   "outputs": [],
   "source": [
    "hierTuning(linearRegScale, 'runClusteringModel', simMeasure='euclidean', affinity='euclidean', linkage='ward')"
   ]
  },
  {
   "cell_type": "code",
   "execution_count": null,
   "id": "f5a10256",
   "metadata": {},
   "outputs": [],
   "source": [
    "silhouetteScoreMeasure = 'euclidean'\n",
    "VRC, dBScore, silhouetteScore, mdlLabels = runClusteringModel(linearRegScale, silhouetteScoreMeasure, AgglomerativeClustering(n_clusters=2, affinity='euclidean', linkage='ward'))\n",
    "printClusteringStats(VRC, dBScore, silhouetteScore, silhouetteScoreMeasure, mdlLabels)"
   ]
  },
  {
   "cell_type": "code",
   "execution_count": null,
   "id": "c717b3a4",
   "metadata": {},
   "outputs": [],
   "source": [
    "plot_silhouettes(linearRegScale, mdlLabels)"
   ]
  },
  {
   "cell_type": "code",
   "execution_count": null,
   "id": "a36e1a04",
   "metadata": {},
   "outputs": [],
   "source": [
    "silhouetteScoreMeasure = 'euclidean'\n",
    "VRC, dBScore, silhouetteScore, mdlLabels = runClusteringModel(linearRegScale, silhouetteScoreMeasure, AgglomerativeClustering(n_clusters=3, affinity='euclidean', linkage='ward'))\n",
    "printClusteringStats(VRC, dBScore, silhouetteScore, silhouetteScoreMeasure, mdlLabels)"
   ]
  },
  {
   "cell_type": "code",
   "execution_count": null,
   "id": "231383d8",
   "metadata": {},
   "outputs": [],
   "source": [
    "plot_silhouettes(linearRegScale, mdlLabels)"
   ]
  },
  {
   "cell_type": "code",
   "execution_count": null,
   "id": "14ce41bc",
   "metadata": {},
   "outputs": [],
   "source": [
    "hierTuning(linearRegScale, 'runClusteringModel', simMeasure='euclidean', affinity='euclidean', linkage='complete')"
   ]
  },
  {
   "cell_type": "code",
   "execution_count": null,
   "id": "40683ef9",
   "metadata": {},
   "outputs": [],
   "source": [
    "silhouetteScoreMeasure = 'euclidean'\n",
    "VRC, dBScore, silhouetteScore, mdlLabels = runClusteringModel(linearRegScale, silhouetteScoreMeasure, AgglomerativeClustering(n_clusters=2, affinity='euclidean', linkage='complete'))\n",
    "printClusteringStats(VRC, dBScore, silhouetteScore, silhouetteScoreMeasure, mdlLabels)"
   ]
  },
  {
   "cell_type": "code",
   "execution_count": null,
   "id": "62cb5725",
   "metadata": {},
   "outputs": [],
   "source": [
    "plot_silhouettes(linearRegScale, mdlLabels)"
   ]
  },
  {
   "cell_type": "code",
   "execution_count": null,
   "id": "b487ddb3",
   "metadata": {},
   "outputs": [],
   "source": [
    "hierTuning(linearRegScale, 'runClusteringModel', simMeasure='euclidean', affinity='euclidean', linkage='average')"
   ]
  },
  {
   "cell_type": "code",
   "execution_count": null,
   "id": "2ea1b60c",
   "metadata": {},
   "outputs": [],
   "source": [
    "silhouetteScoreMeasure = 'euclidean'\n",
    "VRC, dBScore, silhouetteScore, mdlLabels = runClusteringModel(linearRegScale, silhouetteScoreMeasure, AgglomerativeClustering(n_clusters=2, affinity='euclidean', linkage='average'))\n",
    "printClusteringStats(VRC, dBScore, silhouetteScore, silhouetteScoreMeasure, mdlLabels)"
   ]
  },
  {
   "cell_type": "code",
   "execution_count": null,
   "id": "7787348b",
   "metadata": {},
   "outputs": [],
   "source": [
    "plot_silhouettes(linearRegScale, mdlLabels)"
   ]
  },
  {
   "cell_type": "code",
   "execution_count": null,
   "id": "b873e380",
   "metadata": {},
   "outputs": [],
   "source": [
    "hierTuning(linearRegScale, 'runClusteringModel', simMeasure='euclidean', affinity='euclidean', linkage='single')"
   ]
  },
  {
   "cell_type": "code",
   "execution_count": null,
   "id": "a872b81c",
   "metadata": {},
   "outputs": [],
   "source": [
    "silhouetteScoreMeasure = 'euclidean'\n",
    "VRC, dBScore, silhouetteScore, mdlLabels = runClusteringModel(linearRegScale, silhouetteScoreMeasure, AgglomerativeClustering(n_clusters=2, affinity='euclidean', linkage='single'))\n",
    "printClusteringStats(VRC, dBScore, silhouetteScore, silhouetteScoreMeasure, mdlLabels)"
   ]
  },
  {
   "cell_type": "code",
   "execution_count": null,
   "id": "30da69aa",
   "metadata": {},
   "outputs": [],
   "source": [
    "plot_silhouettes(linearRegScale, mdlLabels)"
   ]
  },
  {
   "cell_type": "code",
   "execution_count": null,
   "id": "142d9e7e",
   "metadata": {},
   "outputs": [],
   "source": [
    "silhouetteScoreMeasure = 'euclidean'\n",
    "VRC, dBScore, silhouetteScore, mdlLabels = runClusteringModel(linearRegScale, silhouetteScoreMeasure, AgglomerativeClustering(n_clusters=3, affinity='euclidean', linkage='single'))\n",
    "printClusteringStats(VRC, dBScore, silhouetteScore, silhouetteScoreMeasure, mdlLabels)"
   ]
  },
  {
   "cell_type": "code",
   "execution_count": null,
   "id": "a4d9c211",
   "metadata": {},
   "outputs": [],
   "source": [
    "plot_silhouettes(linearRegScale, mdlLabels)"
   ]
  },
  {
   "cell_type": "code",
   "execution_count": null,
   "id": "92bd2dd5",
   "metadata": {},
   "outputs": [],
   "source": [
    "hierTuning(linearRegScale, 'runClusteringModel', simMeasure='cosine', affinity='euclidean', linkage='ward')"
   ]
  },
  {
   "cell_type": "code",
   "execution_count": null,
   "id": "4d7b577c",
   "metadata": {},
   "outputs": [],
   "source": [
    "silhouetteScoreMeasure = 'cosine'\n",
    "VRC, dBScore, silhouetteScore, mdlLabels = runClusteringModel(linearRegScale, silhouetteScoreMeasure, AgglomerativeClustering(n_clusters=2, affinity='euclidean', linkage='ward'))\n",
    "printClusteringStats(VRC, dBScore, silhouetteScore, silhouetteScoreMeasure, mdlLabels)"
   ]
  },
  {
   "cell_type": "code",
   "execution_count": null,
   "id": "cba6d03f",
   "metadata": {},
   "outputs": [],
   "source": [
    "plot_silhouettes(linearRegScale, mdlLabels)"
   ]
  },
  {
   "cell_type": "code",
   "execution_count": null,
   "id": "ad736b0c",
   "metadata": {},
   "outputs": [],
   "source": [
    "silhouetteScoreMeasure = 'cosine'\n",
    "VRC, dBScore, silhouetteScore, mdlLabels = runClusteringModel(linearRegScale, silhouetteScoreMeasure, AgglomerativeClustering(n_clusters=3, affinity='euclidean', linkage='ward'))\n",
    "printClusteringStats(VRC, dBScore, silhouetteScore, silhouetteScoreMeasure, mdlLabels)"
   ]
  },
  {
   "cell_type": "code",
   "execution_count": null,
   "id": "dd0558a9",
   "metadata": {},
   "outputs": [],
   "source": [
    "plot_silhouettes(linearRegScale, mdlLabels)"
   ]
  },
  {
   "cell_type": "code",
   "execution_count": null,
   "id": "045301f1",
   "metadata": {},
   "outputs": [],
   "source": [
    "hierTuning(linearRegScale, 'runClusteringModel', simMeasure='cosine', affinity='cosine', linkage='complete')"
   ]
  },
  {
   "cell_type": "code",
   "execution_count": null,
   "id": "e766b609",
   "metadata": {},
   "outputs": [],
   "source": [
    "silhouetteScoreMeasure = 'cosine'\n",
    "VRC, dBScore, silhouetteScore, mdlLabels = runClusteringModel(linearRegScale, silhouetteScoreMeasure, AgglomerativeClustering(n_clusters=5, affinity='cosine', linkage='complete'))\n",
    "printClusteringStats(VRC, dBScore, silhouetteScore, silhouetteScoreMeasure, mdlLabels)"
   ]
  },
  {
   "cell_type": "code",
   "execution_count": null,
   "id": "991f2f95",
   "metadata": {},
   "outputs": [],
   "source": [
    "plot_silhouettes(linearRegScale, mdlLabels)"
   ]
  },
  {
   "cell_type": "code",
   "execution_count": null,
   "id": "ad48483f",
   "metadata": {},
   "outputs": [],
   "source": [
    "silhouetteScoreMeasure = 'cosine'\n",
    "VRC, dBScore, silhouetteScore, mdlLabels = runClusteringModel(linearRegScale, silhouetteScoreMeasure, AgglomerativeClustering(n_clusters=4, affinity='cosine', linkage='complete'))\n",
    "printClusteringStats(VRC, dBScore, silhouetteScore, silhouetteScoreMeasure, mdlLabels)"
   ]
  },
  {
   "cell_type": "code",
   "execution_count": null,
   "id": "f36881e7",
   "metadata": {},
   "outputs": [],
   "source": [
    "plot_silhouettes(linearRegScale, mdlLabels)"
   ]
  },
  {
   "cell_type": "code",
   "execution_count": null,
   "id": "25bac917",
   "metadata": {},
   "outputs": [],
   "source": [
    "hierTuning(linearRegScale, 'runClusteringModel', simMeasure='cosine', affinity='cosine', linkage='average')"
   ]
  },
  {
   "cell_type": "code",
   "execution_count": null,
   "id": "85e157a8",
   "metadata": {},
   "outputs": [],
   "source": [
    "silhouetteScoreMeasure = 'cosine'\n",
    "VRC, dBScore, silhouetteScore, mdlLabels = runClusteringModel(linearRegScale, silhouetteScoreMeasure, AgglomerativeClustering(n_clusters=2, affinity='cosine', linkage='average'))\n",
    "printClusteringStats(VRC, dBScore, silhouetteScore, silhouetteScoreMeasure, mdlLabels)"
   ]
  },
  {
   "cell_type": "code",
   "execution_count": null,
   "id": "b3e7ce63",
   "metadata": {},
   "outputs": [],
   "source": [
    "plot_silhouettes(linearRegScale, mdlLabels)"
   ]
  },
  {
   "cell_type": "code",
   "execution_count": null,
   "id": "921623dc",
   "metadata": {},
   "outputs": [],
   "source": [
    "silhouetteScoreMeasure = 'cosine'\n",
    "VRC, dBScore, silhouetteScore, mdlLabels = runClusteringModel(linearRegScale, silhouetteScoreMeasure, AgglomerativeClustering(n_clusters=5, affinity='cosine', linkage='average'))\n",
    "printClusteringStats(VRC, dBScore, silhouetteScore, silhouetteScoreMeasure, mdlLabels)"
   ]
  },
  {
   "cell_type": "code",
   "execution_count": null,
   "id": "6ec03006",
   "metadata": {},
   "outputs": [],
   "source": [
    "plot_silhouettes(linearRegScale, mdlLabels)"
   ]
  },
  {
   "cell_type": "code",
   "execution_count": null,
   "id": "9044af05",
   "metadata": {},
   "outputs": [],
   "source": [
    "hierTuning(linearRegScale, 'runClusteringModel', simMeasure='cosine', affinity='cosine', linkage='single')"
   ]
  },
  {
   "cell_type": "code",
   "execution_count": null,
   "id": "bdaead8d",
   "metadata": {},
   "outputs": [],
   "source": [
    "silhouetteScoreMeasure = 'cosine'\n",
    "VRC, dBScore, silhouetteScore, mdlLabels = runClusteringModel(linearRegScale, silhouetteScoreMeasure, AgglomerativeClustering(n_clusters=2, affinity='cosine', linkage='single'))\n",
    "printClusteringStats(VRC, dBScore, silhouetteScore, silhouetteScoreMeasure, mdlLabels)"
   ]
  },
  {
   "cell_type": "code",
   "execution_count": null,
   "id": "c369fe48",
   "metadata": {},
   "outputs": [],
   "source": [
    "plot_silhouettes(linearRegScale, mdlLabels)"
   ]
  },
  {
   "cell_type": "code",
   "execution_count": null,
   "id": "c37c1451",
   "metadata": {},
   "outputs": [],
   "source": [
    "silhouetteScoreMeasure = 'cosine'\n",
    "VRC, dBScore, silhouetteScore, mdlLabels = runClusteringModel(linearRegScale, silhouetteScoreMeasure, AgglomerativeClustering(n_clusters=3, affinity='cosine', linkage='single'))\n",
    "printClusteringStats(VRC, dBScore, silhouetteScore, silhouetteScoreMeasure, mdlLabels)"
   ]
  },
  {
   "cell_type": "code",
   "execution_count": null,
   "id": "9cc45c61",
   "metadata": {},
   "outputs": [],
   "source": [
    "plot_silhouettes(linearRegScale, mdlLabels)"
   ]
  },
  {
   "cell_type": "code",
   "execution_count": null,
   "id": "85db3aac",
   "metadata": {},
   "outputs": [],
   "source": [
    "silhouetteScoreMeasure = 'cosine'\n",
    "VRC, dBScore, silhouetteScore, mdlLabels = runClusteringModel(linearRegScale, silhouetteScoreMeasure, AgglomerativeClustering(n_clusters=9, affinity='cosine', linkage='single'))\n",
    "printClusteringStats(VRC, dBScore, silhouetteScore, silhouetteScoreMeasure, mdlLabels)"
   ]
  },
  {
   "cell_type": "code",
   "execution_count": null,
   "id": "946dcf87",
   "metadata": {},
   "outputs": [],
   "source": [
    "plot_silhouettes(linearRegScale, mdlLabels)"
   ]
  },
  {
   "cell_type": "code",
   "execution_count": null,
   "id": "1cee599b",
   "metadata": {},
   "outputs": [],
   "source": [
    "hierTuning(linearRegScale, 'runPCAClusteringModel', simMeasure='euclidean', affinity='euclidean', linkage='ward')"
   ]
  },
  {
   "cell_type": "code",
   "execution_count": null,
   "id": "20bc429f",
   "metadata": {},
   "outputs": [],
   "source": [
    "silhouetteScoreMeasure = 'euclidean'\n",
    "VRC, dBScore, silhouetteScore, mdlLabels, numComp = runPCAClusteringModel(linearRegScale, silhouetteScoreMeasure, .95, AgglomerativeClustering(n_clusters=2, affinity='euclidean', linkage='ward'))\n",
    "printClusteringStats(VRC, dBScore, silhouetteScore, silhouetteScoreMeasure, mdlLabels)"
   ]
  },
  {
   "cell_type": "code",
   "execution_count": null,
   "id": "0c0bee5e",
   "metadata": {},
   "outputs": [],
   "source": [
    "plot_silhouettes(linearRegScale, mdlLabels)"
   ]
  },
  {
   "cell_type": "code",
   "execution_count": null,
   "id": "e91eec1e",
   "metadata": {},
   "outputs": [],
   "source": [
    "hierTuning(linearRegScale, 'runPCAClusteringModel', simMeasure='euclidean', affinity='euclidean', linkage='complete')"
   ]
  },
  {
   "cell_type": "code",
   "execution_count": null,
   "id": "e3b59940",
   "metadata": {},
   "outputs": [],
   "source": [
    "silhouetteScoreMeasure = 'euclidean'\n",
    "VRC, dBScore, silhouetteScore, mdlLabels, numComp = runPCAClusteringModel(linearRegScale, silhouetteScoreMeasure, .95, AgglomerativeClustering(n_clusters=2, affinity='euclidean', linkage='complete'))\n",
    "printClusteringStats(VRC, dBScore, silhouetteScore, silhouetteScoreMeasure, mdlLabels)"
   ]
  },
  {
   "cell_type": "code",
   "execution_count": null,
   "id": "cd4909f6",
   "metadata": {},
   "outputs": [],
   "source": [
    "plot_silhouettes(linearRegScale, mdlLabels)"
   ]
  },
  {
   "cell_type": "code",
   "execution_count": null,
   "id": "db8c4251",
   "metadata": {},
   "outputs": [],
   "source": [
    "silhouetteScoreMeasure = 'euclidean'\n",
    "VRC, dBScore, silhouetteScore, mdlLabels, numComp = runPCAClusteringModel(linearRegScale, silhouetteScoreMeasure, .95, AgglomerativeClustering(n_clusters=6, affinity='euclidean', linkage='complete'))\n",
    "printClusteringStats(VRC, dBScore, silhouetteScore, silhouetteScoreMeasure, mdlLabels)"
   ]
  },
  {
   "cell_type": "code",
   "execution_count": null,
   "id": "f8d5a293",
   "metadata": {},
   "outputs": [],
   "source": [
    "plot_silhouettes(linearRegScale, mdlLabels)"
   ]
  },
  {
   "cell_type": "code",
   "execution_count": null,
   "id": "a1ee262b",
   "metadata": {},
   "outputs": [],
   "source": [
    "hierTuning(linearRegScale, 'runPCAClusteringModel', simMeasure='euclidean', affinity='euclidean', linkage='average')"
   ]
  },
  {
   "cell_type": "code",
   "execution_count": null,
   "id": "742a78bc",
   "metadata": {},
   "outputs": [],
   "source": [
    "silhouetteScoreMeasure = 'euclidean'\n",
    "VRC, dBScore, silhouetteScore, mdlLabels, numComp = runPCAClusteringModel(linearRegScale, silhouetteScoreMeasure, .95, AgglomerativeClustering(n_clusters=2, affinity='euclidean', linkage='average'))\n",
    "printClusteringStats(VRC, dBScore, silhouetteScore, silhouetteScoreMeasure, mdlLabels)"
   ]
  },
  {
   "cell_type": "code",
   "execution_count": null,
   "id": "ee621452",
   "metadata": {},
   "outputs": [],
   "source": [
    "plot_silhouettes(linearRegScale, mdlLabels)"
   ]
  },
  {
   "cell_type": "code",
   "execution_count": null,
   "id": "f4f7d44c",
   "metadata": {},
   "outputs": [],
   "source": [
    "silhouetteScoreMeasure = 'euclidean'\n",
    "VRC, dBScore, silhouetteScore, mdlLabels, numComp = runPCAClusteringModel(linearRegScale, silhouetteScoreMeasure, .95, AgglomerativeClustering(n_clusters=4, affinity='euclidean', linkage='average'))\n",
    "printClusteringStats(VRC, dBScore, silhouetteScore, silhouetteScoreMeasure, mdlLabels)"
   ]
  },
  {
   "cell_type": "code",
   "execution_count": null,
   "id": "eeb109b0",
   "metadata": {},
   "outputs": [],
   "source": [
    "plot_silhouettes(linearRegScale, mdlLabels)"
   ]
  },
  {
   "cell_type": "code",
   "execution_count": null,
   "id": "bf3da4cb",
   "metadata": {},
   "outputs": [],
   "source": [
    "hierTuning(linearRegScale, 'runPCAClusteringModel', simMeasure='euclidean', affinity='euclidean', linkage='single')"
   ]
  },
  {
   "cell_type": "code",
   "execution_count": null,
   "id": "f90e36df",
   "metadata": {},
   "outputs": [],
   "source": [
    "silhouetteScoreMeasure = 'euclidean'\n",
    "VRC, dBScore, silhouetteScore, mdlLabels, numComp = runPCAClusteringModel(linearRegScale, silhouetteScoreMeasure, .95, AgglomerativeClustering(n_clusters=2, affinity='euclidean', linkage='single'))\n",
    "printClusteringStats(VRC, dBScore, silhouetteScore, silhouetteScoreMeasure, mdlLabels)"
   ]
  },
  {
   "cell_type": "code",
   "execution_count": null,
   "id": "392c1791",
   "metadata": {},
   "outputs": [],
   "source": [
    "plot_silhouettes(linearRegScale, mdlLabels)"
   ]
  },
  {
   "cell_type": "code",
   "execution_count": null,
   "id": "5ae41ec9",
   "metadata": {},
   "outputs": [],
   "source": [
    "hierTuning(linearRegScale, 'runPCAClusteringModel', simMeasure='cosine', affinity='euclidean', linkage='ward')"
   ]
  },
  {
   "cell_type": "code",
   "execution_count": null,
   "id": "393f4586",
   "metadata": {},
   "outputs": [],
   "source": [
    "silhouetteScoreMeasure = 'cosine'\n",
    "VRC, dBScore, silhouetteScore, mdlLabels, numComp = runPCAClusteringModel(linearRegScale, silhouetteScoreMeasure, .95, AgglomerativeClustering(n_clusters=2, affinity='euclidean', linkage='ward'))\n",
    "printClusteringStats(VRC, dBScore, silhouetteScore, silhouetteScoreMeasure, mdlLabels)"
   ]
  },
  {
   "cell_type": "code",
   "execution_count": null,
   "id": "f4060a6b",
   "metadata": {},
   "outputs": [],
   "source": [
    "plot_silhouettes(linearRegScale, mdlLabels)"
   ]
  },
  {
   "cell_type": "code",
   "execution_count": null,
   "id": "ae4fcb64",
   "metadata": {},
   "outputs": [],
   "source": [
    "silhouetteScoreMeasure = 'cosine'\n",
    "VRC, dBScore, silhouetteScore, mdlLabels, numComp = runPCAClusteringModel(linearRegScale, silhouetteScoreMeasure, .95, AgglomerativeClustering(n_clusters=6, affinity='euclidean', linkage='ward'))\n",
    "printClusteringStats(VRC, dBScore, silhouetteScore, silhouetteScoreMeasure, mdlLabels)"
   ]
  },
  {
   "cell_type": "code",
   "execution_count": null,
   "id": "1575a81c",
   "metadata": {},
   "outputs": [],
   "source": [
    "plot_silhouettes(linearRegScale, mdlLabels)"
   ]
  },
  {
   "cell_type": "code",
   "execution_count": null,
   "id": "21a31fe0",
   "metadata": {},
   "outputs": [],
   "source": [
    "hierTuning(linearRegScale, 'runPCAClusteringModel', simMeasure='cosine', affinity='cosine', linkage='complete')"
   ]
  },
  {
   "cell_type": "code",
   "execution_count": null,
   "id": "dfdc9928",
   "metadata": {},
   "outputs": [],
   "source": [
    "silhouetteScoreMeasure = 'cosine'\n",
    "VRC, dBScore, silhouetteScore, mdlLabels, numComp = runPCAClusteringModel(linearRegScale, silhouetteScoreMeasure, .95, AgglomerativeClustering(n_clusters=2, affinity='cosine', linkage='complete'))\n",
    "printClusteringStats(VRC, dBScore, silhouetteScore, silhouetteScoreMeasure, mdlLabels)"
   ]
  },
  {
   "cell_type": "code",
   "execution_count": null,
   "id": "fecf1b94",
   "metadata": {},
   "outputs": [],
   "source": [
    "plot_silhouettes(linearRegScale, mdlLabels)"
   ]
  },
  {
   "cell_type": "code",
   "execution_count": null,
   "id": "47879131",
   "metadata": {},
   "outputs": [],
   "source": [
    "hierTuning(linearRegScale, 'runPCAClusteringModel', simMeasure='cosine', affinity='cosine', linkage='average')"
   ]
  },
  {
   "cell_type": "code",
   "execution_count": null,
   "id": "2ae9838c",
   "metadata": {},
   "outputs": [],
   "source": [
    "silhouetteScoreMeasure = 'cosine'\n",
    "VRC, dBScore, silhouetteScore, mdlLabels, numComp = runPCAClusteringModel(linearRegScale, silhouetteScoreMeasure, .95, AgglomerativeClustering(n_clusters=2, affinity='cosine', linkage='average'))\n",
    "printClusteringStats(VRC, dBScore, silhouetteScore, silhouetteScoreMeasure, mdlLabels)"
   ]
  },
  {
   "cell_type": "code",
   "execution_count": null,
   "id": "d6d5f05a",
   "metadata": {},
   "outputs": [],
   "source": [
    "plot_silhouettes(linearRegScale, mdlLabels)"
   ]
  },
  {
   "cell_type": "code",
   "execution_count": null,
   "id": "89a956bc",
   "metadata": {},
   "outputs": [],
   "source": [
    "hierTuning(linearRegScale, 'runPCAClusteringModel', simMeasure='cosine', affinity='cosine', linkage='single')"
   ]
  },
  {
   "cell_type": "code",
   "execution_count": null,
   "id": "84b5155f",
   "metadata": {},
   "outputs": [],
   "source": [
    "silhouetteScoreMeasure = 'cosine'\n",
    "VRC, dBScore, silhouetteScore, mdlLabels, numComp = runPCAClusteringModel(linearRegScale, silhouetteScoreMeasure, .95, AgglomerativeClustering(n_clusters=2, affinity='cosine', linkage='single'))\n",
    "printClusteringStats(VRC, dBScore, silhouetteScore, silhouetteScoreMeasure, mdlLabels)"
   ]
  },
  {
   "cell_type": "code",
   "execution_count": null,
   "id": "6ccb4fae",
   "metadata": {},
   "outputs": [],
   "source": [
    "plot_silhouettes(linearRegScale, mdlLabels)"
   ]
  },
  {
   "cell_type": "code",
   "execution_count": null,
   "id": "7b00435e",
   "metadata": {},
   "outputs": [],
   "source": [
    "silhouetteScoreMeasure = 'cosine'\n",
    "VRC, dBScore, silhouetteScore, mdlLabels, numComp = runPCAClusteringModel(linearRegScale, silhouetteScoreMeasure, .95, AgglomerativeClustering(n_clusters=3, affinity='cosine', linkage='single'))\n",
    "printClusteringStats(VRC, dBScore, silhouetteScore, silhouetteScoreMeasure, mdlLabels)"
   ]
  },
  {
   "cell_type": "code",
   "execution_count": null,
   "id": "22662d39",
   "metadata": {},
   "outputs": [],
   "source": [
    "plot_silhouettes(linearRegScale, mdlLabels)"
   ]
  },
  {
   "cell_type": "markdown",
   "id": "a441e4b7",
   "metadata": {},
   "source": [
    "## OPTICS"
   ]
  },
  {
   "cell_type": "code",
   "execution_count": null,
   "id": "75c645a4",
   "metadata": {},
   "outputs": [],
   "source": [
    "def opticsTuning(data, model, simMeasure='euclidean', varCaptured = .95):\n",
    "    # X-axis values and those to be tested for k\n",
    "    x = np.arange(5, 51, 5)\n",
    "\n",
    "    # placeholders for evaluation measure scores.\n",
    "    VRCLst = []\n",
    "    dBScoreLst = []\n",
    "    silhouetteScoreLst = []\n",
    "\n",
    "    # Test different values for K\n",
    "    for numSamples in x:\n",
    "        if model == 'runClusteringModel':\n",
    "            VRC, dBScore, silhouetteScore, mdlLabels = runClusteringModel(data, simMeasure, OPTICS(min_samples=numSamples))\n",
    "        else:\n",
    "            VRC, dBScore, silhouetteScore, mdlLabels, numComp = runPCAClusteringModel(data, simMeasure, varCaptured, OPTICS(min_samples=numSamples))\n",
    "        VRCLst.append(VRC)\n",
    "        dBScoreLst.append(dBScore)\n",
    "        silhouetteScoreLst.append(silhouetteScore)\n",
    "\n",
    "    graphResults(x, VRCLst, dBScoreLst, silhouetteScoreLst)"
   ]
  },
  {
   "cell_type": "markdown",
   "id": "30ca0b91",
   "metadata": {},
   "source": [
    "#### Random Forest"
   ]
  },
  {
   "cell_type": "markdown",
   "id": "4db7ae50",
   "metadata": {},
   "source": [
    "The Davies-Bouldin Index and Silhouette Score agree the default minimum\n",
    "samples of 5 is the best value for the hyperparameter. The Variance\n",
    "Ratio Criterion continues to rise throughout the entire range tested but\n",
    "appears to be plateauing. Due to the high computational cost of running\n",
    "the OPTICS method, only the default value for min_samples was tested,\n",
    "which is the value two of the three measures agreed to be the best\n",
    "hyperparameter."
   ]
  },
  {
   "cell_type": "code",
   "execution_count": null,
   "id": "085d5d52",
   "metadata": {},
   "outputs": [],
   "source": [
    "warnings.filterwarnings('ignore')\n",
    "silhouetteScoreMeasure = 'euclidean'\n",
    "VRC, dBScore, silhouetteScore, mdlLabels = runClusteringModel(randomForestScale, silhouetteScoreMeasure, OPTICS(min_samples=10))\n",
    "printClusteringStats(VRC, dBScore, silhouetteScore, silhouetteScoreMeasure, mdlLabels)"
   ]
  },
  {
   "cell_type": "code",
   "execution_count": null,
   "id": "b136a225",
   "metadata": {},
   "outputs": [],
   "source": [
    "plot_silhouettes(randomForestScale, mdlLabels)"
   ]
  },
  {
   "cell_type": "code",
   "execution_count": null,
   "id": "3ffab623",
   "metadata": {},
   "outputs": [],
   "source": [
    "warnings.filterwarnings('ignore')\n",
    "silhouetteScoreMeasure = 'euclidean'\n",
    "VRC, dBScore, silhouetteScore, mdlLabels = runClusteringModel(randomForestScale, silhouetteScoreMeasure, OPTICS(min_samples=20))\n",
    "printClusteringStats(VRC, dBScore, silhouetteScore, silhouetteScoreMeasure, mdlLabels)"
   ]
  },
  {
   "cell_type": "code",
   "execution_count": null,
   "id": "e9e21bac",
   "metadata": {},
   "outputs": [],
   "source": [
    "plot_silhouettes(randomForestScale, mdlLabels)"
   ]
  },
  {
   "cell_type": "code",
   "execution_count": null,
   "id": "2301ab7f",
   "metadata": {},
   "outputs": [],
   "source": [
    "warnings.filterwarnings('ignore')\n",
    "silhouetteScoreMeasure = 'euclidean'\n",
    "VRC, dBScore, silhouetteScore, mdlLabels = runClusteringModel(randomForestScale, silhouetteScoreMeasure, OPTICS())\n",
    "printClusteringStats(VRC, dBScore, silhouetteScore, silhouetteScoreMeasure, mdlLabels)"
   ]
  },
  {
   "cell_type": "code",
   "execution_count": null,
   "id": "0e29903a",
   "metadata": {},
   "outputs": [],
   "source": [
    "plot_silhouettes(randomForestScale, mdlLabels)"
   ]
  },
  {
   "cell_type": "code",
   "execution_count": null,
   "id": "ddfa8beb",
   "metadata": {},
   "outputs": [],
   "source": [
    "warnings.filterwarnings('ignore')\n",
    "silhouetteScoreMeasure = 'cosine'\n",
    "VRC, dBScore, silhouetteScore, mdlLabels = runClusteringModel(randomForestScale, silhouetteScoreMeasure, OPTICS())\n",
    "printClusteringStats(VRC, dBScore, silhouetteScore, silhouetteScoreMeasure, mdlLabels)"
   ]
  },
  {
   "cell_type": "code",
   "execution_count": null,
   "id": "7d5dbad6",
   "metadata": {},
   "outputs": [],
   "source": [
    "plot_silhouettes(randomForestScale, mdlLabels)"
   ]
  },
  {
   "cell_type": "code",
   "execution_count": null,
   "id": "9b3eb4ad",
   "metadata": {},
   "outputs": [],
   "source": [
    "warnings.filterwarnings('ignore')\n",
    "silhouetteScoreMeasure = 'cosine'\n",
    "VRC, dBScore, silhouetteScore, mdlLabels = runClusteringModel(randomForestScale, silhouetteScoreMeasure, OPTICS(min_samples=20))\n",
    "printClusteringStats(VRC, dBScore, silhouetteScore, silhouetteScoreMeasure, mdlLabels)"
   ]
  },
  {
   "cell_type": "code",
   "execution_count": null,
   "id": "52fc7c40",
   "metadata": {},
   "outputs": [],
   "source": [
    "plot_silhouettes(randomForestScale, mdlLabels)"
   ]
  },
  {
   "cell_type": "code",
   "execution_count": null,
   "id": "97a6bb94",
   "metadata": {},
   "outputs": [],
   "source": [
    "warnings.filterwarnings('ignore')\n",
    "silhouetteScoreMeasure = 'euclidean'\n",
    "VRC, dBScore, silhouetteScore, mdlLabels, numComp = runPCAClusteringModel(randomForestScale, silhouetteScoreMeasure, .95, OPTICS())\n",
    "printClusteringStats(VRC, dBScore, silhouetteScore, silhouetteScoreMeasure, mdlLabels)"
   ]
  },
  {
   "cell_type": "code",
   "execution_count": null,
   "id": "8e13ece3",
   "metadata": {},
   "outputs": [],
   "source": [
    "plot_silhouettes(randomForestScale, mdlLabels)"
   ]
  },
  {
   "cell_type": "code",
   "execution_count": null,
   "id": "ca68f135",
   "metadata": {},
   "outputs": [],
   "source": [
    "warnings.filterwarnings('ignore')\n",
    "silhouetteScoreMeasure = 'cosine'\n",
    "VRC, dBScore, silhouetteScore, mdlLabels, numComp = runPCAClusteringModel(randomForestScale, silhouetteScoreMeasure, .95, OPTICS())\n",
    "printClusteringStats(VRC, dBScore, silhouetteScore, silhouetteScoreMeasure, mdlLabels)"
   ]
  },
  {
   "cell_type": "code",
   "execution_count": null,
   "id": "3f6411b8",
   "metadata": {},
   "outputs": [],
   "source": [
    "plot_silhouettes(randomForestScale, mdlLabels)"
   ]
  },
  {
   "cell_type": "markdown",
   "id": "6508ecd5",
   "metadata": {},
   "source": [
    "#### Linear Regression"
   ]
  },
  {
   "cell_type": "code",
   "execution_count": null,
   "id": "dd1e1281",
   "metadata": {},
   "outputs": [],
   "source": [
    "warnings.filterwarnings('ignore')\n",
    "silhouetteScoreMeasure = 'euclidean'\n",
    "VRC, dBScore, silhouetteScore, mdlLabels = runClusteringModel(linearRegScale, silhouetteScoreMeasure, OPTICS())\n",
    "printClusteringStats(VRC, dBScore, silhouetteScore, silhouetteScoreMeasure, mdlLabels)"
   ]
  },
  {
   "cell_type": "code",
   "execution_count": null,
   "id": "b9aaaf35",
   "metadata": {},
   "outputs": [],
   "source": [
    "plot_silhouettes(linearRegScale, mdlLabels)"
   ]
  },
  {
   "cell_type": "code",
   "execution_count": null,
   "id": "82ab52ca",
   "metadata": {},
   "outputs": [],
   "source": [
    "warnings.filterwarnings('ignore')\n",
    "silhouetteScoreMeasure = 'cosine'\n",
    "VRC, dBScore, silhouetteScore, mdlLabels = runClusteringModel(linearRegScale, silhouetteScoreMeasure, OPTICS())\n",
    "printClusteringStats(VRC, dBScore, silhouetteScore, silhouetteScoreMeasure, mdlLabels)"
   ]
  },
  {
   "cell_type": "code",
   "execution_count": null,
   "id": "d30b84ad",
   "metadata": {},
   "outputs": [],
   "source": [
    "plot_silhouettes(linearRegScale, mdlLabels)"
   ]
  },
  {
   "cell_type": "code",
   "execution_count": null,
   "id": "4f9e0ed8",
   "metadata": {},
   "outputs": [],
   "source": [
    "warnings.filterwarnings('ignore')\n",
    "silhouetteScoreMeasure = 'cosine'\n",
    "VRC, dBScore, silhouetteScore, mdlLabels, numComp = runPCAClusteringModel(linearRegScale, silhouetteScoreMeasure, .95, OPTICS())\n",
    "printClusteringStats(VRC, dBScore, silhouetteScore, silhouetteScoreMeasure, mdlLabels)"
   ]
  },
  {
   "cell_type": "code",
   "execution_count": null,
   "id": "dfa4c9fc",
   "metadata": {},
   "outputs": [],
   "source": [
    "plot_silhouettes(linearRegScale, mdlLabels)"
   ]
  },
  {
   "cell_type": "code",
   "execution_count": null,
   "id": "cc26fb08",
   "metadata": {},
   "outputs": [],
   "source": [
    "warnings.filterwarnings('ignore')\n",
    "silhouetteScoreMeasure = 'cosine'\n",
    "VRC, dBScore, silhouetteScore, mdlLabels, numComp = runPCAClusteringModel(linearRegScale, silhouetteScoreMeasure, .95, OPTICS())\n",
    "printClusteringStats(VRC, dBScore, silhouetteScore, silhouetteScoreMeasure, mdlLabels)"
   ]
  },
  {
   "cell_type": "code",
   "execution_count": null,
   "id": "080309bb",
   "metadata": {},
   "outputs": [],
   "source": [
    "plot_silhouettes(linearRegScale, mdlLabels)"
   ]
  },
  {
   "cell_type": "markdown",
   "id": "5d8e146f",
   "metadata": {},
   "source": [
    "The OPTICS measure did not produce useful clusters. Almost a third of\n",
    "the instances are classified as noise and none of the almost 3,300\n",
    "clusters contain more than a percent of the instances."
   ]
  },
  {
   "attachments": {},
   "cell_type": "markdown",
   "id": "9982a1f2",
   "metadata": {},
   "source": [
    "None of the clustering methods achieved a small number of useful\n",
    "clusters with good clustering scoring. The methods either produced too\n",
    "many small clusters with a significant amount of instances classified as\n",
    "noise or a small number of clusters with poor scoring results.\n",
    "Therefore, fitting classification models on the resulting clusters would\n",
    "not be useful."
   ]
  }
 ],
 "metadata": {
  "kernelspec": {
   "display_name": "Python 3 (ipykernel)",
   "language": "python",
   "name": "python3"
  },
  "language_info": {
   "codemirror_mode": {
    "name": "ipython",
    "version": 3
   },
   "file_extension": ".py",
   "mimetype": "text/x-python",
   "name": "python",
   "nbconvert_exporter": "python",
   "pygments_lexer": "ipython3",
   "version": "3.8.5"
  }
 },
 "nbformat": 4,
 "nbformat_minor": 5
}
