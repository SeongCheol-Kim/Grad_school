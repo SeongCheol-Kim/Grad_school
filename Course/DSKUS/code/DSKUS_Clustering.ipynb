{
 "cells": [
  {
   "cell_type": "markdown",
   "id": "20d6c402",
   "metadata": {},
   "source": [
    "### Cluster Analysis\n",
    "\n",
    "The goal of this notebook is to explore the data structure for hidden\n",
    "clusters. Good clusters have high intra-class similarity and low\n",
    "inter-class similarity. Good clustering produces clusters where points\n",
    "within a cluster are similar and dissimilar from points in different\n",
    "clusters. We hope to find good clusters in the data we could exploit by\n",
    "fitting classification models on individual clusters instead of the\n",
    "entire dataset. We expect the models for individual clusters to be more\n",
    "accurate and provide better results than a single model fitted on the\n",
    "entire dataset."
   ]
  },
  {
   "cell_type": "code",
   "execution_count": null,
   "id": "fc74f5a3",
   "metadata": {},
   "outputs": [],
   "source": [
    "import matplotlib.pyplot as plt\n",
    "from matplotlib import cm\n",
    "import numpy as np\n",
    "import pandas as pd\n",
    "from sklearn.cluster import AgglomerativeClustering, DBSCAN, KMeans, OPTICS\n",
    "from sklearn.decomposition import PCA\n",
    "from sklearn.metrics import calinski_harabasz_score, davies_bouldin_score, silhouette_score, silhouette_samples\n",
    "from sklearn.model_selection import GridSearchCV\n",
    "from sklearn.preprocessing import MinMaxScaler\n",
    "import warnings\n",
    "%matplotlib inline"
   ]
  },
  {
   "cell_type": "code",
   "execution_count": null,
   "id": "9b00bb2e",
   "metadata": {},
   "outputs": [],
   "source": [
    "# Format output of data frame. \n",
    "pd.set_option(\"precision\", 4)\n",
    "pd.set_option('display.max_columns', None)"
   ]
  },
  {
   "cell_type": "code",
   "execution_count": null,
   "id": "4b5d4e6b",
   "metadata": {},
   "outputs": [],
   "source": [
    "# Load the data with all columns\n",
    "co2 = pd.read_csv('Data/CAIT Country CO2 Emissions-Energy Sub-Sector.csv', skiprows=[0])\n",
    "ghg = pd.read_csv('Data/CAIT Country GHG Emissions.csv', skiprows=[0, 1])"
   ]
  },
  {
   "cell_type": "code",
   "execution_count": null,
   "id": "db75e568",
   "metadata": {},
   "outputs": [],
   "source": [
    "# Drop rows with NA\n",
    "co2 = co2.dropna()\n",
    "ghg = ghg.dropna()"
   ]
  },
  {
   "cell_type": "code",
   "execution_count": null,
   "id": "9472ab90",
   "metadata": {},
   "outputs": [],
   "source": [
    "# Create multilevel indexes\n",
    "co2Index = pd.MultiIndex.from_frame(co2.iloc[:,:2])\n",
    "ghgIndex = pd.MultiIndex.from_frame(ghg.iloc[:,:2])"
   ]
  },
  {
   "cell_type": "code",
   "execution_count": null,
   "id": "297edd05",
   "metadata": {},
   "outputs": [],
   "source": [
    "ghg.index = ghgIndex\n",
    "ghg = ghg.iloc[:,2:]\n",
    "\n",
    "co2.index = co2Index\n",
    "co2 = co2.iloc[:,2:-1]"
   ]
  },
  {
   "cell_type": "code",
   "execution_count": null,
   "id": "40d76853",
   "metadata": {},
   "outputs": [],
   "source": [
    "# Scale data using min-max scaling.\n",
    "scaler = MinMaxScaler()\n",
    "scaler.fit(ghg)\n",
    "ghgScale = scaler.transform(ghg)"
   ]
  },
  {
   "cell_type": "code",
   "execution_count": null,
   "id": "954bca44",
   "metadata": {},
   "outputs": [],
   "source": [
    "# Scale data using min-max scaling.\n",
    "scaler = MinMaxScaler()\n",
    "scaler.fit(co2)\n",
    "co2Scale = scaler.transform(co2)"
   ]
  },
  {
   "cell_type": "markdown",
   "id": "aab0c872",
   "metadata": {},
   "source": [
    "## Functions\n",
    "\n",
    "The following functions will be used throughout the cluster analysis\n",
    "that follows.\n",
    "\n",
    "The runClusteringModel function fits the cluster model and returns three\n",
    "different clustering scores, along with the cluster labels. The three\n",
    "clustering scores are the Variance Ratio Criterion, Davies-Bouldin\n",
    "Criterion, and Silhouette Coefficient using the specified distance\n",
    "measure."
   ]
  },
  {
   "cell_type": "code",
   "execution_count": null,
   "id": "5da4bae0",
   "metadata": {},
   "outputs": [],
   "source": [
    "def runClusteringModel(data, silhouetteScoreMeasure, clusteringModel): \n",
    "    \"\"\"Returns Variance Ratio Criterion, Davies-Bouldin score, Silhouette Coefficient \n",
    "    based on given distance measure, and the class labels.\"\"\"\n",
    "\n",
    "    # Initialize and fit clustering model\n",
    "    mdl = clusteringModel\n",
    "    mdl.fit(data)    \n",
    "\n",
    "    mdlLabels = mdl.labels_  # Get cluster labels\n",
    "\n",
    "    VRC = calinski_harabasz_score(data, mdlLabels)\n",
    "    dBScore = davies_bouldin_score(data, mdlLabels)\n",
    "    silhouetteScore = silhouette_score(data, mdlLabels, metric=silhouetteScoreMeasure, random_state=210)\n",
    "\n",
    "    return VRC, dBScore, silhouetteScore, mdlLabels"
   ]
  },
  {
   "cell_type": "markdown",
   "id": "bc598747",
   "metadata": {},
   "source": [
    "The runPCAClusteringModel function performs PCA analysis keeping the\n",
    "number of components for the amount of variance specified by the user as\n",
    "an input parameter.  \n",
    "The function then calls runClusteringModel to run\n",
    "the cluster analysis using the PCA transformed data. It returns the same\n",
    "information as runClusteringModel plus the number of components needed\n",
    "to capture the amount of variance specified."
   ]
  },
  {
   "cell_type": "code",
   "execution_count": null,
   "id": "4bfbfe35",
   "metadata": {},
   "outputs": [],
   "source": [
    "def runPCAClusteringModel(data, silhouetteScoreMeasure, varCaptured, clusteringModel): \n",
    "    \"\"\"Returns the results of clustering algorithm using PCA transformed data and the number of components\n",
    "    required to caputure the inputted amount of variance.\n",
    "    varCaptured is in decimal form to specify the amount of the data's variance the components capture. \n",
    "    \"\"\"\n",
    "\n",
    "    pca = PCA(n_components=None)\n",
    "\n",
    "    # Initialize PCA keeping all components and fit to data. \n",
    "    pca = PCA(n_components=None)\n",
    "    pca.fit(data)\n",
    "\n",
    "    # Find number of components that obtain 95% of variance\n",
    "    cumVar = pca.explained_variance_ratio_.cumsum().round(decimals=2)\n",
    "    i = 0\n",
    "    while True:\n",
    "        if cumVar[i] >= varCaptured:  # True if at least varCaptured of the variance is captured\n",
    "            numComp = i + 1  # Component number is index plus 1. \n",
    "            break\n",
    "        i += 1\n",
    "\n",
    "    # Rerun PCA analysis and transformations keeping only three components. \n",
    "    pca = PCA(n_components=numComp)\n",
    "    pca.fit(data)\n",
    "    data_pca = pca.transform(data)\n",
    "\n",
    "    # Call runClusteringModel function with PCA transformed data.\n",
    "    VRC, dBScore, silhouetteScore, mdlLabels = runClusteringModel(data_pca, silhouetteScoreMeasure, clusteringModel)\n",
    "    return VRC, dBScore, silhouetteScore, mdlLabels, numComp"
   ]
  },
  {
   "cell_type": "markdown",
   "id": "aaeb4e5d",
   "metadata": {},
   "source": [
    "The printClusteringStats function prints the results of the cluster\n",
    "analysis. The results include the three clustering scores obtain from\n",
    "runClusteringModel. Additionally, the function prints the number of\n",
    "clusters produced and some information regarding the top 5 clusters\n",
    "based on the number of instances associated with them."
   ]
  },
  {
   "cell_type": "code",
   "execution_count": null,
   "id": "4f51ed43",
   "metadata": {},
   "outputs": [],
   "source": [
    "def printClusteringStats(VRC, dBScore, silhouetteScore, silhouetteScoreMeasure, mdlLabels):\n",
    "    \"\"\"Prints clustering results, different measures, number of clusters, and stats of top 5 clusters.\"\"\"\n",
    "    print('The Variance Ratio Criterion is equal to ' + str(round(VRC,2)) + '.')\n",
    "    print('The Davies-Bouldin score is equal to ' + str(round(dBScore,2)) + '.')\n",
    "    print('The mean Silhouette Coefficient using the ' + silhouetteScoreMeasure + ' distance is equal to ' + str(round(silhouetteScore,2)) + '.')\n",
    "    print('The model produced ' + str(mdlLabels.max() + 1) + ' clusters.\\n')\n",
    "\n",
    "    #show top five clusters and percentage of data in each\n",
    "    unique, counts = np.unique(mdlLabels, return_counts=True)\n",
    "    percent = counts/mdlLabels.size\n",
    "    clusters = pd.DataFrame({'Clusters': unique, 'Number of Instances': counts, 'Percent of Instances': percent})\n",
    "    print(clusters.sort_values(by=['Number of Instances'], ascending=False).head(5))\n",
    "    return"
   ]
  },
  {
   "cell_type": "markdown",
   "id": "6cf00812",
   "metadata": {},
   "source": [
    "The silhouette_scorer function is the scoring method used for\n",
    "GridSearchCV function. silhouette_scorer is needed because there is no\n",
    "built-in option for GridSearchCV to score clusters without the true\n",
    "class labels, which we do not know in this situation. After all, we're\n",
    "trying to find unknown clusters in the data."
   ]
  },
  {
   "cell_type": "code",
   "execution_count": null,
   "id": "1ed25c9e",
   "metadata": {},
   "outputs": [],
   "source": [
    "def silhouette_scorer(data, clusteringModel, silhouetteScoreMeasure='euclidean'):\n",
    "    \"\"\"Returns Silhouette Coefficient to be used in GridSearchCV.\"\"\"\n",
    "\n",
    "    # Initialize and fit clustering model\n",
    "    mdl = clusteringModel\n",
    "    mdl.fit(data)    \n",
    "\n",
    "    mdlLabels = mdl.labels_  # Get cluster labels\n",
    "\n",
    "    numLabels = np.unique(mdlLabels).size \n",
    "    numInstances = data.shape[0]\n",
    "\n",
    "    if numLabels == 1 or numLabels == numInstances:  # True if only one cluster or cluster for each individual instance\n",
    "        return -1\n",
    "    else:\n",
    "        return silhouette_score(data, mdlLabels, metric=silhouetteScoreMeasure, random_state=210)"
   ]
  },
  {
   "cell_type": "markdown",
   "id": "204d9b59",
   "metadata": {},
   "source": [
    "The graphResults function graphs the results from using different\n",
    "hyperparameters. It displays the Variance Ratio Criterion,\n",
    "Davies-Bouldin Index, and Silhouette Coefficient on the Y-axes over the\n",
    "range of hyperparameter values on the x-axis."
   ]
  },
  {
   "cell_type": "code",
   "execution_count": null,
   "id": "d6715ebe",
   "metadata": {},
   "outputs": [],
   "source": [
    "def graphResults(x, VRCLst, dBScoreLst, silhouetteScoreLst):\n",
    "    \"\"\"Produce graph for tuning clustering parameters\"\"\"\n",
    "\n",
    "    # Create graph with number of K on x-axis and measures on y-axes.\n",
    "    fig,ax = plt.subplots()\n",
    "\n",
    "    # Formatting Y-axis on left side of plot \n",
    "    vrc = ax.plot(x, VRCLst, color='red', marker='o', label='Variance Ratio Criterion')\n",
    "    ax.set_xlabel(\"Hyperparameter\",fontsize=14)\n",
    "    ax.set_ylabel(\"Variance Ratio Criterion\",color=\"red\",fontsize=14)\n",
    "\n",
    "    # Formatting Y-axis on right side of plot\n",
    "    ax2=ax.twinx()\n",
    "    dbScore = ax2.plot(x, dBScoreLst,color='blue',marker='o', label='Davies–Bouldin index')\n",
    "    silScore = ax2.plot(x, silhouetteScoreLst,color='green',marker='o', label='Silhouette Score')\n",
    "    ax2.set_ylabel(\"DB & Silhouette Score\",color='blue',fontsize=14)\n",
    "\n",
    "    # Formatting the legend and displaying plot\n",
    "    lns = vrc+dbScore+silScore\n",
    "    labs = [l.get_label() for l in lns]\n",
    "    ax.legend(lns, labs, loc='center left', bbox_to_anchor=(1.25, 0.5))\n",
    "    plt.show()"
   ]
  },
  {
   "cell_type": "code",
   "execution_count": null,
   "id": "8e4127c6",
   "metadata": {},
   "outputs": [],
   "source": [
    "def plot_silhouettes(data, clusters, metric='euclidean'):\n",
    "    \"\"\"Plots cluster silhouettes.\"\"\"\n",
    "\n",
    "    cluster_labels = np.unique(clusters)+1  # Label clusters beginning at 1.\n",
    "    n_clusters = cluster_labels.shape[0]\n",
    "    silhouette_vals = silhouette_samples(data, clusters, metric='cosine')\n",
    "    c_ax_lower, c_ax_upper = 0, 0\n",
    "    cticks = []\n",
    "    for i, k in enumerate(cluster_labels):\n",
    "        c_silhouette_vals = silhouette_vals[clusters == k]\n",
    "        c_silhouette_vals.sort()\n",
    "        c_ax_upper += len(c_silhouette_vals)\n",
    "        color = cm.jet(float(i) / n_clusters)\n",
    "        plt.barh(range(c_ax_lower, c_ax_upper), c_silhouette_vals, height=1.0, \n",
    "                      edgecolor='none', color=color)\n",
    "\n",
    "        cticks.append((c_ax_lower + c_ax_upper) / 2)\n",
    "        c_ax_lower += len(c_silhouette_vals)\n",
    "\n",
    "    silhouette_avg = np.mean(silhouette_vals)\n",
    "    plt.axvline(silhouette_avg, color=\"red\", linestyle=\"--\") \n",
    "\n",
    "    plt.yticks(cticks, cluster_labels)\n",
    "    plt.ylabel('Cluster')\n",
    "    plt.xlabel('Silhouette coefficient')\n",
    "\n",
    "    plt.tight_layout()\n",
    "    plt.show()\n",
    "\n",
    "    return"
   ]
  },
  {
   "cell_type": "code",
   "execution_count": null,
   "id": "84204750",
   "metadata": {},
   "outputs": [],
   "source": [
    "def tuner(data, model, simMeasure='euclidean', varCaptured = .95):\n",
    "    # X-axis values and those to be tested for k\n",
    "    x = np.arange(2, 18)\n",
    "\n",
    "    # placeholders for evaluation measure scores.\n",
    "    VRCLst = []\n",
    "    dBScoreLst = []\n",
    "    silhouetteScoreLst = []\n",
    "\n",
    "    # Test different values for K\n",
    "    for k in x:\n",
    "        if model == 'runClusteringModel':\n",
    "            VRC, dBScore, silhouetteScore, mdlLabels = runClusteringModel(data, simMeasure, KMeans(n_clusters=k, random_state=210))\n",
    "        else:\n",
    "            VRC, dBScore, silhouetteScore, mdlLabels, numComp = runPCAClusteringModel(data, simMeasure, varCaptured, KMeans(n_clusters=k, random_state=210))\n",
    "        VRCLst.append(VRC)\n",
    "        dBScoreLst.append(dBScore)\n",
    "        silhouetteScoreLst.append(silhouetteScore)\n",
    "\n",
    "    graphResults(x, VRCLst, dBScoreLst, silhouetteScoreLst)"
   ]
  },
  {
   "cell_type": "markdown",
   "id": "5d53b19e",
   "metadata": {},
   "source": [
    "## KMeans Clustering\n",
    "\n",
    "#### GHG"
   ]
  },
  {
   "cell_type": "code",
   "execution_count": null,
   "id": "89444f58",
   "metadata": {},
   "outputs": [],
   "source": [
    "tuner(ghgScale, 'runClusteringModel', 'euclidean')"
   ]
  },
  {
   "cell_type": "code",
   "execution_count": null,
   "id": "51255339",
   "metadata": {},
   "outputs": [],
   "source": [
    "silhouetteScoreMeasure = 'euclidean'\n",
    "VRC, dBScore, silhouetteScore, mdlLabels = runClusteringModel(ghgScale, silhouetteScoreMeasure, KMeans(n_clusters=2, random_state=210))\n",
    "printClusteringStats(VRC, dBScore, silhouetteScore, silhouetteScoreMeasure, mdlLabels)"
   ]
  },
  {
   "cell_type": "code",
   "execution_count": null,
   "id": "2cebb7a6",
   "metadata": {},
   "outputs": [],
   "source": [
    "plot_silhouettes(ghgScale, mdlLabels)"
   ]
  },
  {
   "cell_type": "code",
   "execution_count": null,
   "id": "01d941f6",
   "metadata": {},
   "outputs": [],
   "source": [
    "silhouetteScoreMeasure = 'euclidean'\n",
    "VRC, dBScore, silhouetteScore, mdlLabels = runClusteringModel(ghgScale, silhouetteScoreMeasure, KMeans(n_clusters=3, random_state=210))\n",
    "printClusteringStats(VRC, dBScore, silhouetteScore, silhouetteScoreMeasure, mdlLabels)"
   ]
  },
  {
   "cell_type": "code",
   "execution_count": null,
   "id": "e396784d",
   "metadata": {},
   "outputs": [],
   "source": [
    "plot_silhouettes(ghgScale, mdlLabels)"
   ]
  },
  {
   "cell_type": "code",
   "execution_count": null,
   "id": "ee257289",
   "metadata": {},
   "outputs": [],
   "source": [
    "tuner(ghgScale, 'runClusteringModel', 'cosine')"
   ]
  },
  {
   "cell_type": "code",
   "execution_count": null,
   "id": "9450c860",
   "metadata": {},
   "outputs": [],
   "source": [
    "silhouetteScoreMeasure = 'cosine'\n",
    "VRC, dBScore, silhouetteScore, mdlLabels = runClusteringModel(ghgScale, silhouetteScoreMeasure, KMeans(n_clusters=2, random_state=210))\n",
    "printClusteringStats(VRC, dBScore, silhouetteScore, silhouetteScoreMeasure, mdlLabels)"
   ]
  },
  {
   "cell_type": "code",
   "execution_count": null,
   "id": "72e5d7f6",
   "metadata": {},
   "outputs": [],
   "source": [
    "plot_silhouettes(ghgScale, mdlLabels)"
   ]
  },
  {
   "cell_type": "code",
   "execution_count": null,
   "id": "cb06ea8f",
   "metadata": {},
   "outputs": [],
   "source": [
    "silhouetteScoreMeasure = 'cosine'\n",
    "VRC, dBScore, silhouetteScore, mdlLabels = runClusteringModel(ghgScale, silhouetteScoreMeasure, KMeans(n_clusters=3, random_state=210))\n",
    "printClusteringStats(VRC, dBScore, silhouetteScore, silhouetteScoreMeasure, mdlLabels)"
   ]
  },
  {
   "cell_type": "code",
   "execution_count": null,
   "id": "d6d6c26d",
   "metadata": {},
   "outputs": [],
   "source": [
    "plot_silhouettes(ghgScale, mdlLabels)"
   ]
  },
  {
   "cell_type": "code",
   "execution_count": null,
   "id": "fdca8c6a",
   "metadata": {},
   "outputs": [],
   "source": [
    "tuner(ghgScale, 'runPCAClusteringModel', 'euclidean')"
   ]
  },
  {
   "cell_type": "code",
   "execution_count": null,
   "id": "5a231597",
   "metadata": {},
   "outputs": [],
   "source": [
    "silhouetteScoreMeasure = 'euclidean'\n",
    "VRC, dBScore, silhouetteScore, mdlLabels, numComp = runPCAClusteringModel(ghgScale, silhouetteScoreMeasure, .95, KMeans(n_clusters=2, random_state=210))\n",
    "printClusteringStats(VRC, dBScore, silhouetteScore, silhouetteScoreMeasure, mdlLabels)"
   ]
  },
  {
   "cell_type": "code",
   "execution_count": null,
   "id": "e23e3516",
   "metadata": {},
   "outputs": [],
   "source": [
    "plot_silhouettes(ghgScale, mdlLabels)"
   ]
  },
  {
   "cell_type": "code",
   "execution_count": null,
   "id": "648e0203",
   "metadata": {},
   "outputs": [],
   "source": [
    "silhouetteScoreMeasure = 'euclidean'\n",
    "VRC, dBScore, silhouetteScore, mdlLabels, numComp = runPCAClusteringModel(ghgScale, silhouetteScoreMeasure, .95, KMeans(n_clusters=3, random_state=210))\n",
    "printClusteringStats(VRC, dBScore, silhouetteScore, silhouetteScoreMeasure, mdlLabels)"
   ]
  },
  {
   "cell_type": "code",
   "execution_count": null,
   "id": "444b2477",
   "metadata": {},
   "outputs": [],
   "source": [
    "plot_silhouettes(ghgScale, mdlLabels)"
   ]
  },
  {
   "cell_type": "code",
   "execution_count": null,
   "id": "2f5c63d1",
   "metadata": {},
   "outputs": [],
   "source": [
    "tuner(ghgScale, 'runPCAClusteringModel', 'cosine')"
   ]
  },
  {
   "cell_type": "code",
   "execution_count": null,
   "id": "70a18d93",
   "metadata": {},
   "outputs": [],
   "source": [
    "silhouetteScoreMeasure = 'cosine'\n",
    "VRC, dBScore, silhouetteScore, mdlLabels, numComp = runPCAClusteringModel(ghgScale, silhouetteScoreMeasure, .95, KMeans(n_clusters=2, random_state=210))\n",
    "printClusteringStats(VRC, dBScore, silhouetteScore, silhouetteScoreMeasure, mdlLabels)"
   ]
  },
  {
   "cell_type": "code",
   "execution_count": null,
   "id": "e5d376d4",
   "metadata": {},
   "outputs": [],
   "source": [
    "plot_silhouettes(ghgScale, mdlLabels)"
   ]
  },
  {
   "cell_type": "code",
   "execution_count": null,
   "id": "9aa66bc8",
   "metadata": {},
   "outputs": [],
   "source": [
    "silhouetteScoreMeasure = 'cosine'\n",
    "VRC, dBScore, silhouetteScore, mdlLabels, numComp = runPCAClusteringModel(ghgScale, silhouetteScoreMeasure, .95, KMeans(n_clusters=3, random_state=210))\n",
    "printClusteringStats(VRC, dBScore, silhouetteScore, silhouetteScoreMeasure, mdlLabels)"
   ]
  },
  {
   "cell_type": "code",
   "execution_count": null,
   "id": "bbaae0d3",
   "metadata": {},
   "outputs": [],
   "source": [
    "plot_silhouettes(ghgScale, mdlLabels)"
   ]
  },
  {
   "cell_type": "code",
   "execution_count": null,
   "id": "db381064",
   "metadata": {},
   "outputs": [],
   "source": [
    "warnings.filterwarnings('ignore')\n",
    "cv = [(slice(None), slice(None))]\n",
    "paramDict = {'n_clusters': np.arange(2, 18)}\n",
    "grid = GridSearchCV(estimator=KMeans(random_state=210), param_grid=paramDict, \n",
    "                  scoring=silhouette_scorer, cv=cv, n_jobs=-1)\n",
    "grid.fit(ghgScale)\n",
    "print(grid.best_params_) "
   ]
  },
  {
   "cell_type": "markdown",
   "id": "8ee90878",
   "metadata": {},
   "source": [
    "#### CO2"
   ]
  },
  {
   "cell_type": "code",
   "execution_count": null,
   "id": "4c6f236b",
   "metadata": {},
   "outputs": [],
   "source": [
    "tuner(co2Scale, 'runClusteringModel', 'euclidean')"
   ]
  },
  {
   "cell_type": "code",
   "execution_count": null,
   "id": "3816bc17",
   "metadata": {},
   "outputs": [],
   "source": [
    "silhouetteScoreMeasure = 'euclidean'\n",
    "VRC, dBScore, silhouetteScore, mdlLabels = runClusteringModel(co2Scale, silhouetteScoreMeasure, KMeans(n_clusters=2, random_state=210))\n",
    "printClusteringStats(VRC, dBScore, silhouetteScore, silhouetteScoreMeasure, mdlLabels)"
   ]
  },
  {
   "cell_type": "code",
   "execution_count": null,
   "id": "217fe9c1",
   "metadata": {},
   "outputs": [],
   "source": [
    "plot_silhouettes(co2Scale, mdlLabels)"
   ]
  },
  {
   "cell_type": "code",
   "execution_count": null,
   "id": "19ddaec6",
   "metadata": {},
   "outputs": [],
   "source": [
    "silhouetteScoreMeasure = 'euclidean'\n",
    "VRC, dBScore, silhouetteScore, mdlLabels = runClusteringModel(co2Scale, silhouetteScoreMeasure, KMeans(n_clusters=3, random_state=210))\n",
    "printClusteringStats(VRC, dBScore, silhouetteScore, silhouetteScoreMeasure, mdlLabels)"
   ]
  },
  {
   "cell_type": "code",
   "execution_count": null,
   "id": "d1820f61",
   "metadata": {},
   "outputs": [],
   "source": [
    "plot_silhouettes(co2Scale, mdlLabels)"
   ]
  },
  {
   "cell_type": "code",
   "execution_count": null,
   "id": "81e376ce",
   "metadata": {},
   "outputs": [],
   "source": [
    "tuner(co2Scale, 'runClusteringModel', 'cosine')"
   ]
  },
  {
   "cell_type": "code",
   "execution_count": null,
   "id": "ae58f3f7",
   "metadata": {},
   "outputs": [],
   "source": [
    "silhouetteScoreMeasure = 'cosine'\n",
    "VRC, dBScore, silhouetteScore, mdlLabels = runClusteringModel(co2Scale, silhouetteScoreMeasure, KMeans(n_clusters=2, random_state=210))\n",
    "printClusteringStats(VRC, dBScore, silhouetteScore, silhouetteScoreMeasure, mdlLabels)"
   ]
  },
  {
   "cell_type": "code",
   "execution_count": null,
   "id": "6329d018",
   "metadata": {},
   "outputs": [],
   "source": [
    "plot_silhouettes(co2Scale, mdlLabels)"
   ]
  },
  {
   "cell_type": "code",
   "execution_count": null,
   "id": "b2bf3cfb",
   "metadata": {},
   "outputs": [],
   "source": [
    "silhouetteScoreMeasure = 'cosine'\n",
    "VRC, dBScore, silhouetteScore, mdlLabels = runClusteringModel(co2Scale, silhouetteScoreMeasure, KMeans(n_clusters=3, random_state=210))\n",
    "printClusteringStats(VRC, dBScore, silhouetteScore, silhouetteScoreMeasure, mdlLabels)"
   ]
  },
  {
   "cell_type": "code",
   "execution_count": null,
   "id": "30957295",
   "metadata": {},
   "outputs": [],
   "source": [
    "plot_silhouettes(co2Scale, mdlLabels)"
   ]
  },
  {
   "cell_type": "code",
   "execution_count": null,
   "id": "15a64645",
   "metadata": {},
   "outputs": [],
   "source": [
    "tuner(co2Scale, 'runPCAClusteringModel', 'euclidean')"
   ]
  },
  {
   "cell_type": "code",
   "execution_count": null,
   "id": "ce4681c7",
   "metadata": {},
   "outputs": [],
   "source": [
    "silhouetteScoreMeasure = 'euclidean'\n",
    "VRC, dBScore, silhouetteScore, mdlLabels, numComp = runPCAClusteringModel(co2Scale, silhouetteScoreMeasure, .95, KMeans(n_clusters=2, random_state=210))\n",
    "printClusteringStats(VRC, dBScore, silhouetteScore, silhouetteScoreMeasure, mdlLabels)"
   ]
  },
  {
   "cell_type": "code",
   "execution_count": null,
   "id": "af7bddaf",
   "metadata": {},
   "outputs": [],
   "source": [
    "plot_silhouettes(co2Scale, mdlLabels)"
   ]
  },
  {
   "cell_type": "code",
   "execution_count": null,
   "id": "877b6f3e",
   "metadata": {},
   "outputs": [],
   "source": [
    "silhouetteScoreMeasure = 'euclidean'\n",
    "VRC, dBScore, silhouetteScore, mdlLabels, numComp = runPCAClusteringModel(co2Scale, silhouetteScoreMeasure, .95, KMeans(n_clusters=3, random_state=210))\n",
    "printClusteringStats(VRC, dBScore, silhouetteScore, silhouetteScoreMeasure, mdlLabels)"
   ]
  },
  {
   "cell_type": "code",
   "execution_count": null,
   "id": "ad2f5912",
   "metadata": {},
   "outputs": [],
   "source": [
    "plot_silhouettes(co2Scale, mdlLabels)"
   ]
  },
  {
   "cell_type": "code",
   "execution_count": null,
   "id": "7b748ca7",
   "metadata": {},
   "outputs": [],
   "source": [
    "tuner(co2Scale, 'runPCAClusteringModel', 'cosine')"
   ]
  },
  {
   "cell_type": "code",
   "execution_count": null,
   "id": "d14f7a9a",
   "metadata": {},
   "outputs": [],
   "source": [
    "silhouetteScoreMeasure = 'cosine'\n",
    "VRC, dBScore, silhouetteScore, mdlLabels, numComp = runPCAClusteringModel(co2Scale, silhouetteScoreMeasure, .95, KMeans(n_clusters=2, random_state=210))\n",
    "printClusteringStats(VRC, dBScore, silhouetteScore, silhouetteScoreMeasure, mdlLabels)"
   ]
  },
  {
   "cell_type": "code",
   "execution_count": null,
   "id": "ea6bb6a2",
   "metadata": {},
   "outputs": [],
   "source": [
    "plot_silhouettes(co2Scale, mdlLabels)"
   ]
  },
  {
   "cell_type": "code",
   "execution_count": null,
   "id": "d5a6074c",
   "metadata": {},
   "outputs": [],
   "source": [
    "silhouetteScoreMeasure = 'cosine'\n",
    "VRC, dBScore, silhouetteScore, mdlLabels, numComp = runPCAClusteringModel(co2Scale, silhouetteScoreMeasure, .95, KMeans(n_clusters=3, random_state=210))\n",
    "printClusteringStats(VRC, dBScore, silhouetteScore, silhouetteScoreMeasure, mdlLabels)"
   ]
  },
  {
   "cell_type": "code",
   "execution_count": null,
   "id": "e217f4c5",
   "metadata": {},
   "outputs": [],
   "source": [
    "plot_silhouettes(co2Scale, mdlLabels)"
   ]
  },
  {
   "cell_type": "code",
   "execution_count": null,
   "id": "38598e29",
   "metadata": {},
   "outputs": [],
   "source": [
    "warnings.filterwarnings('ignore')\n",
    "cv = [(slice(None), slice(None))]\n",
    "paramDict = {'n_clusters': np.arange(2, 18)}\n",
    "grid = GridSearchCV(estimator=KMeans(random_state=210), param_grid=paramDict, \n",
    "                  scoring=silhouette_scorer, cv=cv, n_jobs=-1)\n",
    "grid.fit(co2Scale)\n",
    "print(grid.best_params_) "
   ]
  },
  {
   "cell_type": "markdown",
   "id": "c5289bab",
   "metadata": {},
   "source": [
    "K-Means clustering with and without PCA transformed data did not perform\n",
    "well. The best Silhouette Coefficient produced was .19. The two clusters\n",
    "may represent functional and non functional water pumps."
   ]
  },
  {
   "cell_type": "markdown",
   "id": "474f60a0",
   "metadata": {},
   "source": [
    "## Density-Based Spatial Clustering of Applications with Noise (DBSCAN)"
   ]
  },
  {
   "cell_type": "code",
   "execution_count": null,
   "id": "a8d12ce5",
   "metadata": {},
   "outputs": [],
   "source": [
    "def dbTuner(data, model, simMeasure='euclidean', varCaptured = .95):\n",
    "    # X-axis values and those to be tested for k\n",
    "    x = np.linspace(.1, .4, 20)\n",
    "\n",
    "    # placeholders for evaluation measure scores.\n",
    "    VRCLst = []\n",
    "    dBScoreLst = []\n",
    "    silhouetteScoreLst = []\n",
    "\n",
    "    # Test different values for K\n",
    "    for eps in x:\n",
    "        if model == 'runClusteringModel':\n",
    "            VRC, dBScore, silhouetteScore, mdlLabels = runClusteringModel(data, simMeasure, DBSCAN(eps=eps))\n",
    "        else:\n",
    "            VRC, dBScore, silhouetteScore, mdlLabels, numComp = runPCAClusteringModel(data, simMeasure, varCaptured, DBSCAN(eps=eps))\n",
    "        VRCLst.append(VRC)\n",
    "        dBScoreLst.append(dBScore)\n",
    "        silhouetteScoreLst.append(silhouetteScore)\n",
    "\n",
    "    graphResults(x, VRCLst, dBScoreLst, silhouetteScoreLst)"
   ]
  },
  {
   "cell_type": "markdown",
   "id": "0bdeabf0",
   "metadata": {},
   "source": [
    "#### GHG"
   ]
  },
  {
   "cell_type": "code",
   "execution_count": null,
   "id": "bfc0d4bd",
   "metadata": {},
   "outputs": [],
   "source": [
    "dbTuner(ghgScale, 'runClusteringModel', 'euclidean')"
   ]
  },
  {
   "cell_type": "code",
   "execution_count": null,
   "id": "a8d557f1",
   "metadata": {},
   "outputs": [],
   "source": [
    "silhouetteScoreMeasure = 'euclidean'\n",
    "VRC, dBScore, silhouetteScore, mdlLabels = runClusteringModel(ghgScale, silhouetteScoreMeasure, DBSCAN(eps=.1))\n",
    "printClusteringStats(VRC, dBScore, silhouetteScore, silhouetteScoreMeasure, mdlLabels)"
   ]
  },
  {
   "cell_type": "code",
   "execution_count": null,
   "id": "b5dc837e",
   "metadata": {},
   "outputs": [],
   "source": [
    "plot_silhouettes(ghgScale, mdlLabels)"
   ]
  },
  {
   "cell_type": "code",
   "execution_count": null,
   "id": "8d491fd0",
   "metadata": {},
   "outputs": [],
   "source": [
    "silhouetteScoreMeasure = 'euclidean'\n",
    "VRC, dBScore, silhouetteScore, mdlLabels = runClusteringModel(ghgScale, silhouetteScoreMeasure, DBSCAN(eps=.15))\n",
    "printClusteringStats(VRC, dBScore, silhouetteScore, silhouetteScoreMeasure, mdlLabels)"
   ]
  },
  {
   "cell_type": "code",
   "execution_count": null,
   "id": "24b76ed7",
   "metadata": {},
   "outputs": [],
   "source": [
    "plot_silhouettes(ghgScale, mdlLabels)"
   ]
  },
  {
   "cell_type": "code",
   "execution_count": null,
   "id": "46a4d8b6",
   "metadata": {},
   "outputs": [],
   "source": [
    "silhouetteScoreMeasure = 'euclidean'\n",
    "VRC, dBScore, silhouetteScore, mdlLabels = runClusteringModel(ghgScale, silhouetteScoreMeasure, DBSCAN(eps=.2))\n",
    "printClusteringStats(VRC, dBScore, silhouetteScore, silhouetteScoreMeasure, mdlLabels)"
   ]
  },
  {
   "cell_type": "code",
   "execution_count": null,
   "id": "c4de50b1",
   "metadata": {},
   "outputs": [],
   "source": [
    "plot_silhouettes(ghgScale, mdlLabels)"
   ]
  },
  {
   "cell_type": "code",
   "execution_count": null,
   "id": "59e02438",
   "metadata": {},
   "outputs": [],
   "source": [
    "dbTuner(ghgScale, 'runClusteringModel', 'cosine')"
   ]
  },
  {
   "cell_type": "code",
   "execution_count": null,
   "id": "190f97a1",
   "metadata": {},
   "outputs": [],
   "source": [
    "silhouetteScoreMeasure = 'cosine'\n",
    "VRC, dBScore, silhouetteScore, mdlLabels = runClusteringModel(ghgScale, silhouetteScoreMeasure, DBSCAN(eps=.1))\n",
    "printClusteringStats(VRC, dBScore, silhouetteScore, silhouetteScoreMeasure, mdlLabels)"
   ]
  },
  {
   "cell_type": "code",
   "execution_count": null,
   "id": "a6ca45bf",
   "metadata": {},
   "outputs": [],
   "source": [
    "plot_silhouettes(ghgScale, mdlLabels)"
   ]
  },
  {
   "cell_type": "code",
   "execution_count": null,
   "id": "92d03661",
   "metadata": {},
   "outputs": [],
   "source": [
    "silhouetteScoreMeasure = 'cosine'\n",
    "VRC, dBScore, silhouetteScore, mdlLabels = runClusteringModel(ghgScale, silhouetteScoreMeasure, DBSCAN(eps=.13))\n",
    "printClusteringStats(VRC, dBScore, silhouetteScore, silhouetteScoreMeasure, mdlLabels)"
   ]
  },
  {
   "cell_type": "code",
   "execution_count": null,
   "id": "ad14058c",
   "metadata": {},
   "outputs": [],
   "source": [
    "plot_silhouettes(ghgScale, mdlLabels)"
   ]
  },
  {
   "cell_type": "code",
   "execution_count": null,
   "id": "4086e474",
   "metadata": {},
   "outputs": [],
   "source": [
    "silhouetteScoreMeasure = 'cosine'\n",
    "VRC, dBScore, silhouetteScore, mdlLabels = runClusteringModel(ghgScale, silhouetteScoreMeasure, DBSCAN(eps=.15))\n",
    "printClusteringStats(VRC, dBScore, silhouetteScore, silhouetteScoreMeasure, mdlLabels)"
   ]
  },
  {
   "cell_type": "code",
   "execution_count": null,
   "id": "4c5363f2",
   "metadata": {},
   "outputs": [],
   "source": [
    "plot_silhouettes(ghgScale, mdlLabels)"
   ]
  },
  {
   "cell_type": "code",
   "execution_count": null,
   "id": "90b113e7",
   "metadata": {},
   "outputs": [],
   "source": [
    "dbTuner(ghgScale, 'runPCAClusteringModel', 'euclidean')"
   ]
  },
  {
   "cell_type": "code",
   "execution_count": null,
   "id": "196372a0",
   "metadata": {},
   "outputs": [],
   "source": [
    "silhouetteScoreMeasure = 'euclidean'\n",
    "VRC, dBScore, silhouetteScore, mdlLabels, numComp = runPCAClusteringModel(ghgScale, silhouetteScoreMeasure, .95, DBSCAN(eps=.1))\n",
    "printClusteringStats(VRC, dBScore, silhouetteScore, silhouetteScoreMeasure, mdlLabels)"
   ]
  },
  {
   "cell_type": "code",
   "execution_count": null,
   "id": "ec1637c9",
   "metadata": {},
   "outputs": [],
   "source": [
    "plot_silhouettes(ghgScale, mdlLabels)"
   ]
  },
  {
   "cell_type": "code",
   "execution_count": null,
   "id": "8a44139a",
   "metadata": {},
   "outputs": [],
   "source": [
    "silhouetteScoreMeasure = 'euclidean'\n",
    "VRC, dBScore, silhouetteScore, mdlLabels, numComp = runPCAClusteringModel(ghgScale, silhouetteScoreMeasure, .95, DBSCAN(eps=.13))\n",
    "printClusteringStats(VRC, dBScore, silhouetteScore, silhouetteScoreMeasure, mdlLabels)"
   ]
  },
  {
   "cell_type": "code",
   "execution_count": null,
   "id": "be757066",
   "metadata": {},
   "outputs": [],
   "source": [
    "plot_silhouettes(ghgScale, mdlLabels)"
   ]
  },
  {
   "cell_type": "code",
   "execution_count": null,
   "id": "ef70365a",
   "metadata": {},
   "outputs": [],
   "source": [
    "silhouetteScoreMeasure = 'euclidean'\n",
    "VRC, dBScore, silhouetteScore, mdlLabels, numComp = runPCAClusteringModel(ghgScale, silhouetteScoreMeasure, .95, DBSCAN(eps=.15))\n",
    "printClusteringStats(VRC, dBScore, silhouetteScore, silhouetteScoreMeasure, mdlLabels)"
   ]
  },
  {
   "cell_type": "code",
   "execution_count": null,
   "id": "4c0a0544",
   "metadata": {},
   "outputs": [],
   "source": [
    "plot_silhouettes(ghgScale, mdlLabels)"
   ]
  },
  {
   "cell_type": "code",
   "execution_count": null,
   "id": "7b9c8ec8",
   "metadata": {},
   "outputs": [],
   "source": [
    "dbTuner(ghgScale, 'runPCAClusteringModel', 'cosine')"
   ]
  },
  {
   "cell_type": "code",
   "execution_count": null,
   "id": "c74cec58",
   "metadata": {},
   "outputs": [],
   "source": [
    "silhouetteScoreMeasure = 'cosine'\n",
    "VRC, dBScore, silhouetteScore, mdlLabels, numComp = runPCAClusteringModel(ghgScale, silhouetteScoreMeasure, .95, DBSCAN(eps=.1))\n",
    "printClusteringStats(VRC, dBScore, silhouetteScore, silhouetteScoreMeasure, mdlLabels)"
   ]
  },
  {
   "cell_type": "code",
   "execution_count": null,
   "id": "961128ef",
   "metadata": {},
   "outputs": [],
   "source": [
    "plot_silhouettes(ghgScale, mdlLabels)"
   ]
  },
  {
   "cell_type": "code",
   "execution_count": null,
   "id": "7930b90b",
   "metadata": {},
   "outputs": [],
   "source": [
    "silhouetteScoreMeasure = 'cosine'\n",
    "VRC, dBScore, silhouetteScore, mdlLabels, numComp = runPCAClusteringModel(ghgScale, silhouetteScoreMeasure, .95, DBSCAN(eps=.13))\n",
    "printClusteringStats(VRC, dBScore, silhouetteScore, silhouetteScoreMeasure, mdlLabels)"
   ]
  },
  {
   "cell_type": "code",
   "execution_count": null,
   "id": "40c12c89",
   "metadata": {},
   "outputs": [],
   "source": [
    "plot_silhouettes(ghgScale, mdlLabels)"
   ]
  },
  {
   "cell_type": "code",
   "execution_count": null,
   "id": "893dffe2",
   "metadata": {},
   "outputs": [],
   "source": [
    "silhouetteScoreMeasure = 'cosine'\n",
    "VRC, dBScore, silhouetteScore, mdlLabels, numComp = runPCAClusteringModel(ghgScale, silhouetteScoreMeasure, .95, DBSCAN(eps=.15))\n",
    "printClusteringStats(VRC, dBScore, silhouetteScore, silhouetteScoreMeasure, mdlLabels)"
   ]
  },
  {
   "cell_type": "code",
   "execution_count": null,
   "id": "98c63d62",
   "metadata": {},
   "outputs": [],
   "source": [
    "plot_silhouettes(ghgScale, mdlLabels)"
   ]
  },
  {
   "cell_type": "code",
   "execution_count": null,
   "id": "47240ae6",
   "metadata": {},
   "outputs": [],
   "source": [
    "warnings.filterwarnings('ignore')\n",
    "cv = [(slice(None), slice(None))]\n",
    "paramDict = {'eps': np.linspace(.1, .4, 20)}\n",
    "grid = GridSearchCV(estimator=DBSCAN(), param_grid=paramDict, \n",
    "                  scoring=silhouette_scorer, cv=cv, n_jobs=-1)\n",
    "grid.fit(ghgScale)\n",
    "print(grid.best_params_) "
   ]
  },
  {
   "cell_type": "markdown",
   "id": "8931537f",
   "metadata": {},
   "source": [
    "#### CO2"
   ]
  },
  {
   "cell_type": "code",
   "execution_count": null,
   "id": "10c6aa7c",
   "metadata": {},
   "outputs": [],
   "source": [
    "dbTuner(co2Scale, 'runClusteringModel', 'euclidean')"
   ]
  },
  {
   "cell_type": "code",
   "execution_count": null,
   "id": "ad964c4d",
   "metadata": {},
   "outputs": [],
   "source": [
    "silhouetteScoreMeasure = 'euclidean'\n",
    "VRC, dBScore, silhouetteScore, mdlLabels = runClusteringModel(co2Scale, silhouetteScoreMeasure, DBSCAN(eps=.1))\n",
    "printClusteringStats(VRC, dBScore, silhouetteScore, silhouetteScoreMeasure, mdlLabels)"
   ]
  },
  {
   "cell_type": "code",
   "execution_count": null,
   "id": "d508086a",
   "metadata": {},
   "outputs": [],
   "source": [
    "plot_silhouettes(co2Scale, mdlLabels)"
   ]
  },
  {
   "cell_type": "code",
   "execution_count": null,
   "id": "07e9c41e",
   "metadata": {},
   "outputs": [],
   "source": [
    "silhouetteScoreMeasure = 'euclidean'\n",
    "VRC, dBScore, silhouetteScore, mdlLabels = runClusteringModel(co2Scale, silhouetteScoreMeasure, DBSCAN(eps=.12))\n",
    "printClusteringStats(VRC, dBScore, silhouetteScore, silhouetteScoreMeasure, mdlLabels)"
   ]
  },
  {
   "cell_type": "code",
   "execution_count": null,
   "id": "006e40ca",
   "metadata": {},
   "outputs": [],
   "source": [
    "plot_silhouettes(co2Scale, mdlLabels)"
   ]
  },
  {
   "cell_type": "code",
   "execution_count": null,
   "id": "5fd1eda3",
   "metadata": {},
   "outputs": [],
   "source": [
    "silhouetteScoreMeasure = 'euclidean'\n",
    "VRC, dBScore, silhouetteScore, mdlLabels = runClusteringModel(co2Scale, silhouetteScoreMeasure, DBSCAN(eps=.13))\n",
    "printClusteringStats(VRC, dBScore, silhouetteScore, silhouetteScoreMeasure, mdlLabels)"
   ]
  },
  {
   "cell_type": "code",
   "execution_count": null,
   "id": "f8b3b7fa",
   "metadata": {},
   "outputs": [],
   "source": [
    "plot_silhouettes(co2Scale, mdlLabels)"
   ]
  },
  {
   "cell_type": "code",
   "execution_count": null,
   "id": "ea943655",
   "metadata": {},
   "outputs": [],
   "source": [
    "dbTuner(co2Scale, 'runClusteringModel', 'cosine')"
   ]
  },
  {
   "cell_type": "code",
   "execution_count": null,
   "id": "9402e782",
   "metadata": {},
   "outputs": [],
   "source": [
    "silhouetteScoreMeasure = 'cosine'\n",
    "VRC, dBScore, silhouetteScore, mdlLabels = runClusteringModel(co2Scale, silhouetteScoreMeasure, DBSCAN(eps=.1))\n",
    "printClusteringStats(VRC, dBScore, silhouetteScore, silhouetteScoreMeasure, mdlLabels)"
   ]
  },
  {
   "cell_type": "code",
   "execution_count": null,
   "id": "8f75a652",
   "metadata": {},
   "outputs": [],
   "source": [
    "plot_silhouettes(co2Scale, mdlLabels)"
   ]
  },
  {
   "cell_type": "code",
   "execution_count": null,
   "id": "036140d3",
   "metadata": {},
   "outputs": [],
   "source": [
    "silhouetteScoreMeasure = 'cosine'\n",
    "VRC, dBScore, silhouetteScore, mdlLabels = runClusteringModel(co2Scale, silhouetteScoreMeasure, DBSCAN(eps=.12))\n",
    "printClusteringStats(VRC, dBScore, silhouetteScore, silhouetteScoreMeasure, mdlLabels)"
   ]
  },
  {
   "cell_type": "code",
   "execution_count": null,
   "id": "f4ac9821",
   "metadata": {},
   "outputs": [],
   "source": [
    "plot_silhouettes(co2Scale, mdlLabels)"
   ]
  },
  {
   "cell_type": "code",
   "execution_count": null,
   "id": "b89a394e",
   "metadata": {},
   "outputs": [],
   "source": [
    "silhouetteScoreMeasure = 'cosine'\n",
    "VRC, dBScore, silhouetteScore, mdlLabels = runClusteringModel(co2Scale, silhouetteScoreMeasure, DBSCAN(eps=.13))\n",
    "printClusteringStats(VRC, dBScore, silhouetteScore, silhouetteScoreMeasure, mdlLabels)"
   ]
  },
  {
   "cell_type": "code",
   "execution_count": null,
   "id": "d870b668",
   "metadata": {},
   "outputs": [],
   "source": [
    "plot_silhouettes(co2Scale, mdlLabels)"
   ]
  },
  {
   "cell_type": "code",
   "execution_count": null,
   "id": "fe9f432e",
   "metadata": {},
   "outputs": [],
   "source": [
    "dbTuner(co2Scale, 'runPCAClusteringModel', 'euclidean')"
   ]
  },
  {
   "cell_type": "code",
   "execution_count": null,
   "id": "a8c81085",
   "metadata": {},
   "outputs": [],
   "source": [
    "silhouetteScoreMeasure = 'cosine'\n",
    "VRC, dBScore, silhouetteScore, mdlLabels, numComp = runPCAClusteringModel(co2Scale, silhouetteScoreMeasure, .95, DBSCAN(eps=.1))\n",
    "printClusteringStats(VRC, dBScore, silhouetteScore, silhouetteScoreMeasure, mdlLabels)"
   ]
  },
  {
   "cell_type": "code",
   "execution_count": null,
   "id": "d2e1ed17",
   "metadata": {},
   "outputs": [],
   "source": [
    "plot_silhouettes(co2Scale, mdlLabels)"
   ]
  },
  {
   "cell_type": "code",
   "execution_count": null,
   "id": "b674f202",
   "metadata": {},
   "outputs": [],
   "source": [
    "silhouetteScoreMeasure = 'cosine'\n",
    "VRC, dBScore, silhouetteScore, mdlLabels, numComp = runPCAClusteringModel(co2Scale, silhouetteScoreMeasure, .95, DBSCAN(eps=.115))\n",
    "printClusteringStats(VRC, dBScore, silhouetteScore, silhouetteScoreMeasure, mdlLabels)"
   ]
  },
  {
   "cell_type": "code",
   "execution_count": null,
   "id": "15e45af1",
   "metadata": {},
   "outputs": [],
   "source": [
    "plot_silhouettes(co2Scale, mdlLabels)"
   ]
  },
  {
   "cell_type": "code",
   "execution_count": null,
   "id": "3c51179c",
   "metadata": {},
   "outputs": [],
   "source": [
    "silhouetteScoreMeasure = 'cosine'\n",
    "VRC, dBScore, silhouetteScore, mdlLabels, numComp = runPCAClusteringModel(co2Scale, silhouetteScoreMeasure, .95, DBSCAN(eps=.125))\n",
    "printClusteringStats(VRC, dBScore, silhouetteScore, silhouetteScoreMeasure, mdlLabels)"
   ]
  },
  {
   "cell_type": "code",
   "execution_count": null,
   "id": "9aa3f6f5",
   "metadata": {},
   "outputs": [],
   "source": [
    "plot_silhouettes(co2Scale, mdlLabels)"
   ]
  },
  {
   "cell_type": "code",
   "execution_count": null,
   "id": "1bc7001f",
   "metadata": {},
   "outputs": [],
   "source": [
    "dbTuner(co2Scale, 'runPCAClusteringModel', 'cosine')"
   ]
  },
  {
   "cell_type": "code",
   "execution_count": null,
   "id": "2d124c35",
   "metadata": {},
   "outputs": [],
   "source": [
    "silhouetteScoreMeasure = 'cosine'\n",
    "VRC, dBScore, silhouetteScore, mdlLabels, numComp = runPCAClusteringModel(co2Scale, silhouetteScoreMeasure, .95, DBSCAN(eps=.1))\n",
    "printClusteringStats(VRC, dBScore, silhouetteScore, silhouetteScoreMeasure, mdlLabels)"
   ]
  },
  {
   "cell_type": "code",
   "execution_count": null,
   "id": "66419efe",
   "metadata": {},
   "outputs": [],
   "source": [
    "plot_silhouettes(co2Scale, mdlLabels)"
   ]
  },
  {
   "cell_type": "code",
   "execution_count": null,
   "id": "208e485c",
   "metadata": {},
   "outputs": [],
   "source": [
    "silhouetteScoreMeasure = 'cosine'\n",
    "VRC, dBScore, silhouetteScore, mdlLabels, numComp = runPCAClusteringModel(co2Scale, silhouetteScoreMeasure, .95, DBSCAN(eps=.115))\n",
    "printClusteringStats(VRC, dBScore, silhouetteScore, silhouetteScoreMeasure, mdlLabels)"
   ]
  },
  {
   "cell_type": "code",
   "execution_count": null,
   "id": "1ff71d35",
   "metadata": {},
   "outputs": [],
   "source": [
    "plot_silhouettes(co2Scale, mdlLabels)"
   ]
  },
  {
   "cell_type": "code",
   "execution_count": null,
   "id": "5c1042ea",
   "metadata": {},
   "outputs": [],
   "source": [
    "silhouetteScoreMeasure = 'cosine'\n",
    "VRC, dBScore, silhouetteScore, mdlLabels, numComp = runPCAClusteringModel(co2Scale, silhouetteScoreMeasure, .95, DBSCAN(eps=.125))\n",
    "printClusteringStats(VRC, dBScore, silhouetteScore, silhouetteScoreMeasure, mdlLabels)"
   ]
  },
  {
   "cell_type": "code",
   "execution_count": null,
   "id": "0003e505",
   "metadata": {},
   "outputs": [],
   "source": [
    "plot_silhouettes(co2Scale, mdlLabels)"
   ]
  },
  {
   "cell_type": "code",
   "execution_count": null,
   "id": "f3891330",
   "metadata": {},
   "outputs": [],
   "source": [
    "warnings.filterwarnings('ignore')\n",
    "cv = [(slice(None), slice(None))]\n",
    "paramDict = {'eps': np.linspace(.1, .4, 20)}\n",
    "grid = GridSearchCV(estimator=DBSCAN(), param_grid=paramDict, \n",
    "                  scoring=silhouette_scorer, cv=cv, n_jobs=-1)\n",
    "grid.fit(co2Scale)\n",
    "print(grid.best_params_) "
   ]
  },
  {
   "cell_type": "markdown",
   "id": "07aa3699",
   "metadata": {},
   "source": [
    "GridSearchCV indicates the best eps is 0.1, lower than that indicated by\n",
    "the three measures graphed above.\n",
    "\n",
    "Density-Based Spatial Clustering of Applications with Noise is producing\n",
    "too many small clusters to be useful. Noise is accounting for the\n",
    "largest share of instances, then there are hundreds of many small\n",
    "clusters that make up around 1.4% or less of the instances in the data\n",
    "set."
   ]
  },
  {
   "cell_type": "markdown",
   "id": "64be48af",
   "metadata": {},
   "source": [
    "## Hierarchical Clustering"
   ]
  },
  {
   "cell_type": "code",
   "execution_count": null,
   "id": "7d4669b5",
   "metadata": {},
   "outputs": [],
   "source": [
    "def hierTuning(data, model, simMeasure='euclidean', varCaptured = .95, affinity='euclidean', linkage='ward'):\n",
    "\n",
    "    # X-axis values and those to be tested for k\n",
    "    x = np.arange(2, 11)\n",
    "\n",
    "    # placeholders for evaluation measure scores.\n",
    "    VRCLst = []\n",
    "    dBScoreLst = []\n",
    "    silhouetteScoreLst = []\n",
    "\n",
    "    # Test different values for K\n",
    "    for numClusters in x:        \n",
    "        if model == 'runClusteringModel':\n",
    "            VRC, dBScore, silhouetteScore, mdlLabels = runClusteringModel(data, simMeasure, AgglomerativeClustering(n_clusters=numClusters, affinity=affinity, linkage=linkage))\n",
    "        else:\n",
    "            VRC, dBScore, silhouetteScore, mdlLabels, numComp = runPCAClusteringModel(data, simMeasure, varCaptured, AgglomerativeClustering(n_clusters=numClusters, affinity=affinity, linkage=linkage))\n",
    "\n",
    "        VRCLst.append(VRC)\n",
    "        dBScoreLst.append(dBScore)\n",
    "        silhouetteScoreLst.append(silhouetteScore)\n",
    "\n",
    "    graphResults(x, VRCLst, dBScoreLst, silhouetteScoreLst)"
   ]
  },
  {
   "cell_type": "code",
   "execution_count": null,
   "id": "8131ccc2",
   "metadata": {},
   "outputs": [],
   "source": [
    "hierTuning(ghgScale, 'runClusteringModel', simMeasure='euclidean', affinity='euclidean', linkage='ward')"
   ]
  },
  {
   "cell_type": "code",
   "execution_count": null,
   "id": "db625f00",
   "metadata": {},
   "outputs": [],
   "source": [
    "silhouetteScoreMeasure = 'euclidean'\n",
    "VRC, dBScore, silhouetteScore, mdlLabels = runClusteringModel(ghgScale, silhouetteScoreMeasure, AgglomerativeClustering(n_clusters=2, affinity='euclidean', linkage='ward'))\n",
    "printClusteringStats(VRC, dBScore, silhouetteScore, silhouetteScoreMeasure, mdlLabels)"
   ]
  },
  {
   "cell_type": "code",
   "execution_count": null,
   "id": "0d056961",
   "metadata": {},
   "outputs": [],
   "source": [
    "plot_silhouettes(ghgScale, mdlLabels)"
   ]
  },
  {
   "cell_type": "code",
   "execution_count": null,
   "id": "c55058ad",
   "metadata": {},
   "outputs": [],
   "source": [
    "silhouetteScoreMeasure = 'euclidean'\n",
    "VRC, dBScore, silhouetteScore, mdlLabels = runClusteringModel(ghgScale, silhouetteScoreMeasure, AgglomerativeClustering(n_clusters=3, affinity='euclidean', linkage='ward'))\n",
    "printClusteringStats(VRC, dBScore, silhouetteScore, silhouetteScoreMeasure, mdlLabels)"
   ]
  },
  {
   "cell_type": "code",
   "execution_count": null,
   "id": "ba6b8019",
   "metadata": {},
   "outputs": [],
   "source": [
    "plot_silhouettes(ghgScale, mdlLabels)"
   ]
  },
  {
   "cell_type": "code",
   "execution_count": null,
   "id": "e78115ae",
   "metadata": {},
   "outputs": [],
   "source": [
    "hierTuning(ghgScale, 'runClusteringModel', simMeasure='euclidean', affinity='euclidean', linkage='complete')"
   ]
  },
  {
   "cell_type": "code",
   "execution_count": null,
   "id": "6082cdd5",
   "metadata": {},
   "outputs": [],
   "source": [
    "silhouetteScoreMeasure = 'euclidean'\n",
    "VRC, dBScore, silhouetteScore, mdlLabels = runClusteringModel(ghgScale, silhouetteScoreMeasure, AgglomerativeClustering(n_clusters=2, affinity='euclidean', linkage='complete'))\n",
    "printClusteringStats(VRC, dBScore, silhouetteScore, silhouetteScoreMeasure, mdlLabels)"
   ]
  },
  {
   "cell_type": "code",
   "execution_count": null,
   "id": "b3baaa79",
   "metadata": {},
   "outputs": [],
   "source": [
    "plot_silhouettes(ghgScale, mdlLabels)"
   ]
  },
  {
   "cell_type": "code",
   "execution_count": null,
   "id": "85711ecf",
   "metadata": {},
   "outputs": [],
   "source": [
    "silhouetteScoreMeasure = 'euclidean'\n",
    "VRC, dBScore, silhouetteScore, mdlLabels = runClusteringModel(ghgScale, silhouetteScoreMeasure, AgglomerativeClustering(n_clusters=3, affinity='euclidean', linkage='complete'))\n",
    "printClusteringStats(VRC, dBScore, silhouetteScore, silhouetteScoreMeasure, mdlLabels)"
   ]
  },
  {
   "cell_type": "code",
   "execution_count": null,
   "id": "55a2c908",
   "metadata": {},
   "outputs": [],
   "source": [
    "plot_silhouettes(ghgScale, mdlLabels)"
   ]
  },
  {
   "cell_type": "code",
   "execution_count": null,
   "id": "1added48",
   "metadata": {},
   "outputs": [],
   "source": [
    "silhouetteScoreMeasure = 'euclidean'\n",
    "VRC, dBScore, silhouetteScore, mdlLabels = runClusteringModel(ghgScale, silhouetteScoreMeasure, AgglomerativeClustering(n_clusters=6, affinity='euclidean', linkage='complete'))\n",
    "printClusteringStats(VRC, dBScore, silhouetteScore, silhouetteScoreMeasure, mdlLabels)"
   ]
  },
  {
   "cell_type": "code",
   "execution_count": null,
   "id": "d54aa24b",
   "metadata": {},
   "outputs": [],
   "source": [
    "plot_silhouettes(ghgScale, mdlLabels)"
   ]
  },
  {
   "cell_type": "code",
   "execution_count": null,
   "id": "99fbc992",
   "metadata": {},
   "outputs": [],
   "source": [
    "hierTuning(ghgScale, 'runClusteringModel', simMeasure='euclidean', affinity='euclidean', linkage='average')"
   ]
  },
  {
   "cell_type": "code",
   "execution_count": null,
   "id": "94bd9e90",
   "metadata": {},
   "outputs": [],
   "source": [
    "silhouetteScoreMeasure = 'euclidean'\n",
    "VRC, dBScore, silhouetteScore, mdlLabels = runClusteringModel(ghgScale, silhouetteScoreMeasure, AgglomerativeClustering(n_clusters=2, affinity='euclidean', linkage='average'))\n",
    "printClusteringStats(VRC, dBScore, silhouetteScore, silhouetteScoreMeasure, mdlLabels)"
   ]
  },
  {
   "cell_type": "code",
   "execution_count": null,
   "id": "aa85d0ca",
   "metadata": {},
   "outputs": [],
   "source": [
    "plot_silhouettes(ghgScale, mdlLabels)"
   ]
  },
  {
   "cell_type": "code",
   "execution_count": null,
   "id": "ee8be292",
   "metadata": {},
   "outputs": [],
   "source": [
    "silhouetteScoreMeasure = 'euclidean'\n",
    "VRC, dBScore, silhouetteScore, mdlLabels = runClusteringModel(ghgScale, silhouetteScoreMeasure, AgglomerativeClustering(n_clusters=5, affinity='euclidean', linkage='average'))\n",
    "printClusteringStats(VRC, dBScore, silhouetteScore, silhouetteScoreMeasure, mdlLabels)"
   ]
  },
  {
   "cell_type": "code",
   "execution_count": null,
   "id": "fa31a44d",
   "metadata": {},
   "outputs": [],
   "source": [
    "plot_silhouettes(ghgScale, mdlLabels)"
   ]
  },
  {
   "cell_type": "code",
   "execution_count": null,
   "id": "2e7afdc3",
   "metadata": {},
   "outputs": [],
   "source": [
    "hierTuning(ghgScale, 'runClusteringModel', simMeasure='euclidean', affinity='euclidean', linkage='single')"
   ]
  },
  {
   "cell_type": "code",
   "execution_count": null,
   "id": "4f6c040a",
   "metadata": {},
   "outputs": [],
   "source": [
    "silhouetteScoreMeasure = 'euclidean'\n",
    "VRC, dBScore, silhouetteScore, mdlLabels = runClusteringModel(ghgScale, silhouetteScoreMeasure, AgglomerativeClustering(n_clusters=2, affinity='euclidean', linkage='single'))\n",
    "printClusteringStats(VRC, dBScore, silhouetteScore, silhouetteScoreMeasure, mdlLabels)"
   ]
  },
  {
   "cell_type": "code",
   "execution_count": null,
   "id": "65be3ce6",
   "metadata": {},
   "outputs": [],
   "source": [
    "plot_silhouettes(ghgScale, mdlLabels)"
   ]
  },
  {
   "cell_type": "code",
   "execution_count": null,
   "id": "4d2eee45",
   "metadata": {},
   "outputs": [],
   "source": [
    "silhouetteScoreMeasure = 'euclidean'\n",
    "VRC, dBScore, silhouetteScore, mdlLabels = runClusteringModel(ghgScale, silhouetteScoreMeasure, AgglomerativeClustering(n_clusters=3, affinity='euclidean', linkage='single'))\n",
    "printClusteringStats(VRC, dBScore, silhouetteScore, silhouetteScoreMeasure, mdlLabels)"
   ]
  },
  {
   "cell_type": "code",
   "execution_count": null,
   "id": "a3687c0e",
   "metadata": {},
   "outputs": [],
   "source": [
    "plot_silhouettes(ghgScale, mdlLabels)"
   ]
  },
  {
   "cell_type": "code",
   "execution_count": null,
   "id": "72d9c395",
   "metadata": {},
   "outputs": [],
   "source": [
    "hierTuning(ghgScale, 'runClusteringModel', simMeasure='cosine', affinity='euclidean', linkage='ward')"
   ]
  },
  {
   "cell_type": "code",
   "execution_count": null,
   "id": "caad4a25",
   "metadata": {},
   "outputs": [],
   "source": [
    "silhouetteScoreMeasure = 'cosine'\n",
    "VRC, dBScore, silhouetteScore, mdlLabels = runClusteringModel(ghgScale, silhouetteScoreMeasure, AgglomerativeClustering(n_clusters=2, affinity='euclidean', linkage='ward'))\n",
    "printClusteringStats(VRC, dBScore, silhouetteScore, silhouetteScoreMeasure, mdlLabels)"
   ]
  },
  {
   "cell_type": "code",
   "execution_count": null,
   "id": "9b56ccd7",
   "metadata": {},
   "outputs": [],
   "source": [
    "plot_silhouettes(ghgScale, mdlLabels)"
   ]
  },
  {
   "cell_type": "code",
   "execution_count": null,
   "id": "926e9c89",
   "metadata": {},
   "outputs": [],
   "source": [
    "silhouetteScoreMeasure = 'cosine'\n",
    "VRC, dBScore, silhouetteScore, mdlLabels = runClusteringModel(ghgScale, silhouetteScoreMeasure, AgglomerativeClustering(n_clusters=3, affinity='euclidean', linkage='ward'))\n",
    "printClusteringStats(VRC, dBScore, silhouetteScore, silhouetteScoreMeasure, mdlLabels)"
   ]
  },
  {
   "cell_type": "code",
   "execution_count": null,
   "id": "4fa42205",
   "metadata": {},
   "outputs": [],
   "source": [
    "plot_silhouettes(ghgScale, mdlLabels)"
   ]
  },
  {
   "cell_type": "code",
   "execution_count": null,
   "id": "6b9036ec",
   "metadata": {},
   "outputs": [],
   "source": [
    "silhouetteScoreMeasure = 'cosine'\n",
    "VRC, dBScore, silhouetteScore, mdlLabels = runClusteringModel(ghgScale, silhouetteScoreMeasure, AgglomerativeClustering(n_clusters=4, affinity='euclidean', linkage='ward'))\n",
    "printClusteringStats(VRC, dBScore, silhouetteScore, silhouetteScoreMeasure, mdlLabels)"
   ]
  },
  {
   "cell_type": "code",
   "execution_count": null,
   "id": "f20a5b2b",
   "metadata": {},
   "outputs": [],
   "source": [
    "plot_silhouettes(ghgScale, mdlLabels)"
   ]
  },
  {
   "cell_type": "code",
   "execution_count": null,
   "id": "f8009dbe",
   "metadata": {},
   "outputs": [],
   "source": [
    "hierTuning(ghgScale, 'runClusteringModel', simMeasure='cosine', affinity='cosine', linkage='complete')"
   ]
  },
  {
   "cell_type": "code",
   "execution_count": null,
   "id": "dc80b726",
   "metadata": {},
   "outputs": [],
   "source": [
    "silhouetteScoreMeasure = 'cosine'\n",
    "VRC, dBScore, silhouetteScore, mdlLabels = runClusteringModel(ghgScale, silhouetteScoreMeasure, AgglomerativeClustering(n_clusters=2, affinity='cosine', linkage='complete'))\n",
    "printClusteringStats(VRC, dBScore, silhouetteScore, silhouetteScoreMeasure, mdlLabels)"
   ]
  },
  {
   "cell_type": "code",
   "execution_count": null,
   "id": "b425bdfe",
   "metadata": {},
   "outputs": [],
   "source": [
    "plot_silhouettes(ghgScale, mdlLabels)"
   ]
  },
  {
   "cell_type": "code",
   "execution_count": null,
   "id": "5f4ace28",
   "metadata": {},
   "outputs": [],
   "source": [
    "silhouetteScoreMeasure = 'cosine'\n",
    "VRC, dBScore, silhouetteScore, mdlLabels = runClusteringModel(ghgScale, silhouetteScoreMeasure, AgglomerativeClustering(n_clusters=3, affinity='cosine', linkage='complete'))\n",
    "printClusteringStats(VRC, dBScore, silhouetteScore, silhouetteScoreMeasure, mdlLabels)"
   ]
  },
  {
   "cell_type": "code",
   "execution_count": null,
   "id": "520d646f",
   "metadata": {},
   "outputs": [],
   "source": [
    "plot_silhouettes(ghgScale, mdlLabels)"
   ]
  },
  {
   "cell_type": "code",
   "execution_count": null,
   "id": "c16c7ff0",
   "metadata": {},
   "outputs": [],
   "source": [
    "hierTuning(ghgScale, 'runClusteringModel', simMeasure='cosine', affinity='cosine', linkage='average')"
   ]
  },
  {
   "cell_type": "code",
   "execution_count": null,
   "id": "3b4252fc",
   "metadata": {},
   "outputs": [],
   "source": [
    "silhouetteScoreMeasure = 'cosine'\n",
    "VRC, dBScore, silhouetteScore, mdlLabels = runClusteringModel(ghgScale, silhouetteScoreMeasure, AgglomerativeClustering(n_clusters=2, affinity='cosine', linkage='average'))\n",
    "printClusteringStats(VRC, dBScore, silhouetteScore, silhouetteScoreMeasure, mdlLabels)"
   ]
  },
  {
   "cell_type": "code",
   "execution_count": null,
   "id": "b7d8e975",
   "metadata": {},
   "outputs": [],
   "source": [
    "plot_silhouettes(ghgScale, mdlLabels)"
   ]
  },
  {
   "cell_type": "code",
   "execution_count": null,
   "id": "fb517f3b",
   "metadata": {},
   "outputs": [],
   "source": [
    "silhouetteScoreMeasure = 'cosine'\n",
    "VRC, dBScore, silhouetteScore, mdlLabels = runClusteringModel(ghgScale, silhouetteScoreMeasure, AgglomerativeClustering(n_clusters=3, affinity='cosine', linkage='average'))\n",
    "printClusteringStats(VRC, dBScore, silhouetteScore, silhouetteScoreMeasure, mdlLabels)"
   ]
  },
  {
   "cell_type": "code",
   "execution_count": null,
   "id": "5bc4eb59",
   "metadata": {},
   "outputs": [],
   "source": [
    "plot_silhouettes(ghgScale, mdlLabels)"
   ]
  },
  {
   "cell_type": "code",
   "execution_count": null,
   "id": "285282ab",
   "metadata": {},
   "outputs": [],
   "source": [
    "hierTuning(ghgScale, 'runClusteringModel', simMeasure='cosine', affinity='cosine', linkage='single')"
   ]
  },
  {
   "cell_type": "code",
   "execution_count": null,
   "id": "1303b447",
   "metadata": {},
   "outputs": [],
   "source": [
    "silhouetteScoreMeasure = 'cosine'\n",
    "VRC, dBScore, silhouetteScore, mdlLabels = runClusteringModel(ghgScale, silhouetteScoreMeasure, AgglomerativeClustering(n_clusters=2, affinity='cosine', linkage='single'))\n",
    "printClusteringStats(VRC, dBScore, silhouetteScore, silhouetteScoreMeasure, mdlLabels)"
   ]
  },
  {
   "cell_type": "code",
   "execution_count": null,
   "id": "d76a18b3",
   "metadata": {},
   "outputs": [],
   "source": [
    "plot_silhouettes(ghgScale, mdlLabels)"
   ]
  },
  {
   "cell_type": "code",
   "execution_count": null,
   "id": "d7473106",
   "metadata": {},
   "outputs": [],
   "source": [
    "silhouetteScoreMeasure = 'cosine'\n",
    "VRC, dBScore, silhouetteScore, mdlLabels = runClusteringModel(ghgScale, silhouetteScoreMeasure, AgglomerativeClustering(n_clusters=3, affinity='cosine', linkage='single'))\n",
    "printClusteringStats(VRC, dBScore, silhouetteScore, silhouetteScoreMeasure, mdlLabels)"
   ]
  },
  {
   "cell_type": "code",
   "execution_count": null,
   "id": "5fb6691b",
   "metadata": {},
   "outputs": [],
   "source": [
    "plot_silhouettes(ghgScale, mdlLabels)"
   ]
  },
  {
   "cell_type": "code",
   "execution_count": null,
   "id": "7546df82",
   "metadata": {},
   "outputs": [],
   "source": [
    "hierTuning(ghgScale, 'runPCAClusteringModel', simMeasure='euclidean', affinity='euclidean', linkage='ward')"
   ]
  },
  {
   "cell_type": "code",
   "execution_count": null,
   "id": "860b0979",
   "metadata": {},
   "outputs": [],
   "source": [
    "silhouetteScoreMeasure = 'euclidean'\n",
    "VRC, dBScore, silhouetteScore, mdlLabels, numComp = runPCAClusteringModel(ghgScale, silhouetteScoreMeasure, .95, AgglomerativeClustering(n_clusters=2, affinity='euclidean', linkage='ward'))\n",
    "printClusteringStats(VRC, dBScore, silhouetteScore, silhouetteScoreMeasure, mdlLabels)"
   ]
  },
  {
   "cell_type": "code",
   "execution_count": null,
   "id": "51c22b85",
   "metadata": {},
   "outputs": [],
   "source": [
    "plot_silhouettes(ghgScale, mdlLabels)"
   ]
  },
  {
   "cell_type": "code",
   "execution_count": null,
   "id": "171a466a",
   "metadata": {},
   "outputs": [],
   "source": [
    "silhouetteScoreMeasure = 'euclidean'\n",
    "VRC, dBScore, silhouetteScore, mdlLabels, numComp = runPCAClusteringModel(ghgScale, silhouetteScoreMeasure, .95, AgglomerativeClustering(n_clusters=2, affinity='euclidean', linkage='ward'))\n",
    "printClusteringStats(VRC, dBScore, silhouetteScore, silhouetteScoreMeasure, mdlLabels)"
   ]
  },
  {
   "cell_type": "code",
   "execution_count": null,
   "id": "0ea1298a",
   "metadata": {},
   "outputs": [],
   "source": [
    "plot_silhouettes(ghgScale, mdlLabels)"
   ]
  },
  {
   "cell_type": "code",
   "execution_count": null,
   "id": "94d84786",
   "metadata": {},
   "outputs": [],
   "source": [
    "silhouetteScoreMeasure = 'euclidean'\n",
    "VRC, dBScore, silhouetteScore, mdlLabels, numComp = runPCAClusteringModel(ghgScale, silhouetteScoreMeasure, .95, AgglomerativeClustering(n_clusters=2, affinity='euclidean', linkage='ward'))\n",
    "printClusteringStats(VRC, dBScore, silhouetteScore, silhouetteScoreMeasure, mdlLabels)"
   ]
  },
  {
   "cell_type": "code",
   "execution_count": null,
   "id": "f56eae71",
   "metadata": {},
   "outputs": [],
   "source": [
    "plot_silhouettes(ghgScale, mdlLabels)"
   ]
  },
  {
   "cell_type": "code",
   "execution_count": null,
   "id": "07cdacc8",
   "metadata": {},
   "outputs": [],
   "source": [
    "hierTuning(ghgScale, 'runPCAClusteringModel', simMeasure='euclidean', varCaptured = .95, affinity='euclidean', linkage='complete')"
   ]
  },
  {
   "cell_type": "code",
   "execution_count": null,
   "id": "11e03f58",
   "metadata": {},
   "outputs": [],
   "source": [
    "silhouetteScoreMeasure = 'euclidean'\n",
    "VRC, dBScore, silhouetteScore, mdlLabels, numComp = runPCAClusteringModel(ghgScale, silhouetteScoreMeasure, .95, AgglomerativeClustering(n_clusters=2, affinity='euclidean', linkage='complete'))\n",
    "printClusteringStats(VRC, dBScore, silhouetteScore, silhouetteScoreMeasure, mdlLabels)"
   ]
  },
  {
   "cell_type": "code",
   "execution_count": null,
   "id": "6485352f",
   "metadata": {},
   "outputs": [],
   "source": [
    "plot_silhouettes(ghgScale, mdlLabels)"
   ]
  },
  {
   "cell_type": "code",
   "execution_count": null,
   "id": "d231d30e",
   "metadata": {},
   "outputs": [],
   "source": [
    "hierTuning(ghgScale, 'runPCAClusteringModel', simMeasure='euclidean', varCaptured = .95, affinity='euclidean', linkage='average')"
   ]
  },
  {
   "cell_type": "code",
   "execution_count": null,
   "id": "b80666f4",
   "metadata": {},
   "outputs": [],
   "source": [
    "silhouetteScoreMeasure = 'euclidean'\n",
    "VRC, dBScore, silhouetteScore, mdlLabels, numComp = runPCAClusteringModel(ghgScale, silhouetteScoreMeasure, .95, AgglomerativeClustering(n_clusters=2, affinity='euclidean', linkage='average'))\n",
    "printClusteringStats(VRC, dBScore, silhouetteScore, silhouetteScoreMeasure, mdlLabels)"
   ]
  },
  {
   "cell_type": "code",
   "execution_count": null,
   "id": "cc6090c7",
   "metadata": {},
   "outputs": [],
   "source": [
    "plot_silhouettes(ghgScale, mdlLabels)"
   ]
  },
  {
   "cell_type": "code",
   "execution_count": null,
   "id": "76d97cbb",
   "metadata": {},
   "outputs": [],
   "source": [
    "hierTuning(ghgScale, 'runPCAClusteringModel', simMeasure='euclidean', varCaptured = .95, affinity='euclidean', linkage='single')"
   ]
  },
  {
   "cell_type": "code",
   "execution_count": null,
   "id": "4763f322",
   "metadata": {},
   "outputs": [],
   "source": [
    "silhouetteScoreMeasure = 'euclidean'\n",
    "VRC, dBScore, silhouetteScore, mdlLabels, numComp = runPCAClusteringModel(ghgScale, silhouetteScoreMeasure, .95, AgglomerativeClustering(n_clusters=2, affinity='euclidean', linkage='single'))\n",
    "printClusteringStats(VRC, dBScore, silhouetteScore, silhouetteScoreMeasure, mdlLabels)"
   ]
  },
  {
   "cell_type": "code",
   "execution_count": null,
   "id": "d6ffae29",
   "metadata": {},
   "outputs": [],
   "source": [
    "plot_silhouettes(ghgScale, mdlLabels)"
   ]
  },
  {
   "cell_type": "code",
   "execution_count": null,
   "id": "c00bc95f",
   "metadata": {},
   "outputs": [],
   "source": [
    "hierTuning(ghgScale, 'runPCAClusteringModel', simMeasure='cosine', affinity='euclidean', linkage='ward')"
   ]
  },
  {
   "cell_type": "code",
   "execution_count": null,
   "id": "c12ebfbe",
   "metadata": {},
   "outputs": [],
   "source": [
    "silhouetteScoreMeasure = 'cosine'\n",
    "VRC, dBScore, silhouetteScore, mdlLabels, numComp = runPCAClusteringModel(ghgScale, silhouetteScoreMeasure, .95, AgglomerativeClustering(n_clusters=2, affinity='euclidean', linkage='ward'))\n",
    "printClusteringStats(VRC, dBScore, silhouetteScore, silhouetteScoreMeasure, mdlLabels)"
   ]
  },
  {
   "cell_type": "code",
   "execution_count": null,
   "id": "af69c978",
   "metadata": {},
   "outputs": [],
   "source": [
    "plot_silhouettes(ghgScale, mdlLabels)"
   ]
  },
  {
   "cell_type": "code",
   "execution_count": null,
   "id": "0fc159a5",
   "metadata": {},
   "outputs": [],
   "source": [
    "silhouetteScoreMeasure = 'cosine'\n",
    "VRC, dBScore, silhouetteScore, mdlLabels, numComp = runPCAClusteringModel(ghgScale, silhouetteScoreMeasure, .95, AgglomerativeClustering(n_clusters=3, affinity='euclidean', linkage='ward'))\n",
    "printClusteringStats(VRC, dBScore, silhouetteScore, silhouetteScoreMeasure, mdlLabels)"
   ]
  },
  {
   "cell_type": "code",
   "execution_count": null,
   "id": "c9a2ae27",
   "metadata": {},
   "outputs": [],
   "source": [
    "plot_silhouettes(ghgScale, mdlLabels)"
   ]
  },
  {
   "cell_type": "code",
   "execution_count": null,
   "id": "713b840f",
   "metadata": {},
   "outputs": [],
   "source": [
    "hierTuning(ghgScale, 'runPCAClusteringModel', simMeasure='cosine', varCaptured = .95, affinity='cosine', linkage='complete')"
   ]
  },
  {
   "cell_type": "code",
   "execution_count": null,
   "id": "32a37612",
   "metadata": {},
   "outputs": [],
   "source": [
    "silhouetteScoreMeasure = 'cosine'\n",
    "VRC, dBScore, silhouetteScore, mdlLabels, numComp = runPCAClusteringModel(ghgScale, silhouetteScoreMeasure, .95, AgglomerativeClustering(n_clusters=2, affinity='cosine', linkage='complete'))\n",
    "printClusteringStats(VRC, dBScore, silhouetteScore, silhouetteScoreMeasure, mdlLabels)"
   ]
  },
  {
   "cell_type": "code",
   "execution_count": null,
   "id": "fdbce9fb",
   "metadata": {},
   "outputs": [],
   "source": [
    "plot_silhouettes(ghgScale, mdlLabels)"
   ]
  },
  {
   "cell_type": "code",
   "execution_count": null,
   "id": "27ef5ed5",
   "metadata": {},
   "outputs": [],
   "source": [
    "hierTuning(ghgScale, 'runPCAClusteringModel', simMeasure='cosine', varCaptured = .95, affinity='cosine', linkage='average')"
   ]
  },
  {
   "cell_type": "code",
   "execution_count": null,
   "id": "d88117f4",
   "metadata": {},
   "outputs": [],
   "source": [
    "silhouetteScoreMeasure = 'euclidean'\n",
    "VRC, dBScore, silhouetteScore, mdlLabels, numComp = runPCAClusteringModel(ghgScale, silhouetteScoreMeasure, .95, AgglomerativeClustering(n_clusters=2, affinity='euclidean', linkage='complete'))\n",
    "printClusteringStats(VRC, dBScore, silhouetteScore, silhouetteScoreMeasure, mdlLabels)"
   ]
  },
  {
   "cell_type": "code",
   "execution_count": null,
   "id": "fbe605da",
   "metadata": {},
   "outputs": [],
   "source": [
    "plot_silhouettes(ghgScale, mdlLabels)"
   ]
  },
  {
   "cell_type": "code",
   "execution_count": null,
   "id": "2eeba54e",
   "metadata": {},
   "outputs": [],
   "source": [
    "hierTuning(ghgScale, 'runPCAClusteringModel', simMeasure='cosine', varCaptured = .95, affinity='cosine', linkage='single')"
   ]
  },
  {
   "cell_type": "code",
   "execution_count": null,
   "id": "89165358",
   "metadata": {},
   "outputs": [],
   "source": [
    "silhouetteScoreMeasure = 'cosine'\n",
    "VRC, dBScore, silhouetteScore, mdlLabels, numComp = runPCAClusteringModel(ghgScale, silhouetteScoreMeasure, .95, AgglomerativeClustering(n_clusters=2, affinity='cosine', linkage='single'))\n",
    "printClusteringStats(VRC, dBScore, silhouetteScore, silhouetteScoreMeasure, mdlLabels)"
   ]
  },
  {
   "cell_type": "code",
   "execution_count": null,
   "id": "b5a1da43",
   "metadata": {},
   "outputs": [],
   "source": [
    "plot_silhouettes(ghgScale, mdlLabels)"
   ]
  },
  {
   "cell_type": "code",
   "execution_count": null,
   "id": "fd40468a",
   "metadata": {},
   "outputs": [],
   "source": [
    "silhouetteScoreMeasure = 'cosine'\n",
    "VRC, dBScore, silhouetteScore, mdlLabels, numComp = runPCAClusteringModel(ghgScale, silhouetteScoreMeasure, .95, AgglomerativeClustering(n_clusters=3, affinity='cosine', linkage='single'))\n",
    "printClusteringStats(VRC, dBScore, silhouetteScore, silhouetteScoreMeasure, mdlLabels)"
   ]
  },
  {
   "cell_type": "code",
   "execution_count": null,
   "id": "ec5398e3",
   "metadata": {},
   "outputs": [],
   "source": [
    "plot_silhouettes(ghgScale, mdlLabels)"
   ]
  },
  {
   "cell_type": "markdown",
   "id": "f7284d8d",
   "metadata": {},
   "source": [
    "#### CO2"
   ]
  },
  {
   "cell_type": "code",
   "execution_count": null,
   "id": "ebcaf12f",
   "metadata": {},
   "outputs": [],
   "source": [
    "hierTuning(co2Scale, 'runClusteringModel', simMeasure='euclidean', affinity='euclidean', linkage='ward')"
   ]
  },
  {
   "cell_type": "code",
   "execution_count": null,
   "id": "6ccde5dd",
   "metadata": {},
   "outputs": [],
   "source": [
    "silhouetteScoreMeasure = 'euclidean'\n",
    "VRC, dBScore, silhouetteScore, mdlLabels = runClusteringModel(co2Scale, silhouetteScoreMeasure, AgglomerativeClustering(n_clusters=2, affinity='euclidean', linkage='ward'))\n",
    "printClusteringStats(VRC, dBScore, silhouetteScore, silhouetteScoreMeasure, mdlLabels)"
   ]
  },
  {
   "cell_type": "code",
   "execution_count": null,
   "id": "6da24a7a",
   "metadata": {},
   "outputs": [],
   "source": [
    "plot_silhouettes(co2Scale, mdlLabels)"
   ]
  },
  {
   "cell_type": "code",
   "execution_count": null,
   "id": "97bac4aa",
   "metadata": {},
   "outputs": [],
   "source": [
    "silhouetteScoreMeasure = 'euclidean'\n",
    "VRC, dBScore, silhouetteScore, mdlLabels = runClusteringModel(co2Scale, silhouetteScoreMeasure, AgglomerativeClustering(n_clusters=3, affinity='euclidean', linkage='ward'))\n",
    "printClusteringStats(VRC, dBScore, silhouetteScore, silhouetteScoreMeasure, mdlLabels)"
   ]
  },
  {
   "cell_type": "code",
   "execution_count": null,
   "id": "c8d7b5e9",
   "metadata": {},
   "outputs": [],
   "source": [
    "plot_silhouettes(co2Scale, mdlLabels)"
   ]
  },
  {
   "cell_type": "code",
   "execution_count": null,
   "id": "788f6dad",
   "metadata": {},
   "outputs": [],
   "source": [
    "hierTuning(co2Scale, 'runClusteringModel', simMeasure='euclidean', affinity='euclidean', linkage='complete')"
   ]
  },
  {
   "cell_type": "code",
   "execution_count": null,
   "id": "afdd4b18",
   "metadata": {},
   "outputs": [],
   "source": [
    "silhouetteScoreMeasure = 'euclidean'\n",
    "VRC, dBScore, silhouetteScore, mdlLabels = runClusteringModel(co2Scale, silhouetteScoreMeasure, AgglomerativeClustering(n_clusters=2, affinity='euclidean', linkage='complete'))\n",
    "printClusteringStats(VRC, dBScore, silhouetteScore, silhouetteScoreMeasure, mdlLabels)"
   ]
  },
  {
   "cell_type": "code",
   "execution_count": null,
   "id": "31328a62",
   "metadata": {},
   "outputs": [],
   "source": [
    "plot_silhouettes(co2Scale, mdlLabels)"
   ]
  },
  {
   "cell_type": "code",
   "execution_count": null,
   "id": "f286df7a",
   "metadata": {},
   "outputs": [],
   "source": [
    "hierTuning(co2Scale, 'runClusteringModel', simMeasure='euclidean', affinity='euclidean', linkage='average')"
   ]
  },
  {
   "cell_type": "code",
   "execution_count": null,
   "id": "b518a0f2",
   "metadata": {},
   "outputs": [],
   "source": [
    "silhouetteScoreMeasure = 'euclidean'\n",
    "VRC, dBScore, silhouetteScore, mdlLabels = runClusteringModel(co2Scale, silhouetteScoreMeasure, AgglomerativeClustering(n_clusters=2, affinity='euclidean', linkage='average'))\n",
    "printClusteringStats(VRC, dBScore, silhouetteScore, silhouetteScoreMeasure, mdlLabels)"
   ]
  },
  {
   "cell_type": "code",
   "execution_count": null,
   "id": "fb5b3e91",
   "metadata": {},
   "outputs": [],
   "source": [
    "plot_silhouettes(co2Scale, mdlLabels)"
   ]
  },
  {
   "cell_type": "code",
   "execution_count": null,
   "id": "a0a16744",
   "metadata": {},
   "outputs": [],
   "source": [
    "hierTuning(co2Scale, 'runClusteringModel', simMeasure='euclidean', affinity='euclidean', linkage='single')"
   ]
  },
  {
   "cell_type": "code",
   "execution_count": null,
   "id": "f6f73643",
   "metadata": {},
   "outputs": [],
   "source": [
    "silhouetteScoreMeasure = 'euclidean'\n",
    "VRC, dBScore, silhouetteScore, mdlLabels = runClusteringModel(co2Scale, silhouetteScoreMeasure, AgglomerativeClustering(n_clusters=2, affinity='euclidean', linkage='single'))\n",
    "printClusteringStats(VRC, dBScore, silhouetteScore, silhouetteScoreMeasure, mdlLabels)"
   ]
  },
  {
   "cell_type": "code",
   "execution_count": null,
   "id": "35a13797",
   "metadata": {},
   "outputs": [],
   "source": [
    "plot_silhouettes(co2Scale, mdlLabels)"
   ]
  },
  {
   "cell_type": "code",
   "execution_count": null,
   "id": "707c48a5",
   "metadata": {},
   "outputs": [],
   "source": [
    "silhouetteScoreMeasure = 'euclidean'\n",
    "VRC, dBScore, silhouetteScore, mdlLabels = runClusteringModel(co2Scale, silhouetteScoreMeasure, AgglomerativeClustering(n_clusters=3, affinity='euclidean', linkage='single'))\n",
    "printClusteringStats(VRC, dBScore, silhouetteScore, silhouetteScoreMeasure, mdlLabels)"
   ]
  },
  {
   "cell_type": "code",
   "execution_count": null,
   "id": "5daca3b3",
   "metadata": {},
   "outputs": [],
   "source": [
    "plot_silhouettes(co2Scale, mdlLabels)"
   ]
  },
  {
   "cell_type": "code",
   "execution_count": null,
   "id": "c9d9fb4a",
   "metadata": {},
   "outputs": [],
   "source": [
    "hierTuning(co2Scale, 'runClusteringModel', simMeasure='cosine', affinity='euclidean', linkage='ward')"
   ]
  },
  {
   "cell_type": "code",
   "execution_count": null,
   "id": "43da8e71",
   "metadata": {},
   "outputs": [],
   "source": [
    "silhouetteScoreMeasure = 'cosine'\n",
    "VRC, dBScore, silhouetteScore, mdlLabels = runClusteringModel(co2Scale, silhouetteScoreMeasure, AgglomerativeClustering(n_clusters=2, affinity='euclidean', linkage='ward'))\n",
    "printClusteringStats(VRC, dBScore, silhouetteScore, silhouetteScoreMeasure, mdlLabels)"
   ]
  },
  {
   "cell_type": "code",
   "execution_count": null,
   "id": "c18b74d2",
   "metadata": {},
   "outputs": [],
   "source": [
    "plot_silhouettes(co2Scale, mdlLabels)"
   ]
  },
  {
   "cell_type": "code",
   "execution_count": null,
   "id": "639b81a9",
   "metadata": {},
   "outputs": [],
   "source": [
    "silhouetteScoreMeasure = 'cosine'\n",
    "VRC, dBScore, silhouetteScore, mdlLabels = runClusteringModel(co2Scale, silhouetteScoreMeasure, AgglomerativeClustering(n_clusters=3, affinity='euclidean', linkage='ward'))\n",
    "printClusteringStats(VRC, dBScore, silhouetteScore, silhouetteScoreMeasure, mdlLabels)"
   ]
  },
  {
   "cell_type": "code",
   "execution_count": null,
   "id": "21aa6c7e",
   "metadata": {},
   "outputs": [],
   "source": [
    "plot_silhouettes(co2Scale, mdlLabels)"
   ]
  },
  {
   "cell_type": "code",
   "execution_count": null,
   "id": "da545c4e",
   "metadata": {},
   "outputs": [],
   "source": [
    "hierTuning(co2Scale, 'runClusteringModel', simMeasure='cosine', affinity='cosine', linkage='complete')"
   ]
  },
  {
   "cell_type": "code",
   "execution_count": null,
   "id": "311f710d",
   "metadata": {},
   "outputs": [],
   "source": [
    "silhouetteScoreMeasure = 'cosine'\n",
    "VRC, dBScore, silhouetteScore, mdlLabels = runClusteringModel(co2Scale, silhouetteScoreMeasure, AgglomerativeClustering(n_clusters=5, affinity='cosine', linkage='complete'))\n",
    "printClusteringStats(VRC, dBScore, silhouetteScore, silhouetteScoreMeasure, mdlLabels)"
   ]
  },
  {
   "cell_type": "code",
   "execution_count": null,
   "id": "d4196edc",
   "metadata": {},
   "outputs": [],
   "source": [
    "plot_silhouettes(co2Scale, mdlLabels)"
   ]
  },
  {
   "cell_type": "code",
   "execution_count": null,
   "id": "d8fe4cb1",
   "metadata": {},
   "outputs": [],
   "source": [
    "silhouetteScoreMeasure = 'cosine'\n",
    "VRC, dBScore, silhouetteScore, mdlLabels = runClusteringModel(co2Scale, silhouetteScoreMeasure, AgglomerativeClustering(n_clusters=4, affinity='cosine', linkage='complete'))\n",
    "printClusteringStats(VRC, dBScore, silhouetteScore, silhouetteScoreMeasure, mdlLabels)"
   ]
  },
  {
   "cell_type": "code",
   "execution_count": null,
   "id": "ca5fa147",
   "metadata": {},
   "outputs": [],
   "source": [
    "plot_silhouettes(co2Scale, mdlLabels)"
   ]
  },
  {
   "cell_type": "code",
   "execution_count": null,
   "id": "42e45a7c",
   "metadata": {},
   "outputs": [],
   "source": [
    "hierTuning(co2Scale, 'runClusteringModel', simMeasure='cosine', affinity='cosine', linkage='average')"
   ]
  },
  {
   "cell_type": "code",
   "execution_count": null,
   "id": "54460ec5",
   "metadata": {},
   "outputs": [],
   "source": [
    "silhouetteScoreMeasure = 'cosine'\n",
    "VRC, dBScore, silhouetteScore, mdlLabels = runClusteringModel(co2Scale, silhouetteScoreMeasure, AgglomerativeClustering(n_clusters=2, affinity='cosine', linkage='average'))\n",
    "printClusteringStats(VRC, dBScore, silhouetteScore, silhouetteScoreMeasure, mdlLabels)"
   ]
  },
  {
   "cell_type": "code",
   "execution_count": null,
   "id": "befc395c",
   "metadata": {},
   "outputs": [],
   "source": [
    "plot_silhouettes(co2Scale, mdlLabels)"
   ]
  },
  {
   "cell_type": "code",
   "execution_count": null,
   "id": "d8d52312",
   "metadata": {},
   "outputs": [],
   "source": [
    "silhouetteScoreMeasure = 'cosine'\n",
    "VRC, dBScore, silhouetteScore, mdlLabels = runClusteringModel(co2Scale, silhouetteScoreMeasure, AgglomerativeClustering(n_clusters=5, affinity='cosine', linkage='average'))\n",
    "printClusteringStats(VRC, dBScore, silhouetteScore, silhouetteScoreMeasure, mdlLabels)"
   ]
  },
  {
   "cell_type": "code",
   "execution_count": null,
   "id": "aa478dd3",
   "metadata": {},
   "outputs": [],
   "source": [
    "plot_silhouettes(co2Scale, mdlLabels)"
   ]
  },
  {
   "cell_type": "code",
   "execution_count": null,
   "id": "49305810",
   "metadata": {},
   "outputs": [],
   "source": [
    "hierTuning(co2Scale, 'runClusteringModel', simMeasure='cosine', affinity='cosine', linkage='single')"
   ]
  },
  {
   "cell_type": "code",
   "execution_count": null,
   "id": "49b1d5bf",
   "metadata": {},
   "outputs": [],
   "source": [
    "silhouetteScoreMeasure = 'cosine'\n",
    "VRC, dBScore, silhouetteScore, mdlLabels = runClusteringModel(co2Scale, silhouetteScoreMeasure, AgglomerativeClustering(n_clusters=2, affinity='cosine', linkage='single'))\n",
    "printClusteringStats(VRC, dBScore, silhouetteScore, silhouetteScoreMeasure, mdlLabels)"
   ]
  },
  {
   "cell_type": "code",
   "execution_count": null,
   "id": "06e1f5d7",
   "metadata": {},
   "outputs": [],
   "source": [
    "plot_silhouettes(co2Scale, mdlLabels)"
   ]
  },
  {
   "cell_type": "code",
   "execution_count": null,
   "id": "694a3f3f",
   "metadata": {},
   "outputs": [],
   "source": [
    "silhouetteScoreMeasure = 'cosine'\n",
    "VRC, dBScore, silhouetteScore, mdlLabels = runClusteringModel(co2Scale, silhouetteScoreMeasure, AgglomerativeClustering(n_clusters=3, affinity='cosine', linkage='single'))\n",
    "printClusteringStats(VRC, dBScore, silhouetteScore, silhouetteScoreMeasure, mdlLabels)"
   ]
  },
  {
   "cell_type": "code",
   "execution_count": null,
   "id": "67896bae",
   "metadata": {},
   "outputs": [],
   "source": [
    "plot_silhouettes(co2Scale, mdlLabels)"
   ]
  },
  {
   "cell_type": "code",
   "execution_count": null,
   "id": "7b448820",
   "metadata": {},
   "outputs": [],
   "source": [
    "silhouetteScoreMeasure = 'cosine'\n",
    "VRC, dBScore, silhouetteScore, mdlLabels = runClusteringModel(co2Scale, silhouetteScoreMeasure, AgglomerativeClustering(n_clusters=9, affinity='cosine', linkage='single'))\n",
    "printClusteringStats(VRC, dBScore, silhouetteScore, silhouetteScoreMeasure, mdlLabels)"
   ]
  },
  {
   "cell_type": "code",
   "execution_count": null,
   "id": "4a2619a3",
   "metadata": {},
   "outputs": [],
   "source": [
    "plot_silhouettes(co2Scale, mdlLabels)"
   ]
  },
  {
   "cell_type": "code",
   "execution_count": null,
   "id": "133e3b45",
   "metadata": {},
   "outputs": [],
   "source": [
    "hierTuning(co2Scale, 'runPCAClusteringModel', simMeasure='euclidean', affinity='euclidean', linkage='ward')"
   ]
  },
  {
   "cell_type": "code",
   "execution_count": null,
   "id": "25b2a905",
   "metadata": {},
   "outputs": [],
   "source": [
    "silhouetteScoreMeasure = 'euclidean'\n",
    "VRC, dBScore, silhouetteScore, mdlLabels, numComp = runPCAClusteringModel(co2Scale, silhouetteScoreMeasure, .95, AgglomerativeClustering(n_clusters=2, affinity='euclidean', linkage='ward'))\n",
    "printClusteringStats(VRC, dBScore, silhouetteScore, silhouetteScoreMeasure, mdlLabels)"
   ]
  },
  {
   "cell_type": "code",
   "execution_count": null,
   "id": "fbc3703b",
   "metadata": {},
   "outputs": [],
   "source": [
    "plot_silhouettes(co2Scale, mdlLabels)"
   ]
  },
  {
   "cell_type": "code",
   "execution_count": null,
   "id": "b8e73a78",
   "metadata": {},
   "outputs": [],
   "source": [
    "hierTuning(co2Scale, 'runPCAClusteringModel', simMeasure='euclidean', affinity='euclidean', linkage='complete')"
   ]
  },
  {
   "cell_type": "code",
   "execution_count": null,
   "id": "53a76a5a",
   "metadata": {},
   "outputs": [],
   "source": [
    "silhouetteScoreMeasure = 'euclidean'\n",
    "VRC, dBScore, silhouetteScore, mdlLabels, numComp = runPCAClusteringModel(co2Scale, silhouetteScoreMeasure, .95, AgglomerativeClustering(n_clusters=2, affinity='euclidean', linkage='complete'))\n",
    "printClusteringStats(VRC, dBScore, silhouetteScore, silhouetteScoreMeasure, mdlLabels)"
   ]
  },
  {
   "cell_type": "code",
   "execution_count": null,
   "id": "031cbf72",
   "metadata": {},
   "outputs": [],
   "source": [
    "plot_silhouettes(co2Scale, mdlLabels)"
   ]
  },
  {
   "cell_type": "code",
   "execution_count": null,
   "id": "dda99501",
   "metadata": {},
   "outputs": [],
   "source": [
    "silhouetteScoreMeasure = 'euclidean'\n",
    "VRC, dBScore, silhouetteScore, mdlLabels, numComp = runPCAClusteringModel(co2Scale, silhouetteScoreMeasure, .95, AgglomerativeClustering(n_clusters=6, affinity='euclidean', linkage='complete'))\n",
    "printClusteringStats(VRC, dBScore, silhouetteScore, silhouetteScoreMeasure, mdlLabels)"
   ]
  },
  {
   "cell_type": "code",
   "execution_count": null,
   "id": "3c237ee7",
   "metadata": {},
   "outputs": [],
   "source": [
    "plot_silhouettes(co2Scale, mdlLabels)"
   ]
  },
  {
   "cell_type": "code",
   "execution_count": null,
   "id": "2a95693a",
   "metadata": {},
   "outputs": [],
   "source": [
    "hierTuning(co2Scale, 'runPCAClusteringModel', simMeasure='euclidean', affinity='euclidean', linkage='average')"
   ]
  },
  {
   "cell_type": "code",
   "execution_count": null,
   "id": "bb013753",
   "metadata": {},
   "outputs": [],
   "source": [
    "silhouetteScoreMeasure = 'euclidean'\n",
    "VRC, dBScore, silhouetteScore, mdlLabels, numComp = runPCAClusteringModel(co2Scale, silhouetteScoreMeasure, .95, AgglomerativeClustering(n_clusters=2, affinity='euclidean', linkage='average'))\n",
    "printClusteringStats(VRC, dBScore, silhouetteScore, silhouetteScoreMeasure, mdlLabels)"
   ]
  },
  {
   "cell_type": "code",
   "execution_count": null,
   "id": "5fc61d2c",
   "metadata": {},
   "outputs": [],
   "source": [
    "plot_silhouettes(co2Scale, mdlLabels)"
   ]
  },
  {
   "cell_type": "code",
   "execution_count": null,
   "id": "bba42b97",
   "metadata": {},
   "outputs": [],
   "source": [
    "silhouetteScoreMeasure = 'euclidean'\n",
    "VRC, dBScore, silhouetteScore, mdlLabels, numComp = runPCAClusteringModel(co2Scale, silhouetteScoreMeasure, .95, AgglomerativeClustering(n_clusters=4, affinity='euclidean', linkage='average'))\n",
    "printClusteringStats(VRC, dBScore, silhouetteScore, silhouetteScoreMeasure, mdlLabels)"
   ]
  },
  {
   "cell_type": "code",
   "execution_count": null,
   "id": "2407d840",
   "metadata": {},
   "outputs": [],
   "source": [
    "plot_silhouettes(co2Scale, mdlLabels)"
   ]
  },
  {
   "cell_type": "code",
   "execution_count": null,
   "id": "aef150bd",
   "metadata": {},
   "outputs": [],
   "source": [
    "hierTuning(co2Scale, 'runPCAClusteringModel', simMeasure='euclidean', affinity='euclidean', linkage='single')"
   ]
  },
  {
   "cell_type": "code",
   "execution_count": null,
   "id": "66ad63f2",
   "metadata": {},
   "outputs": [],
   "source": [
    "silhouetteScoreMeasure = 'euclidean'\n",
    "VRC, dBScore, silhouetteScore, mdlLabels, numComp = runPCAClusteringModel(co2Scale, silhouetteScoreMeasure, .95, AgglomerativeClustering(n_clusters=2, affinity='euclidean', linkage='single'))\n",
    "printClusteringStats(VRC, dBScore, silhouetteScore, silhouetteScoreMeasure, mdlLabels)"
   ]
  },
  {
   "cell_type": "code",
   "execution_count": null,
   "id": "a6bdf693",
   "metadata": {},
   "outputs": [],
   "source": [
    "plot_silhouettes(co2Scale, mdlLabels)"
   ]
  },
  {
   "cell_type": "code",
   "execution_count": null,
   "id": "f6a83bf1",
   "metadata": {},
   "outputs": [],
   "source": [
    "hierTuning(co2Scale, 'runPCAClusteringModel', simMeasure='cosine', affinity='euclidean', linkage='ward')"
   ]
  },
  {
   "cell_type": "code",
   "execution_count": null,
   "id": "7b525ed5",
   "metadata": {},
   "outputs": [],
   "source": [
    "silhouetteScoreMeasure = 'cosine'\n",
    "VRC, dBScore, silhouetteScore, mdlLabels, numComp = runPCAClusteringModel(co2Scale, silhouetteScoreMeasure, .95, AgglomerativeClustering(n_clusters=2, affinity='euclidean', linkage='ward'))\n",
    "printClusteringStats(VRC, dBScore, silhouetteScore, silhouetteScoreMeasure, mdlLabels)"
   ]
  },
  {
   "cell_type": "code",
   "execution_count": null,
   "id": "70f81fe6",
   "metadata": {},
   "outputs": [],
   "source": [
    "plot_silhouettes(co2Scale, mdlLabels)"
   ]
  },
  {
   "cell_type": "code",
   "execution_count": null,
   "id": "0da012c8",
   "metadata": {},
   "outputs": [],
   "source": [
    "silhouetteScoreMeasure = 'cosine'\n",
    "VRC, dBScore, silhouetteScore, mdlLabels, numComp = runPCAClusteringModel(co2Scale, silhouetteScoreMeasure, .95, AgglomerativeClustering(n_clusters=6, affinity='euclidean', linkage='ward'))\n",
    "printClusteringStats(VRC, dBScore, silhouetteScore, silhouetteScoreMeasure, mdlLabels)"
   ]
  },
  {
   "cell_type": "code",
   "execution_count": null,
   "id": "957743bc",
   "metadata": {},
   "outputs": [],
   "source": [
    "plot_silhouettes(co2Scale, mdlLabels)"
   ]
  },
  {
   "cell_type": "code",
   "execution_count": null,
   "id": "3d695761",
   "metadata": {},
   "outputs": [],
   "source": [
    "hierTuning(co2Scale, 'runPCAClusteringModel', simMeasure='cosine', affinity='cosine', linkage='complete')"
   ]
  },
  {
   "cell_type": "code",
   "execution_count": null,
   "id": "4e8e4081",
   "metadata": {},
   "outputs": [],
   "source": [
    "silhouetteScoreMeasure = 'cosine'\n",
    "VRC, dBScore, silhouetteScore, mdlLabels, numComp = runPCAClusteringModel(co2Scale, silhouetteScoreMeasure, .95, AgglomerativeClustering(n_clusters=2, affinity='cosine', linkage='complete'))\n",
    "printClusteringStats(VRC, dBScore, silhouetteScore, silhouetteScoreMeasure, mdlLabels)"
   ]
  },
  {
   "cell_type": "code",
   "execution_count": null,
   "id": "f0a836de",
   "metadata": {},
   "outputs": [],
   "source": [
    "plot_silhouettes(co2Scale, mdlLabels)"
   ]
  },
  {
   "cell_type": "code",
   "execution_count": null,
   "id": "1b6a135c",
   "metadata": {},
   "outputs": [],
   "source": [
    "hierTuning(co2Scale, 'runPCAClusteringModel', simMeasure='cosine', affinity='cosine', linkage='average')"
   ]
  },
  {
   "cell_type": "code",
   "execution_count": null,
   "id": "0bd391e4",
   "metadata": {},
   "outputs": [],
   "source": [
    "silhouetteScoreMeasure = 'cosine'\n",
    "VRC, dBScore, silhouetteScore, mdlLabels, numComp = runPCAClusteringModel(co2Scale, silhouetteScoreMeasure, .95, AgglomerativeClustering(n_clusters=2, affinity='cosine', linkage='average'))\n",
    "printClusteringStats(VRC, dBScore, silhouetteScore, silhouetteScoreMeasure, mdlLabels)"
   ]
  },
  {
   "cell_type": "code",
   "execution_count": null,
   "id": "65fc5d28",
   "metadata": {},
   "outputs": [],
   "source": [
    "plot_silhouettes(co2Scale, mdlLabels)"
   ]
  },
  {
   "cell_type": "code",
   "execution_count": null,
   "id": "79409fba",
   "metadata": {},
   "outputs": [],
   "source": [
    "hierTuning(co2Scale, 'runPCAClusteringModel', simMeasure='cosine', affinity='cosine', linkage='single')"
   ]
  },
  {
   "cell_type": "code",
   "execution_count": null,
   "id": "880dd768",
   "metadata": {},
   "outputs": [],
   "source": [
    "silhouetteScoreMeasure = 'cosine'\n",
    "VRC, dBScore, silhouetteScore, mdlLabels, numComp = runPCAClusteringModel(co2Scale, silhouetteScoreMeasure, .95, AgglomerativeClustering(n_clusters=2, affinity='cosine', linkage='single'))\n",
    "printClusteringStats(VRC, dBScore, silhouetteScore, silhouetteScoreMeasure, mdlLabels)"
   ]
  },
  {
   "cell_type": "code",
   "execution_count": null,
   "id": "e6972a1b",
   "metadata": {},
   "outputs": [],
   "source": [
    "plot_silhouettes(co2Scale, mdlLabels)"
   ]
  },
  {
   "cell_type": "code",
   "execution_count": null,
   "id": "1703e15f",
   "metadata": {},
   "outputs": [],
   "source": [
    "silhouetteScoreMeasure = 'cosine'\n",
    "VRC, dBScore, silhouetteScore, mdlLabels, numComp = runPCAClusteringModel(co2Scale, silhouetteScoreMeasure, .95, AgglomerativeClustering(n_clusters=3, affinity='cosine', linkage='single'))\n",
    "printClusteringStats(VRC, dBScore, silhouetteScore, silhouetteScoreMeasure, mdlLabels)"
   ]
  },
  {
   "cell_type": "code",
   "execution_count": null,
   "id": "dfd3c337",
   "metadata": {},
   "outputs": [],
   "source": [
    "plot_silhouettes(co2Scale, mdlLabels)"
   ]
  },
  {
   "cell_type": "markdown",
   "id": "bfdec160",
   "metadata": {},
   "source": [
    "## OPTICS\n",
    "\n",
    "#### GHG"
   ]
  },
  {
   "cell_type": "code",
   "execution_count": null,
   "id": "22a0a1c0",
   "metadata": {},
   "outputs": [],
   "source": [
    "def opticsTuning(data, model, simMeasure='euclidean', varCaptured = .95):\n",
    "    # X-axis values and those to be tested for k\n",
    "    x = np.arange(5, 51, 5)\n",
    "\n",
    "    # placeholders for evaluation measure scores.\n",
    "    VRCLst = []\n",
    "    dBScoreLst = []\n",
    "    silhouetteScoreLst = []\n",
    "\n",
    "    # Test different values for K\n",
    "    for numSamples in x:\n",
    "        if model == 'runClusteringModel':\n",
    "            VRC, dBScore, silhouetteScore, mdlLabels = runClusteringModel(data, simMeasure, OPTICS(min_samples=numSamples))\n",
    "        else:\n",
    "            VRC, dBScore, silhouetteScore, mdlLabels, numComp = runPCAClusteringModel(data, simMeasure, varCaptured, OPTICS(min_samples=numSamples))\n",
    "        VRCLst.append(VRC)\n",
    "        dBScoreLst.append(dBScore)\n",
    "        silhouetteScoreLst.append(silhouetteScore)\n",
    "\n",
    "    graphResults(x, VRCLst, dBScoreLst, silhouetteScoreLst)"
   ]
  },
  {
   "cell_type": "markdown",
   "id": "2ffc0da7",
   "metadata": {},
   "source": [
    "#### GHG"
   ]
  },
  {
   "cell_type": "code",
   "execution_count": null,
   "id": "666609ae",
   "metadata": {},
   "outputs": [],
   "source": [
    "opticsTuning(ghgScale, 'runClusteringModel', simMeasure='euclidean')"
   ]
  },
  {
   "cell_type": "markdown",
   "id": "f6015b5a",
   "metadata": {},
   "source": [
    "The Davies-Bouldin Index and Silhouette Score agree the default minimum\n",
    "samples of 5 is the best value for the hyperparameter. The Variance\n",
    "Ratio Criterion continues to rise throughout the entire range tested but\n",
    "appears to be plateauing. Due to the high computational cost of running\n",
    "the OPTICS method, only the default value for min_samples was tested,\n",
    "which is the value two of the three measures agreed to be the best\n",
    "hyperparameter."
   ]
  },
  {
   "cell_type": "code",
   "execution_count": null,
   "id": "4c910db7",
   "metadata": {},
   "outputs": [],
   "source": [
    "warnings.filterwarnings('ignore')\n",
    "silhouetteScoreMeasure = 'euclidean'\n",
    "VRC, dBScore, silhouetteScore, mdlLabels = runClusteringModel(ghgScale, silhouetteScoreMeasure, OPTICS(min_samples=10))\n",
    "printClusteringStats(VRC, dBScore, silhouetteScore, silhouetteScoreMeasure, mdlLabels)"
   ]
  },
  {
   "cell_type": "code",
   "execution_count": null,
   "id": "d7f9901e",
   "metadata": {},
   "outputs": [],
   "source": [
    "plot_silhouettes(ghgScale, mdlLabels)"
   ]
  },
  {
   "cell_type": "code",
   "execution_count": null,
   "id": "c4228a40",
   "metadata": {},
   "outputs": [],
   "source": [
    "warnings.filterwarnings('ignore')\n",
    "silhouetteScoreMeasure = 'euclidean'\n",
    "VRC, dBScore, silhouetteScore, mdlLabels = runClusteringModel(ghgScale, silhouetteScoreMeasure, OPTICS(min_samples=20))\n",
    "printClusteringStats(VRC, dBScore, silhouetteScore, silhouetteScoreMeasure, mdlLabels)"
   ]
  },
  {
   "cell_type": "code",
   "execution_count": null,
   "id": "4902437a",
   "metadata": {},
   "outputs": [],
   "source": [
    "plot_silhouettes(ghgScale, mdlLabels)"
   ]
  },
  {
   "cell_type": "code",
   "execution_count": null,
   "id": "648585fa",
   "metadata": {},
   "outputs": [],
   "source": [
    "warnings.filterwarnings('ignore')\n",
    "silhouetteScoreMeasure = 'euclidean'\n",
    "VRC, dBScore, silhouetteScore, mdlLabels = runClusteringModel(ghgScale, silhouetteScoreMeasure, OPTICS(min_samples=40))\n",
    "printClusteringStats(VRC, dBScore, silhouetteScore, silhouetteScoreMeasure, mdlLabels)"
   ]
  },
  {
   "cell_type": "code",
   "execution_count": null,
   "id": "594568f4",
   "metadata": {},
   "outputs": [],
   "source": [
    "plot_silhouettes(ghgScale, mdlLabels)"
   ]
  },
  {
   "cell_type": "code",
   "execution_count": null,
   "id": "fea37a2a",
   "metadata": {},
   "outputs": [],
   "source": [
    "opticsTuning(ghgScale, 'runClusteringModel', simMeasure='cosine')"
   ]
  },
  {
   "cell_type": "code",
   "execution_count": null,
   "id": "3d7dbdea",
   "metadata": {},
   "outputs": [],
   "source": [
    "warnings.filterwarnings('ignore')\n",
    "silhouetteScoreMeasure = 'cosine'\n",
    "VRC, dBScore, silhouetteScore, mdlLabels = runClusteringModel(ghgScale, silhouetteScoreMeasure, OPTICS(min_samples=10))\n",
    "printClusteringStats(VRC, dBScore, silhouetteScore, silhouetteScoreMeasure, mdlLabels)"
   ]
  },
  {
   "cell_type": "code",
   "execution_count": null,
   "id": "606731d7",
   "metadata": {},
   "outputs": [],
   "source": [
    "plot_silhouettes(ghgScale, mdlLabels)"
   ]
  },
  {
   "cell_type": "code",
   "execution_count": null,
   "id": "fe5ef6fb",
   "metadata": {},
   "outputs": [],
   "source": [
    "warnings.filterwarnings('ignore')\n",
    "silhouetteScoreMeasure = 'cosine'\n",
    "VRC, dBScore, silhouetteScore, mdlLabels = runClusteringModel(ghgScale, silhouetteScoreMeasure, OPTICS(min_samples=20))\n",
    "printClusteringStats(VRC, dBScore, silhouetteScore, silhouetteScoreMeasure, mdlLabels)"
   ]
  },
  {
   "cell_type": "code",
   "execution_count": null,
   "id": "febedbef",
   "metadata": {},
   "outputs": [],
   "source": [
    "plot_silhouettes(ghgScale, mdlLabels)"
   ]
  },
  {
   "cell_type": "code",
   "execution_count": null,
   "id": "63757132",
   "metadata": {},
   "outputs": [],
   "source": [
    "opticsTuning(ghgScale, 'runPCAClusteringModel', simMeasure='euclidean')"
   ]
  },
  {
   "cell_type": "code",
   "execution_count": null,
   "id": "0001a219",
   "metadata": {},
   "outputs": [],
   "source": [
    "warnings.filterwarnings('ignore')\n",
    "silhouetteScoreMeasure = 'euclidean'\n",
    "VRC, dBScore, silhouetteScore, mdlLabels, numComp = runPCAClusteringModel(ghgScale, silhouetteScoreMeasure, .95, OPTICS(min_samples=5))\n",
    "printClusteringStats(VRC, dBScore, silhouetteScore, silhouetteScoreMeasure, mdlLabels)"
   ]
  },
  {
   "cell_type": "code",
   "execution_count": null,
   "id": "ec8e4b23",
   "metadata": {},
   "outputs": [],
   "source": [
    "plot_silhouettes(ghgScale, mdlLabels)"
   ]
  },
  {
   "cell_type": "code",
   "execution_count": null,
   "id": "86f5ab43",
   "metadata": {},
   "outputs": [],
   "source": [
    "warnings.filterwarnings('ignore')\n",
    "silhouetteScoreMeasure = 'euclidean'\n",
    "VRC, dBScore, silhouetteScore, mdlLabels, numComp = runPCAClusteringModel(ghgScale, silhouetteScoreMeasure, .95, OPTICS(min_samples=10))\n",
    "printClusteringStats(VRC, dBScore, silhouetteScore, silhouetteScoreMeasure, mdlLabels)"
   ]
  },
  {
   "cell_type": "code",
   "execution_count": null,
   "id": "68991d29",
   "metadata": {},
   "outputs": [],
   "source": [
    "plot_silhouettes(ghgScale, mdlLabels)"
   ]
  },
  {
   "cell_type": "code",
   "execution_count": null,
   "id": "6402d43e",
   "metadata": {},
   "outputs": [],
   "source": [
    "warnings.filterwarnings('ignore')\n",
    "silhouetteScoreMeasure = 'euclidean'\n",
    "VRC, dBScore, silhouetteScore, mdlLabels, numComp = runPCAClusteringModel(ghgScale, silhouetteScoreMeasure, .95, OPTICS(min_samples=20))\n",
    "printClusteringStats(VRC, dBScore, silhouetteScore, silhouetteScoreMeasure, mdlLabels)"
   ]
  },
  {
   "cell_type": "code",
   "execution_count": null,
   "id": "14b59d73",
   "metadata": {},
   "outputs": [],
   "source": [
    "plot_silhouettes(ghgScale, mdlLabels)"
   ]
  },
  {
   "cell_type": "code",
   "execution_count": null,
   "id": "46ae8880",
   "metadata": {},
   "outputs": [],
   "source": [
    "opticsTuning(ghgScale, 'runPCAClusteringModel', simMeasure='cosine')"
   ]
  },
  {
   "cell_type": "code",
   "execution_count": null,
   "id": "9d7b9bb1",
   "metadata": {},
   "outputs": [],
   "source": [
    "warnings.filterwarnings('ignore')\n",
    "silhouetteScoreMeasure = 'cosine'\n",
    "VRC, dBScore, silhouetteScore, mdlLabels, numComp = runPCAClusteringModel(ghgScale, silhouetteScoreMeasure, .95, OPTICS(min_samples=10))\n",
    "printClusteringStats(VRC, dBScore, silhouetteScore, silhouetteScoreMeasure, mdlLabels)"
   ]
  },
  {
   "cell_type": "code",
   "execution_count": null,
   "id": "a88edd90",
   "metadata": {},
   "outputs": [],
   "source": [
    "plot_silhouettes(ghgScale, mdlLabels)"
   ]
  },
  {
   "cell_type": "code",
   "execution_count": null,
   "id": "f4715034",
   "metadata": {},
   "outputs": [],
   "source": [
    "warnings.filterwarnings('ignore')\n",
    "silhouetteScoreMeasure = 'cosine'\n",
    "VRC, dBScore, silhouetteScore, mdlLabels, numComp = runPCAClusteringModel(ghgScale, silhouetteScoreMeasure, .95, OPTICS(min_samples=20))\n",
    "printClusteringStats(VRC, dBScore, silhouetteScore, silhouetteScoreMeasure, mdlLabels)"
   ]
  },
  {
   "cell_type": "code",
   "execution_count": null,
   "id": "db42260b",
   "metadata": {},
   "outputs": [],
   "source": [
    "plot_silhouettes(ghgScale, mdlLabels)"
   ]
  },
  {
   "cell_type": "markdown",
   "id": "83ce70b4",
   "metadata": {},
   "source": [
    "#### CO2"
   ]
  },
  {
   "cell_type": "code",
   "execution_count": null,
   "id": "92f68976",
   "metadata": {},
   "outputs": [],
   "source": [
    "opticsTuning(co2Scale, 'runClusteringModel', simMeasure='euclidean')"
   ]
  },
  {
   "cell_type": "code",
   "execution_count": null,
   "id": "9a0f9b46",
   "metadata": {},
   "outputs": [],
   "source": [
    "warnings.filterwarnings('ignore')\n",
    "silhouetteScoreMeasure = 'euclidean'\n",
    "VRC, dBScore, silhouetteScore, mdlLabels = runClusteringModel(co2Scale, silhouetteScoreMeasure, OPTICS(min_samples=5))\n",
    "printClusteringStats(VRC, dBScore, silhouetteScore, silhouetteScoreMeasure, mdlLabels)"
   ]
  },
  {
   "cell_type": "code",
   "execution_count": null,
   "id": "6b2897cc",
   "metadata": {},
   "outputs": [],
   "source": [
    "plot_silhouettes(co2Scale, mdlLabels)"
   ]
  },
  {
   "cell_type": "code",
   "execution_count": null,
   "id": "31dd7957",
   "metadata": {},
   "outputs": [],
   "source": [
    "warnings.filterwarnings('ignore')\n",
    "silhouetteScoreMeasure = 'euclidean'\n",
    "VRC, dBScore, silhouetteScore, mdlLabels = runClusteringModel(co2Scale, silhouetteScoreMeasure, OPTICS(min_samples=20))\n",
    "printClusteringStats(VRC, dBScore, silhouetteScore, silhouetteScoreMeasure, mdlLabels)"
   ]
  },
  {
   "cell_type": "code",
   "execution_count": null,
   "id": "1f2cb2c4",
   "metadata": {},
   "outputs": [],
   "source": [
    "plot_silhouettes(co2Scale, mdlLabels)"
   ]
  },
  {
   "cell_type": "code",
   "execution_count": null,
   "id": "267534cf",
   "metadata": {},
   "outputs": [],
   "source": [
    "warnings.filterwarnings('ignore')\n",
    "silhouetteScoreMeasure = 'euclidean'\n",
    "VRC, dBScore, silhouetteScore, mdlLabels = runClusteringModel(co2Scale, silhouetteScoreMeasure, OPTICS(min_samples=30))\n",
    "printClusteringStats(VRC, dBScore, silhouetteScore, silhouetteScoreMeasure, mdlLabels)"
   ]
  },
  {
   "cell_type": "code",
   "execution_count": null,
   "id": "bc7642ff",
   "metadata": {},
   "outputs": [],
   "source": [
    "plot_silhouettes(co2Scale, mdlLabels)"
   ]
  },
  {
   "cell_type": "code",
   "execution_count": null,
   "id": "a77de724",
   "metadata": {},
   "outputs": [],
   "source": [
    "opticsTuning(co2Scale, 'runClusteringModel', simMeasure='cosine')"
   ]
  },
  {
   "cell_type": "code",
   "execution_count": null,
   "id": "59c0c0ef",
   "metadata": {},
   "outputs": [],
   "source": [
    "warnings.filterwarnings('ignore')\n",
    "silhouetteScoreMeasure = 'cosine'\n",
    "VRC, dBScore, silhouetteScore, mdlLabels = runClusteringModel(co2Scale, silhouetteScoreMeasure, OPTICS(min_samples=5))\n",
    "printClusteringStats(VRC, dBScore, silhouetteScore, silhouetteScoreMeasure, mdlLabels)"
   ]
  },
  {
   "cell_type": "code",
   "execution_count": null,
   "id": "66d79ada",
   "metadata": {},
   "outputs": [],
   "source": [
    "plot_silhouettes(co2Scale, mdlLabels)"
   ]
  },
  {
   "cell_type": "code",
   "execution_count": null,
   "id": "e474b949",
   "metadata": {},
   "outputs": [],
   "source": [
    "warnings.filterwarnings('ignore')\n",
    "silhouetteScoreMeasure = 'cosine'\n",
    "VRC, dBScore, silhouetteScore, mdlLabels = runClusteringModel(co2Scale, silhouetteScoreMeasure, OPTICS(min_samples=20))\n",
    "printClusteringStats(VRC, dBScore, silhouetteScore, silhouetteScoreMeasure, mdlLabels)"
   ]
  },
  {
   "cell_type": "code",
   "execution_count": null,
   "id": "e1e0e3b2",
   "metadata": {},
   "outputs": [],
   "source": [
    "plot_silhouettes(co2Scale, mdlLabels)"
   ]
  },
  {
   "cell_type": "code",
   "execution_count": null,
   "id": "50ed45ab",
   "metadata": {},
   "outputs": [],
   "source": [
    "warnings.filterwarnings('ignore')\n",
    "silhouetteScoreMeasure = 'cosine'\n",
    "VRC, dBScore, silhouetteScore, mdlLabels = runClusteringModel(co2Scale, silhouetteScoreMeasure, OPTICS(min_samples=30))\n",
    "printClusteringStats(VRC, dBScore, silhouetteScore, silhouetteScoreMeasure, mdlLabels)"
   ]
  },
  {
   "cell_type": "code",
   "execution_count": null,
   "id": "7df8f7e7",
   "metadata": {},
   "outputs": [],
   "source": [
    "plot_silhouettes(co2Scale, mdlLabels)"
   ]
  },
  {
   "cell_type": "code",
   "execution_count": null,
   "id": "70f216a4",
   "metadata": {},
   "outputs": [],
   "source": [
    "opticsTuning(co2Scale, 'runPCAClusteringModel', simMeasure='euclidean')"
   ]
  },
  {
   "cell_type": "code",
   "execution_count": null,
   "id": "57371b63",
   "metadata": {},
   "outputs": [],
   "source": [
    "warnings.filterwarnings('ignore')\n",
    "silhouetteScoreMeasure = 'cosine'\n",
    "VRC, dBScore, silhouetteScore, mdlLabels, numComp = runPCAClusteringModel(co2Scale, silhouetteScoreMeasure, .95, OPTICS(min_samples=5))\n",
    "printClusteringStats(VRC, dBScore, silhouetteScore, silhouetteScoreMeasure, mdlLabels)"
   ]
  },
  {
   "cell_type": "code",
   "execution_count": null,
   "id": "9863ed5e",
   "metadata": {},
   "outputs": [],
   "source": [
    "plot_silhouettes(co2Scale, mdlLabels)"
   ]
  },
  {
   "cell_type": "code",
   "execution_count": null,
   "id": "8d06c65e",
   "metadata": {},
   "outputs": [],
   "source": [
    "warnings.filterwarnings('ignore')\n",
    "silhouetteScoreMeasure = 'cosine'\n",
    "VRC, dBScore, silhouetteScore, mdlLabels, numComp = runPCAClusteringModel(co2Scale, silhouetteScoreMeasure, .95, OPTICS(min_samples=15))\n",
    "printClusteringStats(VRC, dBScore, silhouetteScore, silhouetteScoreMeasure, mdlLabels)"
   ]
  },
  {
   "cell_type": "code",
   "execution_count": null,
   "id": "d5f5ca47",
   "metadata": {},
   "outputs": [],
   "source": [
    "plot_silhouettes(co2Scale, mdlLabels)"
   ]
  },
  {
   "cell_type": "code",
   "execution_count": null,
   "id": "bba62c8d",
   "metadata": {},
   "outputs": [],
   "source": [
    "warnings.filterwarnings('ignore')\n",
    "silhouetteScoreMeasure = 'cosine'\n",
    "VRC, dBScore, silhouetteScore, mdlLabels, numComp = runPCAClusteringModel(co2Scale, silhouetteScoreMeasure, .95, OPTICS(min_samples=30))\n",
    "printClusteringStats(VRC, dBScore, silhouetteScore, silhouetteScoreMeasure, mdlLabels)"
   ]
  },
  {
   "cell_type": "code",
   "execution_count": null,
   "id": "11beff33",
   "metadata": {},
   "outputs": [],
   "source": [
    "plot_silhouettes(co2Scale, mdlLabels)"
   ]
  },
  {
   "cell_type": "code",
   "execution_count": null,
   "id": "21f0bdca",
   "metadata": {},
   "outputs": [],
   "source": [
    "opticsTuning(co2Scale, 'runPCAClusteringModel', simMeasure='cosine')"
   ]
  },
  {
   "cell_type": "code",
   "execution_count": null,
   "id": "2b0f9fed",
   "metadata": {},
   "outputs": [],
   "source": [
    "warnings.filterwarnings('ignore')\n",
    "silhouetteScoreMeasure = 'cosine'\n",
    "VRC, dBScore, silhouetteScore, mdlLabels, numComp = runPCAClusteringModel(co2Scale, silhouetteScoreMeasure, .95, OPTICS(min_samples=5))\n",
    "printClusteringStats(VRC, dBScore, silhouetteScore, silhouetteScoreMeasure, mdlLabels)"
   ]
  },
  {
   "cell_type": "code",
   "execution_count": null,
   "id": "305d5d03",
   "metadata": {},
   "outputs": [],
   "source": [
    "plot_silhouettes(co2Scale, mdlLabels)"
   ]
  },
  {
   "cell_type": "code",
   "execution_count": null,
   "id": "4f4c7bf5",
   "metadata": {},
   "outputs": [],
   "source": [
    "warnings.filterwarnings('ignore')\n",
    "silhouetteScoreMeasure = 'cosine'\n",
    "VRC, dBScore, silhouetteScore, mdlLabels, numComp = runPCAClusteringModel(co2Scale, silhouetteScoreMeasure, .95, OPTICS(min_samples=15))\n",
    "printClusteringStats(VRC, dBScore, silhouetteScore, silhouetteScoreMeasure, mdlLabels)"
   ]
  },
  {
   "cell_type": "code",
   "execution_count": null,
   "id": "291904a5",
   "metadata": {},
   "outputs": [],
   "source": [
    "plot_silhouettes(co2Scale, mdlLabels)"
   ]
  },
  {
   "cell_type": "code",
   "execution_count": null,
   "id": "d418e393",
   "metadata": {},
   "outputs": [],
   "source": [
    "warnings.filterwarnings('ignore')\n",
    "silhouetteScoreMeasure = 'cosine'\n",
    "VRC, dBScore, silhouetteScore, mdlLabels, numComp = runPCAClusteringModel(co2Scale, silhouetteScoreMeasure, .95, OPTICS(min_samples=30))\n",
    "printClusteringStats(VRC, dBScore, silhouetteScore, silhouetteScoreMeasure, mdlLabels)"
   ]
  },
  {
   "cell_type": "code",
   "execution_count": null,
   "id": "e3e264f4",
   "metadata": {},
   "outputs": [],
   "source": [
    "plot_silhouettes(co2Scale, mdlLabels)"
   ]
  },
  {
   "cell_type": "markdown",
   "id": "e1999cad",
   "metadata": {},
   "source": [
    "The OPTICS measure did not produce useful clusters. Almost a third of\n",
    "the instances are classified as noise and none of the almost 3,300\n",
    "clusters contain more than a percent of the instances."
   ]
  },
  {
   "attachments": {},
   "cell_type": "markdown",
   "id": "089f753a",
   "metadata": {},
   "source": [
    "None of the clustering methods achieved a small number of useful\n",
    "clusters with good clustering scoring. The methods either produced too\n",
    "many small clusters with a significant amount of instances classified as\n",
    "noise or a small number of clusters with poor scoring results.\n",
    "Therefore, fitting classification models on the resulting clusters would\n",
    "not be useful."
   ]
  }
 ],
 "metadata": {
  "kernelspec": {
   "display_name": "Python 3 (ipykernel)",
   "language": "python",
   "name": "python3"
  },
  "language_info": {
   "codemirror_mode": {
    "name": "ipython",
    "version": 3
   },
   "file_extension": ".py",
   "mimetype": "text/x-python",
   "name": "python",
   "nbconvert_exporter": "python",
   "pygments_lexer": "ipython3",
   "version": "3.8.5"
  }
 },
 "nbformat": 4,
 "nbformat_minor": 5
}
