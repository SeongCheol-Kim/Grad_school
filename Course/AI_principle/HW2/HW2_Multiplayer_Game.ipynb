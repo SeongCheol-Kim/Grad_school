{
 "cells": [
  {
   "cell_type": "code",
   "execution_count": 4,
   "metadata": {},
   "outputs": [],
   "source": [
    "##############################################################################\n",
    "#\n",
    "# Define Classes\n",
    "#\n",
    "######################\n",
    "\n",
    "'''Don't change this cell'''\n",
    "\n",
    " # 1) Need agent class\n",
    " # 2) Need player agent\n",
    " # 3) Need Environment\n",
    "\n",
    "class Agent:\n",
    "    def __init__(self):\n",
    "        self.row_cnt=0\n",
    "\n",
    "    def get_row_cnt():\n",
    "        return row_cnt\n",
    "     \n"
   ]
  },
  {
   "cell_type": "code",
   "execution_count": 5,
   "metadata": {},
   "outputs": [],
   "source": [
    "#############################################################################\n",
    "#\n",
    "# Player Agents\n",
    "#\n",
    "#######################\n",
    "\n",
    "'''Our player agents probably need some internal variables so it know where it is, what its doing, \n",
    "   what the current game state is, etc. ... also needs some functions to sense the environment.  Also\n",
    "   consider have players be able to take on different characteristics, like in RPG games'''\n",
    "\n",
    "class Player(Agent):    \n",
    "    #curr_loc=[]\n",
    "    #curr_act\n",
    "    #action_hist = []\n",
    "\n",
    "    \n",
    "    def __init__(self, n, loc_init):\n",
    "        '''Have to initialize it'''\n",
    "        self.Player_ID = n\n",
    "        \"\"\"always good to assign a unique identifier\"\"\"\n",
    "        self.curr_loc=loc_init\n",
    "        \"\"\"Should be 2 values specifying [0]=x loc and [1]=y loc, could divide the game board into a grid like chess for instance\"\"\"\n",
    "        self.curr_act=None\n",
    "        \"\"\"Current action\"\"\"\n",
    "        self.action_hist = []\n",
    "        \"\"\"Keep history of actions\"\"\"\n",
    "        \n",
    "\n",
    "    def Choose_Action(self):\n",
    "        '''Picks action based on state of the world or some model'''\n",
    "                        \n",
    "        #Set new action\n",
    "        self.curr_act=action\n",
    "        self.action_hist.append(action)\n",
    "\n",
    "    def Attack(self):\n",
    "        '''Attacking or Defending could be one possible action, for instance, many others'''\n",
    "\n"
   ]
  },
  {
   "cell_type": "code",
   "execution_count": 6,
   "metadata": {},
   "outputs": [],
   "source": [
    "#############################################################################\n",
    "#\n",
    "# Environment\n",
    "#\n",
    "#######################\n",
    "\n",
    "'''Need to account for all the things in the environment (e.g. game pieces, obstacles, monsters), at some \n",
    "   abstract level.  The environment should also interact with the players, and allow the players to interact\n",
    "   with each other.  Also need a \"map\" of the world or some sort of grid system to track location/states/etc'''\n",
    "\n",
    "class Env():\n",
    "    #states=[]\n",
    "\n",
    "    def __init__(self):\n",
    "        self.states = []\n",
    "        '''probably need to divide the world into some sort of grid system, like chess for example'''\n",
    "    \n"
   ]
  },
  {
   "cell_type": "code",
   "execution_count": 7,
   "metadata": {},
   "outputs": [],
   "source": [
    "#############################################################################\n",
    "#\n",
    "# Main Program\n",
    "#\n",
    "#######################\n",
    "\n",
    "def main():\n",
    "    # Start the program\n",
    "    \n",
    "    '''stuff happens here'''\n",
    "    \n",
    "    "
   ]
  }
 ],
 "metadata": {
  "kernelspec": {
   "display_name": "Python 3",
   "language": "python",
   "name": "python3"
  },
  "language_info": {
   "codemirror_mode": {
    "name": "ipython",
    "version": 3
   },
   "file_extension": ".py",
   "mimetype": "text/x-python",
   "name": "python",
   "nbconvert_exporter": "python",
   "pygments_lexer": "ipython3",
   "version": "3.8.5"
  }
 },
 "nbformat": 4,
 "nbformat_minor": 2
}
