{
 "cells": [
  {
   "cell_type": "code",
   "execution_count": 4,
   "metadata": {},
   "outputs": [],
   "source": [
    "##############################################################################\n",
    "#\n",
    "# Define Classes\n",
    "#\n",
    "######################\n",
    "\n",
    "'''Don't change this cell'''\n",
    "\n",
    " # 1) Need agent class\n",
    " # 2) Need taxi driver agent\n",
    " # 3) Need Environment\n",
    "\n",
    "class Agent:\n",
    "    def __init__(self):\n",
    "        self.row_cnt=0\n",
    "\n",
    "    def get_row_cnt():\n",
    "        return row_cnt\n",
    "     \n"
   ]
  },
  {
   "cell_type": "code",
   "execution_count": 5,
   "metadata": {},
   "outputs": [],
   "source": [
    "#############################################################################\n",
    "#\n",
    "# Taxi Agent\n",
    "#\n",
    "#######################\n",
    "\n",
    "'''Our taxi agent (or \"robot\") probably needs some internal variables so it know where it is, what its doing, \n",
    "   how much gas it has, etc. ... also needs some functions to sense the environment'''\n",
    "\n",
    "class Taxi(Agent):    \n",
    "    #curr_loc=[]\n",
    "    #curr_act\n",
    "    #action_hist = []\n",
    "\n",
    "    \n",
    "    def __init__(self, n, loc_init):\n",
    "        '''Have to initialize it'''\n",
    "        self.Taxi_ID = n\n",
    "        \"\"\"always good to assign a unique identifier\"\"\"\n",
    "        self.curr_loc=loc_init\n",
    "        \"\"\"Should be 2 values specifying [0]=x loc and [1]=y loc, latitude/longitude for instance\"\"\"\n",
    "        self.curr_act=None\n",
    "        \"\"\"Current action\"\"\"\n",
    "        self.action_hist = []\n",
    "        \"\"\"Keep history of actions\"\"\"\n",
    "        \n",
    "\n",
    "    def Choose_Action(self):\n",
    "        '''Picks action based on state of the world or some model'''\n",
    "                        \n",
    "        #Set new action\n",
    "        self.curr_act=action\n",
    "        self.action_hist.append(action)\n",
    "\n",
    "    def Drive(self):\n",
    "        '''Drive could be one possible action, for instance, many others'''\n",
    "\n",
    "\n"
   ]
  },
  {
   "cell_type": "code",
   "execution_count": 6,
   "metadata": {},
   "outputs": [],
   "source": [
    "#############################################################################\n",
    "#\n",
    "# Environment\n",
    "#\n",
    "#######################\n",
    "\n",
    "'''Need to account for all the things in the environment (e.g. pedestrians, other cars), at some abstract level.  \n",
    "   Also need a \"map\" of the world or some sort of grid system to track location/states/etc'''\n",
    "\n",
    "class Env():\n",
    "    #states=[]\n",
    "\n",
    "    def __init__(self):\n",
    "        self.states = []\n",
    "        '''probably need to divide the world into some sort of grid system, latitude/longitude for instance'''\n",
    "    \n"
   ]
  },
  {
   "cell_type": "code",
   "execution_count": 7,
   "metadata": {},
   "outputs": [],
   "source": [
    "#############################################################################\n",
    "#\n",
    "# Main Program\n",
    "#\n",
    "#######################\n",
    "\n",
    "def main():\n",
    "    # Start the program\n",
    "    \n",
    "    '''stuff happens here'''\n",
    "    \n",
    "    "
   ]
  }
 ],
 "metadata": {
  "kernelspec": {
   "display_name": "Python 3",
   "language": "python",
   "name": "python3"
  },
  "language_info": {
   "codemirror_mode": {
    "name": "ipython",
    "version": 3
   },
   "file_extension": ".py",
   "mimetype": "text/x-python",
   "name": "python",
   "nbconvert_exporter": "python",
   "pygments_lexer": "ipython3",
   "version": "3.8.5"
  }
 },
 "nbformat": 4,
 "nbformat_minor": 2
}
