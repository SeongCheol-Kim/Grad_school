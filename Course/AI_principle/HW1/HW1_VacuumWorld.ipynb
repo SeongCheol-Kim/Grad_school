{
 "cells": [
  {
   "cell_type": "code",
   "execution_count": null,
   "metadata": {},
   "outputs": [],
   "source": [
    "from agents import *\n",
    "from notebook import psource"
   ]
  },
  {
   "cell_type": "code",
   "execution_count": null,
   "metadata": {},
   "outputs": [],
   "source": [
    "############################################\n",
    "###\n",
    "### Lets look at the environment setup first\n",
    "###\n",
    "###########################################\n",
    "\n",
    "#Environment Preview\n",
    "psource(TrivialVacuumEnvironment)"
   ]
  },
  {
   "cell_type": "code",
   "execution_count": null,
   "metadata": {},
   "outputs": [],
   "source": [
    "############################################\n",
    "###\n",
    "### Initialize Environment\n",
    "###\n",
    "###########################################\n",
    "\n",
    "# These are the two locations for the two-state environment\n",
    "loc_A, loc_B = (0, 0), (1, 0)\n",
    "\n",
    "# Initialize the two-state environment\n",
    "trivial_vacuum_env = TrivialVacuumEnvironment()\n",
    "\n",
    "# Check the initial state of the environment\n",
    "print(\"State of the Environment: {}.\".format(trivial_vacuum_env.status))"
   ]
  },
  {
   "cell_type": "markdown",
   "metadata": {},
   "source": [
    "# Random Agent"
   ]
  },
  {
   "cell_type": "code",
   "execution_count": null,
   "metadata": {},
   "outputs": [],
   "source": [
    "############################################\n",
    "###\n",
    "### Create a Random Agent\n",
    "###\n",
    "###########################################\n",
    "\n",
    "# Create the random agent\n",
    "random_agent = Agent(program=RandomAgentProgram(['Right', 'Left', 'Suck', 'NoOp']))\n",
    "\n",
    "# Add agent to the environment\n",
    "trivial_vacuum_env.add_thing(random_agent)\n",
    "\n",
    "print(\"RandomVacuumAgent is located at {}.\".format(random_agent.location))"
   ]
  },
  {
   "cell_type": "code",
   "execution_count": null,
   "metadata": {},
   "outputs": [],
   "source": [
    "############################################\n",
    "###\n",
    "### Random Agent Loop\n",
    "###\n",
    "###########################################\n",
    "\n",
    "score=0.0\n",
    "\n",
    "for i in range(100):\n",
    "\n",
    "    # Running the environment\n",
    "    trivial_vacuum_env.step()\n",
    "    \n",
    "    '''\n",
    "    #Randomly make first square dirty                                         #Need to uncomment this section for Q9\n",
    "    x=random.random()\n",
    "    if x>0.5:\n",
    "        trivial_vacuum_env.status[0,0] = 'Dirty'\n",
    "    '''\n",
    "\n",
    "    # Check the current state of the environment\n",
    "    print(\"State of the Environment: {}.\".format(trivial_vacuum_env.status))\n",
    "    if trivial_vacuum_env.status[0,0]=='Clean' and trivial_vacuum_env.status[1,0]=='Clean':\n",
    "        score+=1\n",
    "\n",
    "    print(\"VacuumAgent is located at {}.\".format(random_agent.location))\n",
    "    \n",
    "    i+=1"
   ]
  },
  {
   "cell_type": "code",
   "execution_count": null,
   "metadata": {},
   "outputs": [],
   "source": [
    "#Score\n",
    "print('Percentage of time all squares cleaned')\n",
    "print('Final Score: ',round(score/100*100,2), '%')"
   ]
  },
  {
   "cell_type": "code",
   "execution_count": null,
   "metadata": {},
   "outputs": [],
   "source": []
  },
  {
   "cell_type": "markdown",
   "metadata": {},
   "source": [
    "# Simple Reflex Agent"
   ]
  },
  {
   "cell_type": "code",
   "execution_count": null,
   "metadata": {},
   "outputs": [],
   "source": [
    "#First get rid of old agent\n",
    "trivial_vacuum_env.delete_thing(random_agent)"
   ]
  },
  {
   "cell_type": "code",
   "execution_count": null,
   "metadata": {},
   "outputs": [],
   "source": [
    "############################################\n",
    "###\n",
    "### Create a Simple Reflext Agent\n",
    "###\n",
    "###########################################\n",
    "\n",
    "\n",
    "loc_A = (0, 0)\n",
    "loc_B = (1, 0)\n",
    "\n",
    "\"\"\"Over-write the Agent Program here, so it's visible in the Notebook, step normally not necessary\"\"\"\n",
    "def SimpleReflexAgentProgram():\n",
    "    \"\"\"This agent takes action based solely on the percept. [Figure 2.10]\"\"\"\n",
    "    \n",
    "    def program(percept):\n",
    "        loc, status = percept\n",
    "        \n",
    "        #Choose Action\n",
    "        if status == 'Dirty':\n",
    "            return 'Suck'\n",
    "        elif loc == loc_A:\n",
    "            return 'Right'\n",
    "        elif loc == loc_B:\n",
    "            return 'Left'\n",
    "        \n",
    "        return action\n",
    "    \n",
    "    return program\n",
    "\n",
    "        \n",
    "# Create a simple reflex agent the two-state environment\n",
    "program = SimpleReflexAgentProgram()\n",
    "simple_reflex_agent = Agent(program)\n",
    "\n",
    "trivial_vacuum_env.add_thing(simple_reflex_agent)\n",
    "\n",
    "print(\"SimpleReflexVacuumAgent is located at {}.\".format(simple_reflex_agent.location))"
   ]
  },
  {
   "cell_type": "code",
   "execution_count": null,
   "metadata": {},
   "outputs": [],
   "source": [
    "############################################\n",
    "###\n",
    "### Simple Reflex Loop\n",
    "###\n",
    "###########################################\n",
    "\n",
    "score=0.0\n",
    "\n",
    "for i in range(100):\n",
    "\n",
    "    # Running the environment\n",
    "    trivial_vacuum_env.step()\n",
    "    \n",
    "    #Randomly make first square dirty\n",
    "    x=random.random()\n",
    "    if x>0.5:\n",
    "        trivial_vacuum_env.status[0,0] = 'Dirty'\n",
    "\n",
    "    # Check the current state of the environment\n",
    "    print(\"State of the Environment: {}.\".format(trivial_vacuum_env.status))\n",
    "    if trivial_vacuum_env.status[0,0]=='Clean' and trivial_vacuum_env.status[1,0]=='Clean':\n",
    "        score+=1\n",
    "\n",
    "    print(\"VacuumAgent is located at {}.\".format(simple_reflex_agent.location))\n",
    "    \n",
    "    i+=1"
   ]
  },
  {
   "cell_type": "code",
   "execution_count": null,
   "metadata": {},
   "outputs": [],
   "source": [
    "#Score\n",
    "print('Percentage of time all squares cleaned')\n",
    "print('Final Score: ',round(score/100*100,2), '%')"
   ]
  },
  {
   "cell_type": "markdown",
   "metadata": {},
   "source": [
    "# Model-Based Agent"
   ]
  },
  {
   "cell_type": "code",
   "execution_count": null,
   "metadata": {},
   "outputs": [],
   "source": [
    "# First delete the previously added simple reflex agent\n",
    "trivial_vacuum_env.delete_thing(simple_reflex_agent)\n",
    "trivial_vacuum_env.delete_thing(model_based_reflex_agent)"
   ]
  },
  {
   "cell_type": "code",
   "execution_count": null,
   "metadata": {},
   "outputs": [],
   "source": [
    "############################################\n",
    "###\n",
    "### Create a Model-Based Agent\n",
    "###\n",
    "###########################################\n",
    "\n",
    "#TODO: Implement this function for the two-dimensional environment\n",
    "def update_state(state, action, percept, model):\n",
    "    pass\n",
    "\n",
    "\n",
    "'''\n",
    "\"\"\"Agent Program copied here from Agent.py, so it's visible in the Notebook\"\"\"\n",
    "def ModelBasedAgentProgram():\n",
    "    \"\"\"This agent takes action based on model of world\"\"\"\n",
    "    \n",
    "    model = {loc_A: None, loc_B: None}\n",
    "\n",
    "    def program(percept):\n",
    "        loc, status = percept\n",
    "        \n",
    "        model[loc] = status  # Update the model here\n",
    "        if model[loc_A] == model[loc_B] == 'Clean':\n",
    "            return 'NoOp'\n",
    "        elif status == 'Dirty':\n",
    "            return 'Suck'\n",
    "        elif loc == loc_A:\n",
    "            return 'Right'\n",
    "        elif loc == loc_B:\n",
    "            return 'Left'\n",
    "    \n",
    "    return program\n",
    "'''\n",
    "\n",
    "# Create a model-based agent\n",
    "model_based_reflex_agent = ModelBasedVacuumAgent()\n",
    "\n",
    "# Add the agent to the environment\n",
    "trivial_vacuum_env.add_thing(model_based_reflex_agent)\n",
    "\n",
    "print(\"ModelBasedVacuumAgent is located at {}.\".format(model_based_reflex_agent.location))"
   ]
  },
  {
   "cell_type": "code",
   "execution_count": null,
   "metadata": {},
   "outputs": [],
   "source": [
    "############################################\n",
    "###\n",
    "### Model Reflex Loop\n",
    "###\n",
    "###########################################\n",
    "\n",
    "score=0.0\n",
    "\n",
    "for i in range(100):\n",
    "\n",
    "    # Running the environment\n",
    "    trivial_vacuum_env.step()\n",
    "    \n",
    "    #Randomly make first square dirty\n",
    "    x=random.random()\n",
    "    if x>0.5:\n",
    "        trivial_vacuum_env.status[0,0] = 'Dirty'\n",
    " \n",
    "\n",
    "    # Check the current state of the environment\n",
    "    print(\"State of the Environment: {}.\".format(trivial_vacuum_env.status))\n",
    "    if trivial_vacuum_env.status[0,0]=='Clean' and trivial_vacuum_env.status[1,0]=='Clean':\n",
    "        score+=1\n",
    "\n",
    "    print(\"VacuumAgent located at {}.\".format(model_based_reflex_agent.location))\n",
    "    \n",
    "    i+=1\n"
   ]
  },
  {
   "cell_type": "code",
   "execution_count": null,
   "metadata": {},
   "outputs": [],
   "source": [
    "#Score\n",
    "print('Percentage of time all squares cleaned')\n",
    "print('Final Score: ',round(score/100*100,2), '%')"
   ]
  },
  {
   "cell_type": "code",
   "execution_count": null,
   "metadata": {},
   "outputs": [],
   "source": []
  },
  {
   "cell_type": "code",
   "execution_count": null,
   "metadata": {},
   "outputs": [],
   "source": []
  }
 ],
 "metadata": {
  "kernelspec": {
   "display_name": "Python 3",
   "language": "python",
   "name": "python3"
  },
  "language_info": {
   "codemirror_mode": {
    "name": "ipython",
    "version": 3
   },
   "file_extension": ".py",
   "mimetype": "text/x-python",
   "name": "python",
   "nbconvert_exporter": "python",
   "pygments_lexer": "ipython3",
   "version": "3.8.5"
  }
 },
 "nbformat": 4,
 "nbformat_minor": 2
}
