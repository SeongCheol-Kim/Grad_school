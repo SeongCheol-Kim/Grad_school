{
 "cells": [
  {
   "cell_type": "markdown",
   "metadata": {},
   "source": [
    "### Import module"
   ]
  },
  {
   "cell_type": "code",
   "execution_count": 1,
   "metadata": {},
   "outputs": [],
   "source": [
    "from glob import glob\n",
    "import os, sys\n",
    "from os.path import join, dirname\n",
    "\n",
    "import datetime, time\n",
    "import csv\n",
    "from glob import glob\n",
    "import chardet\n",
    "import numpy as np\n",
    "from scipy.stats import mode\n",
    "import pandas as pd\n",
    "import matplotlib.pyplot as plt\n",
    "\n",
    "from tqdm import tqdm_notebook"
   ]
  },
  {
   "cell_type": "markdown",
   "metadata": {},
   "source": [
    "### Load Data"
   ]
  },
  {
   "cell_type": "code",
   "execution_count": 2,
   "metadata": {},
   "outputs": [],
   "source": [
    "preprocessed_dir = '../Data/Preprocessed'\n",
    "with_2_korean = preprocessed_dir + '/preprocessed_data(not_scaled).csv'\n",
    "with_4_korean = preprocessed_dir + '/preprocessed_data(with_4_korean).csv'"
   ]
  },
  {
   "cell_type": "code",
   "execution_count": 3,
   "metadata": {},
   "outputs": [],
   "source": [
    "data = pd.read_csv(with_4_korean)\n",
    "cat = np.array(data[['RowID', 'Modality_cat']].drop_duplicates())\n",
    "rowID_list = np.array(data['RowID'].drop_duplicates())\n",
    "data = data.to_records(index=False)"
   ]
  },
  {
   "cell_type": "code",
   "execution_count": 4,
   "metadata": {},
   "outputs": [],
   "source": [
    "data_1 = pd.read_csv(with_2_korean)\n",
    "cat_1 = np.array(data_1[['RowID', 'Modality_cat']].drop_duplicates())\n",
    "rowID_list_1 = np.array(data_1['RowID'].drop_duplicates())\n",
    "data_1 = data_1.to_records(index=False)"
   ]
  },
  {
   "cell_type": "markdown",
   "metadata": {},
   "source": [
    "### Split Data"
   ]
  },
  {
   "cell_type": "code",
   "execution_count": 5,
   "metadata": {},
   "outputs": [],
   "source": [
    "first_2_korea_ID = []\n",
    "last_2_korea_ID = []\n",
    "us_ID = []\n",
    "for num in rowID_list:\n",
    "#     print(num)\n",
    "    if num.split(\"_\")[0] == '1':\n",
    "        if num.split(\"_\")[1].split(\"_\")[0] == '3' or num.split(\"_\")[1].split(\"_\")[0] == '4':\n",
    "            first_2_korea_ID.append(num)\n",
    "        else:\n",
    "            last_2_korea_ID.append(num)\n",
    "    else:\n",
    "        us_ID.append(num)"
   ]
  },
  {
   "cell_type": "code",
   "execution_count": 8,
   "metadata": {},
   "outputs": [],
   "source": [
    "first_2_korea = []\n",
    "last_2_korea = []\n",
    "us = []\n",
    "\n",
    "for ID in first_2_korea_ID:\n",
    "    first_2_korea.extend(data[[data[\"RowID\"] == ID]])\n",
    "    \n",
    "for ID in last_2_korea_ID:\n",
    "    last_2_korea.extend(data[[data[\"RowID\"] == ID]])\n",
    "    \n",
    "for ID in us_ID:\n",
    "    us.extend(data[[data[\"RowID\"] == ID]])\n",
    "    \n",
    "first_2_korea = np.array(first_2_korea)\n",
    "last_2_korea = np.array(last_2_korea)\n",
    "us = np.array(us)"
   ]
  },
  {
   "cell_type": "markdown",
   "metadata": {},
   "source": [
    "### EDA"
   ]
  },
  {
   "cell_type": "markdown",
   "metadata": {},
   "source": [
    "#### Light value"
   ]
  },
  {
   "cell_type": "code",
   "execution_count": 11,
   "metadata": {},
   "outputs": [],
   "source": [
    "f2klv = first_2_korea[\"light_val\"]\n",
    "l2klv = last_2_korea[\"light_val\"]\n",
    "ulv = us[\"light_val\"]"
   ]
  },
  {
   "cell_type": "code",
   "execution_count": 19,
   "metadata": {},
   "outputs": [
    {
     "name": "stdout",
     "output_type": "stream",
     "text": [
      "First 2 Korean:  0 1006 582.5528784777807\n",
      "Last 2 Korean:  0 839 662.208676019152\n",
      "US:  0 4095 504.9943851043919\n"
     ]
    }
   ],
   "source": [
    "print('First 2 Korean: ', min(f2klv), max(f2klv), np.mean(f2klv))\n",
    "print('Last 2 Korean: ', min(l2klv), max(l2klv), np.mean(l2klv))\n",
    "print('US: ', min(ulv), max(ulv), np.mean(ulv))"
   ]
  },
  {
   "cell_type": "code",
   "execution_count": 22,
   "metadata": {},
   "outputs": [
    {
     "data": {
      "image/png": "[encoded data removed]",
      "text/plain": [
       "<Figure size 432x288 with 1 Axes>"
      ]
     },
     "metadata": {
      "needs_background": "light"
     },
     "output_type": "display_data"
    }
   ],
   "source": [
    "plt.hist(f2klv, histtype='bar', rwidth=.5)\n",
    "plt.xticks(np.arange(0, 1200, 100))\n",
    "plt.title('First 2 Korean Light Value')\n",
    "plt.xlabel('Ligth value')\n",
    "plt.ylabel('Count')\n",
    "plt.show()"
   ]
  },
  {
   "cell_type": "code",
   "execution_count": 23,
   "metadata": {},
   "outputs": [
    {
     "data": {
      "image/png": "[encoded data removed]",
      "text/plain": [
       "<Figure size 432x288 with 1 Axes>"
      ]
     },
     "metadata": {
      "needs_background": "light"
     },
     "output_type": "display_data"
    }
   ],
   "source": [
    "plt.hist(l2klv, histtype='bar', rwidth=.5)\n",
    "plt.xticks(np.arange(0, 1200, 100))\n",
    "plt.title('Last 2 Korean Light Value')\n",
    "plt.xlabel('Ligth value')\n",
    "plt.ylabel('Count')\n",
    "plt.show()"
   ]
  },
  {
   "cell_type": "code",
   "execution_count": 10,
   "metadata": {},
   "outputs": [
    {
     "name": "stdout",
     "output_type": "stream",
     "text": [
      "95.51358690145697   4.48641309854303\n"
     ]
    }
   ],
   "source": [
    "k_cnt_under_900 = 0\n",
    "others = 0\n",
    "\n",
    "for v in klv:\n",
    "    if v <= 900:\n",
    "        k_cnt_under_900+=1\n",
    "    else:\n",
    "        others+=1\n",
    "\n",
    "print(k_cnt_under_900/len(klv)*100, \" \", others/len(klv)*100)"
   ]
  },
  {
   "cell_type": "code",
   "execution_count": 11,
   "metadata": {},
   "outputs": [
    {
     "data": {
      "text/plain": [
       "(0, 4095, 504.9943851043919)"
      ]
     },
     "execution_count": 11,
     "metadata": {},
     "output_type": "execute_result"
    }
   ],
   "source": [
    "min(ulv), max(ulv),np.mean(ulv)"
   ]
  },
  {
   "cell_type": "code",
   "execution_count": 12,
   "metadata": {},
   "outputs": [
    {
     "data": {
      "image/png": "[encoded data removed]",
      "text/plain": [
       "<Figure size 432x288 with 1 Axes>"
      ]
     },
     "metadata": {
      "needs_background": "light"
     },
     "output_type": "display_data"
    }
   ],
   "source": [
    "plt.hist(ulv, histtype='bar', rwidth=.5)\n",
    "plt.xticks(np.arange(0, 4100, 400))\n",
    "plt.xlabel('Ligth value')\n",
    "plt.ylabel('Count')\n",
    "plt.show()"
   ]
  },
  {
   "cell_type": "code",
   "execution_count": 13,
   "metadata": {},
   "outputs": [
    {
     "name": "stdout",
     "output_type": "stream",
     "text": [
      "97.1074413501565   0.4247474910452096   2.467811158798283\n"
     ]
    }
   ],
   "source": [
    "cnt_under_400 = 0\n",
    "cnt_under_2000 = 0\n",
    "cnt_under_3000 = 0\n",
    "cnt_over_3000 = 0\n",
    "\n",
    "for value in ulv:\n",
    "    if value <= 400:\n",
    "        cnt_under_400+=1\n",
    "    \n",
    "    if value <= 2000:\n",
    "        cnt_under_2000+=1\n",
    "    elif value <= 3000:\n",
    "        cnt_under_3000+=1\n",
    "    else:\n",
    "        cnt_over_3000+=1\n",
    "\n",
    "print(cnt_under_2000/len(ulv) * 100, \" \", cnt_under_3000/len(ulv) * 100, \" \", cnt_over_3000/len(ulv) * 100)"
   ]
  },
  {
   "cell_type": "code",
   "execution_count": 14,
   "metadata": {},
   "outputs": [
    {
     "data": {
      "text/plain": [
       "70.73114653586757"
      ]
     },
     "execution_count": 14,
     "metadata": {},
     "output_type": "execute_result"
    }
   ],
   "source": [
    "cnt_under_400/len(ulv)*100"
   ]
  },
  {
   "cell_type": "code",
   "execution_count": 15,
   "metadata": {},
   "outputs": [],
   "source": [
    "def light_scaler(num):\n",
    "    \n",
    "    if num <= 2000:\n",
    "        return round((num) / (2000) * 900)\n",
    "         \n",
    "    else: \n",
    "        return round(901 + (num - 2001) / (4095-2001) * 123)"
   ]
  },
  {
   "cell_type": "code",
   "execution_count": 16,
   "metadata": {},
   "outputs": [],
   "source": [
    "scaled_ulv = []\n",
    "\n",
    "for value in ulv:\n",
    "    scaled_ulv.append(light_scaler(value))"
   ]
  },
  {
   "cell_type": "code",
   "execution_count": 17,
   "metadata": {},
   "outputs": [
    {
     "data": {
      "text/plain": [
       "(0.0, 1024.0, 208.82913695182162)"
      ]
     },
     "execution_count": 17,
     "metadata": {},
     "output_type": "execute_result"
    }
   ],
   "source": [
    "min(scaled_ulv), max(scaled_ulv),np.mean(scaled_ulv)"
   ]
  },
  {
   "cell_type": "code",
   "execution_count": 18,
   "metadata": {},
   "outputs": [
    {
     "data": {
      "image/png": "[encoded data removed]",
      "text/plain": [
       "<Figure size 432x288 with 1 Axes>"
      ]
     },
     "metadata": {
      "needs_background": "light"
     },
     "output_type": "display_data"
    }
   ],
   "source": [
    "plt.hist(scaled_ulv, histtype='bar', rwidth=.5)\n",
    "plt.xticks(np.arange(0, 1200, 100))\n",
    "plt.xlabel('Ligth value')\n",
    "plt.ylabel('Count')\n",
    "plt.show()"
   ]
  },
  {
   "cell_type": "markdown",
   "metadata": {},
   "source": [
    "#### Sound value"
   ]
  },
  {
   "cell_type": "code",
   "execution_count": 25,
   "metadata": {},
   "outputs": [],
   "source": [
    "f2ksv = first_2_korea[\"sound_val\"]\n",
    "l2ksv = last_2_korea[\"sound_val\"]\n",
    "usv = us[\"sound_val\"]"
   ]
  },
  {
   "cell_type": "code",
   "execution_count": 26,
   "metadata": {},
   "outputs": [
    {
     "name": "stdout",
     "output_type": "stream",
     "text": [
      "First 2 Korean:  0 542 14.670562726701656\n",
      "Last 2 Korean:  0 571 61.20666967007868\n",
      "US:  48 3015 137.66727306463585\n"
     ]
    }
   ],
   "source": [
    "print('First 2 Korean: ', min(f2ksv), max(f2ksv), np.mean(f2ksv))\n",
    "print('Last 2 Korean: ', min(l2ksv), max(l2ksv), np.mean(l2ksv))\n",
    "print('US: ', min(usv), max(usv), np.mean(usv))"
   ]
  },
  {
   "cell_type": "code",
   "execution_count": 30,
   "metadata": {},
   "outputs": [
    {
     "data": {
      "image/png": "[encoded data removed]",
      "text/plain": [
       "<Figure size 432x288 with 1 Axes>"
      ]
     },
     "metadata": {
      "needs_background": "light"
     },
     "output_type": "display_data"
    }
   ],
   "source": [
    "plt.hist(f2ksv, histtype='bar', rwidth=.5)\n",
    "plt.xticks(np.arange(0, 600, 50))\n",
    "plt.title('First 2 Korean Sound Value')\n",
    "plt.xlabel('Sound value')\n",
    "plt.ylabel('Count')\n",
    "plt.show()"
   ]
  },
  {
   "cell_type": "code",
   "execution_count": 31,
   "metadata": {},
   "outputs": [
    {
     "data": {
      "image/png": "[encoded data removed]",
      "text/plain": [
       "<Figure size 432x288 with 1 Axes>"
      ]
     },
     "metadata": {
      "needs_background": "light"
     },
     "output_type": "display_data"
    }
   ],
   "source": [
    "plt.hist(l2ksv, histtype='bar', rwidth=.5)\n",
    "plt.xticks(np.arange(0, 600, 50))\n",
    "plt.title('Last 2 Korean Sound Value')\n",
    "plt.xlabel('Sound value')\n",
    "plt.ylabel('Count')\n",
    "plt.show()"
   ]
  },
  {
   "cell_type": "code",
   "execution_count": 22,
   "metadata": {},
   "outputs": [
    {
     "name": "stdout",
     "output_type": "stream",
     "text": [
      "99.01274595229893   0.9872540477010678\n"
     ]
    }
   ],
   "source": [
    "under_50 = 0\n",
    "over_50 = 0\n",
    "\n",
    "for v in ksv:\n",
    "    if v <=50:\n",
    "        under_50+=1\n",
    "    else:\n",
    "        over_50+=1\n",
    "\n",
    "print(under_50/len(ksv)*100, \" \", over_50/len(ksv)*100)"
   ]
  },
  {
   "cell_type": "code",
   "execution_count": 23,
   "metadata": {},
   "outputs": [
    {
     "name": "stdout",
     "output_type": "stream",
     "text": [
      "48 3015 137.66727306463585\n"
     ]
    }
   ],
   "source": [
    "print(min(usv), max(usv), np.mean(usv))"
   ]
  },
  {
   "cell_type": "code",
   "execution_count": 24,
   "metadata": {},
   "outputs": [
    {
     "data": {
      "image/png": "[encoded data removed]",
      "text/plain": [
       "<Figure size 432x288 with 1 Axes>"
      ]
     },
     "metadata": {
      "needs_background": "light"
     },
     "output_type": "display_data"
    }
   ],
   "source": [
    "plt.hist(usv, histtype='bar', rwidth=.5)\n",
    "plt.xticks(np.arange(0, 3500, 300))\n",
    "plt.xlabel('Sound value')\n",
    "plt.ylabel('Count')\n",
    "plt.show()"
   ]
  },
  {
   "cell_type": "code",
   "execution_count": 25,
   "metadata": {},
   "outputs": [
    {
     "name": "stdout",
     "output_type": "stream",
     "text": [
      "88.88153861047469   10.818758269063215   0.29970312046209946\n"
     ]
    }
   ],
   "source": [
    "under_300 = 0\n",
    "under_600 = 0\n",
    "over_600 = 0\n",
    "\n",
    "for v in usv:\n",
    "    if v <= 300:\n",
    "        under_300+=1\n",
    "    elif v <=600:\n",
    "        under_600+=1\n",
    "    else:\n",
    "        over_600+=1\n",
    "\n",
    "print(under_300/len(usv)*100, \" \", under_600/len(usv)*100, \" \", over_600/len(usv)*100)"
   ]
  },
  {
   "cell_type": "code",
   "execution_count": 26,
   "metadata": {},
   "outputs": [],
   "source": [
    "### breaout US sound value under 600\n",
    "tmp = []\n",
    "for v in usv:\n",
    "    if v <= 600:\n",
    "        tmp.append(v)"
   ]
  },
  {
   "cell_type": "code",
   "execution_count": 27,
   "metadata": {},
   "outputs": [
    {
     "data": {
      "image/png": "[encoded data removed]",
      "text/plain": [
       "<Figure size 432x288 with 1 Axes>"
      ]
     },
     "metadata": {
      "needs_background": "light"
     },
     "output_type": "display_data"
    }
   ],
   "source": [
    "plt.hist(tmp, histtype='bar', rwidth=.5)\n",
    "plt.xticks(np.arange(0, 650, 50))\n",
    "plt.xlabel('Sound value')\n",
    "plt.ylabel('Count')\n",
    "plt.show()"
   ]
  },
  {
   "cell_type": "markdown",
   "metadata": {},
   "source": [
    "### After Scale"
   ]
  },
  {
   "cell_type": "code",
   "execution_count": 34,
   "metadata": {},
   "outputs": [],
   "source": [
    "a_korea_ID = []\n",
    "a_us_ID = []\n",
    "for num in rowID_list_1:\n",
    "    if num.split(\"_\")[0] == '3' or num.split(\"_\")[0] == '4':\n",
    "        a_korea_ID.append(num)\n",
    "    else:\n",
    "        a_us_ID.append(num)"
   ]
  },
  {
   "cell_type": "code",
   "execution_count": 35,
   "metadata": {},
   "outputs": [
    {
     "name": "stderr",
     "output_type": "stream",
     "text": [
      "C:\\Users\\sckim\\.conda\\envs\\grad\\lib\\site-packages\\numpy\\core\\records.py:518: FutureWarning: Using a non-tuple sequence for multidimensional indexing is deprecated; use `arr[tuple(seq)]` instead of `arr[seq]`. In the future this will be interpreted as an array index, `arr[np.array(seq)]`, which will result either in an error or a different result.\n",
      "  obj = super(recarray, self).__getitem__(indx)\n"
     ]
    }
   ],
   "source": [
    "a_korea = []\n",
    "a_us = []\n",
    "\n",
    "for ID in a_korea_ID:\n",
    "    a_korea.extend(data_1[[data_1[\"RowID\"] == ID]])\n",
    "    \n",
    "for ID in a_us_ID:\n",
    "    a_us.extend(data_1[[data_1[\"RowID\"] == ID]])\n",
    "    \n",
    "a_korea = np.array(a_korea)\n",
    "a_us = np.array(a_us)"
   ]
  },
  {
   "cell_type": "code",
   "execution_count": 37,
   "metadata": {},
   "outputs": [],
   "source": [
    "a_ksv = a_korea[\"sound_val\"]\n",
    "a_usv = a_us[\"sound_val\"]"
   ]
  },
  {
   "cell_type": "code",
   "execution_count": 38,
   "metadata": {},
   "outputs": [
    {
     "name": "stdout",
     "output_type": "stream",
     "text": [
      "0 3252 88.02337636020994\n"
     ]
    }
   ],
   "source": [
    "print(min(a_ksv), max(a_ksv), np.mean(a_ksv))"
   ]
  },
  {
   "cell_type": "code",
   "execution_count": 39,
   "metadata": {},
   "outputs": [
    {
     "data": {
      "image/png": "[encoded data removed]",
      "text/plain": [
       "<Figure size 432x288 with 1 Axes>"
      ]
     },
     "metadata": {
      "needs_background": "light"
     },
     "output_type": "display_data"
    }
   ],
   "source": [
    "plt.hist(a_ksv, histtype='bar', rwidth=.5)\n",
    "plt.xticks(np.arange(0, 3500, 300))\n",
    "plt.xlabel('Sound value')\n",
    "plt.ylabel('Count')\n",
    "plt.show()"
   ]
  },
  {
   "cell_type": "code",
   "execution_count": 43,
   "metadata": {},
   "outputs": [],
   "source": [
    "### breaout Korea sound value under 600\n",
    "temp = []\n",
    "for v in a_ksv:\n",
    "    if v <= 600:\n",
    "        temp.append(v)"
   ]
  },
  {
   "cell_type": "code",
   "execution_count": 44,
   "metadata": {},
   "outputs": [
    {
     "data": {
      "image/png": "[encoded data removed]",
      "text/plain": [
       "<Figure size 432x288 with 1 Axes>"
      ]
     },
     "metadata": {
      "needs_background": "light"
     },
     "output_type": "display_data"
    }
   ],
   "source": [
    "plt.hist(temp, histtype='bar', rwidth=.5)\n",
    "plt.xticks(np.arange(0, 650, 50))\n",
    "plt.xlabel('Sound value')\n",
    "plt.ylabel('Count')\n",
    "plt.show()"
   ]
  }
 ],
 "metadata": {
  "kernelspec": {
   "display_name": "Python 3",
   "language": "python",
   "name": "python3"
  },
  "language_info": {
   "codemirror_mode": {
    "name": "ipython",
    "version": 3
   },
   "file_extension": ".py",
   "mimetype": "text/x-python",
   "name": "python",
   "nbconvert_exporter": "python",
   "pygments_lexer": "ipython3",
   "version": "3.8.5"
  }
 },
 "nbformat": 4,
 "nbformat_minor": 4
}
