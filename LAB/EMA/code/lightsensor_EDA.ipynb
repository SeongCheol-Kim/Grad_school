{
 "cells": [
  {
   "cell_type": "code",
   "execution_count": 1,
   "metadata": {},
   "outputs": [],
   "source": [
    "from glob import glob\n",
    "import os, sys\n",
    "from os.path import join, dirname\n",
    "\n",
    "import datetime, time\n",
    "import csv\n",
    "from glob import glob\n",
    "import chardet\n",
    "import numpy as np\n",
    "from scipy.stats import mode\n",
    "import pandas as pd\n",
    "import matplotlib.pyplot as plt\n",
    "\n",
    "from tqdm import notebook"
   ]
  },
  {
   "cell_type": "code",
   "execution_count": 2,
   "metadata": {},
   "outputs": [],
   "source": [
    "preprocessed_dir = '../Data/Preprocessed(new)'\n",
    "origin_dir = '../Data/KOR_Collar_Data'\n",
    "# preprocessed_data_name = preprocessed_dir + '/preprocessed_data(New collar_2).csv'\n",
    "data_list = glob(origin_dir+'/KOR*.csv')"
   ]
  },
  {
   "cell_type": "code",
   "execution_count": 3,
   "metadata": {},
   "outputs": [
    {
     "data": {
      "text/plain": [
       "['../Data/KOR_Collar_Data\\\\KORp10_Collar_data.CSV',\n",
       " '../Data/KOR_Collar_Data\\\\KORp11_Collar_data.CSV',\n",
       " '../Data/KOR_Collar_Data\\\\KORp12_Collar_data.CSV',\n",
       " '../Data/KOR_Collar_Data\\\\KORp13_Collar_data.CSV',\n",
       " '../Data/KOR_Collar_Data\\\\KORp14_Collar_data.CSV',\n",
       " '../Data/KOR_Collar_Data\\\\KORp15_Collar_data.CSV',\n",
       " '../Data/KOR_Collar_Data\\\\KORp17_Collar_data.CSV',\n",
       " '../Data/KOR_Collar_Data\\\\KORp5_Collar_data.CSV',\n",
       " '../Data/KOR_Collar_Data\\\\KORp6_Collar_data.CSV',\n",
       " '../Data/KOR_Collar_Data\\\\KORp7_Collar_data.CSV',\n",
       " '../Data/KOR_Collar_Data\\\\KORp8_Collar_data.CSV',\n",
       " '../Data/KOR_Collar_Data\\\\KORp9_Collar_data.CSV']"
      ]
     },
     "execution_count": 3,
     "metadata": {},
     "output_type": "execute_result"
    }
   ],
   "source": [
    "data_list"
   ]
  },
  {
   "cell_type": "code",
   "execution_count": 5,
   "metadata": {},
   "outputs": [],
   "source": [
    "female = ['5','6','7','8','10','11','15','17']"
   ]
  },
  {
   "cell_type": "code",
   "execution_count": 22,
   "metadata": {},
   "outputs": [],
   "source": [
    "temp = pd.read_csv(data_list[0])"
   ]
  },
  {
   "cell_type": "code",
   "execution_count": 29,
   "metadata": {},
   "outputs": [
    {
     "data": {
      "text/plain": [
       "Index(['time', 'runtimeMS', 'voltage', 'accX', 'accY', 'accZ', 'orientation',\n",
       "       'ir', 'full', 'iaq', 'iaqAccuracy', 'rawTemp', 'pressure',\n",
       "       'rawHumidity', 'gasResistance', 'compGasAccuracy',\n",
       "       'gasPercentageAccuracy', 'temperature', 'humidity', 'staticIaq',\n",
       "       'statIaqAccuracy', 'co2Equivalent', 'co2Accuracy',\n",
       "       'breathVocEquivalent', 'breathVocAccuracy', 'audioLevel', 'Realtime'],\n",
       "      dtype='object')"
      ]
     },
     "execution_count": 29,
     "metadata": {},
     "output_type": "execute_result"
    }
   ],
   "source": [
    "temp.columns"
   ]
  },
  {
   "cell_type": "code",
   "execution_count": 6,
   "metadata": {},
   "outputs": [],
   "source": [
    "cols = ['Realtime','ir','full']\n",
    "ir_0to6 = []\n",
    "ir_6to12 = []\n",
    "ir_12to18 = []\n",
    "ir_18to24 = []\n",
    "full_0to6 = []\n",
    "full_6to12 = []\n",
    "full_12to18 = []\n",
    "full_18to24 = []\n",
    "f_ir_0to6 = []\n",
    "f_ir_6to12 = []\n",
    "f_ir_12to18 = []\n",
    "f_ir_18to24 = []\n",
    "f_full_0to6 = []\n",
    "f_full_6to12 = []\n",
    "f_full_12to18 = []\n",
    "f_full_18to24 = []"
   ]
  },
  {
   "cell_type": "code",
   "execution_count": 19,
   "metadata": {},
   "outputs": [
    {
     "name": "stdout",
     "output_type": "stream",
     "text": [
      "../Data/KOR_Collar_Data\\KORp10_Collar_data.CSV\n",
      "10\n",
      "female\n"
     ]
    },
    {
     "data": {
      "application/vnd.jupyter.widget-view+json": {
       "model_id": "9ec191f9cb5d4e20bd8d1b9bd397ed4e",
       "version_major": 2,
       "version_minor": 0
      },
      "text/plain": [
       "HBox(children=(FloatProgress(value=0.0, max=12610532.0), HTML(value='')))"
      ]
     },
     "metadata": {},
     "output_type": "display_data"
    },
    {
     "name": "stdout",
     "output_type": "stream",
     "text": [
      "\n"
     ]
    },
    {
     "ename": "KeyboardInterrupt",
     "evalue": "",
     "output_type": "error",
     "traceback": [
      "\u001b[1;31m---------------------------------------------------------------------------\u001b[0m",
      "\u001b[1;31mKeyboardInterrupt\u001b[0m                         Traceback (most recent call last)",
      "\u001b[1;32m<ipython-input-19-04d857f055de>\u001b[0m in \u001b[0;36m<module>\u001b[1;34m\u001b[0m\n\u001b[0;32m     20\u001b[0m                 \u001b[0mf_full_6to12\u001b[0m\u001b[1;33m.\u001b[0m\u001b[0mappend\u001b[0m\u001b[1;33m(\u001b[0m\u001b[0mtemp\u001b[0m\u001b[1;33m[\u001b[0m\u001b[0mi\u001b[0m\u001b[1;33m]\u001b[0m\u001b[1;33m[\u001b[0m\u001b[1;34m'full'\u001b[0m\u001b[1;33m]\u001b[0m\u001b[1;33m)\u001b[0m\u001b[1;33m\u001b[0m\u001b[1;33m\u001b[0m\u001b[0m\n\u001b[0;32m     21\u001b[0m             \u001b[1;32melif\u001b[0m \u001b[0mtl\u001b[0m\u001b[1;33m[\u001b[0m\u001b[1;36m1\u001b[0m\u001b[1;33m]\u001b[0m \u001b[1;33m>=\u001b[0m \u001b[1;34m'12:00:00'\u001b[0m \u001b[1;32mand\u001b[0m \u001b[0mtl\u001b[0m\u001b[1;33m[\u001b[0m\u001b[1;36m1\u001b[0m\u001b[1;33m]\u001b[0m \u001b[1;33m<\u001b[0m \u001b[1;34m'18:00:00'\u001b[0m\u001b[1;33m:\u001b[0m\u001b[1;33m\u001b[0m\u001b[1;33m\u001b[0m\u001b[0m\n\u001b[1;32m---> 22\u001b[1;33m                 \u001b[0mf_ir_12to18\u001b[0m\u001b[1;33m.\u001b[0m\u001b[0mappend\u001b[0m\u001b[1;33m(\u001b[0m\u001b[0mtemp\u001b[0m\u001b[1;33m[\u001b[0m\u001b[0mi\u001b[0m\u001b[1;33m]\u001b[0m\u001b[1;33m[\u001b[0m\u001b[1;34m'ir'\u001b[0m\u001b[1;33m]\u001b[0m\u001b[1;33m)\u001b[0m\u001b[1;33m\u001b[0m\u001b[1;33m\u001b[0m\u001b[0m\n\u001b[0m\u001b[0;32m     23\u001b[0m                 \u001b[0mf_full_12to18\u001b[0m\u001b[1;33m.\u001b[0m\u001b[0mappend\u001b[0m\u001b[1;33m(\u001b[0m\u001b[0mtemp\u001b[0m\u001b[1;33m[\u001b[0m\u001b[0mi\u001b[0m\u001b[1;33m]\u001b[0m\u001b[1;33m[\u001b[0m\u001b[1;34m'full'\u001b[0m\u001b[1;33m]\u001b[0m\u001b[1;33m)\u001b[0m\u001b[1;33m\u001b[0m\u001b[1;33m\u001b[0m\u001b[0m\n\u001b[0;32m     24\u001b[0m             \u001b[1;32melse\u001b[0m\u001b[1;33m:\u001b[0m\u001b[1;33m\u001b[0m\u001b[1;33m\u001b[0m\u001b[0m\n",
      "\u001b[1;31mKeyboardInterrupt\u001b[0m: "
     ]
    }
   ],
   "source": [
    "for file in data_list:\n",
    "    print(file)\n",
    "    \n",
    "    temp = pd.read_csv(file)\n",
    "    temp = temp[cols]\n",
    "    temp = temp.to_records(index=False)\n",
    "    \n",
    "    print(file.split('\\\\')[1].split('_')[0][-2:])\n",
    "    if file.split('\\\\')[1].split('_')[0][-2:] in female:\n",
    "        print('female')\n",
    "        for i in notebook.tqdm(range(len(temp))):\n",
    "            time = temp[i]['Realtime']\n",
    "            tl = time.split(' ')\n",
    "    #         print(tl[1])\n",
    "            if tl[1] >= '00:00:00' and tl[1] < '06:00:00':\n",
    "                f_ir_0to6.append(temp[i]['ir'])\n",
    "                f_full_0to6.append(temp[i]['full'])\n",
    "            elif tl[1] >= '06:00:00' and tl[1] < '12:00:00':\n",
    "                f_ir_6to12.append(temp[i]['ir'])\n",
    "                f_full_6to12.append(temp[i]['full'])\n",
    "            elif tl[1] >= '12:00:00' and tl[1] < '18:00:00':\n",
    "                f_ir_12to18.append(temp[i]['ir'])\n",
    "                f_full_12to18.append(temp[i]['full'])\n",
    "            else:\n",
    "                f_ir_18to24.append(temp[i]['ir'])\n",
    "                f_full_18to24.append(temp[i]['full'])\n",
    "    else:\n",
    "        for i in notebook.tqdm(range(len(temp))):\n",
    "            time = temp[i]['Realtime']\n",
    "            tl = time.split(' ')\n",
    "    #         print(tl[1])\n",
    "            if tl[1] >= '00:00:00' and tl[1] < '06:00:00':\n",
    "                ir_0to6.append(temp[i]['ir'])\n",
    "                full_0to6.append(temp[i]['full'])\n",
    "            elif tl[1] >= '06:00:00' and tl[1] < '12:00:00':\n",
    "                ir_6to12.append(temp[i]['ir'])\n",
    "                full_6to12.append(temp[i]['full'])\n",
    "            elif tl[1] >= '12:00:00' and tl[1] < '18:00:00':\n",
    "                ir_12to18.append(temp[i]['ir'])\n",
    "                full_12to18.append(temp[i]['full'])\n",
    "            else:\n",
    "                ir_18to24.append(temp[i]['ir'])\n",
    "                full_18to24.append(temp[i]['full'])"
   ]
  },
  {
   "cell_type": "code",
   "execution_count": 10,
   "metadata": {},
   "outputs": [
    {
     "name": "stdout",
     "output_type": "stream",
     "text": [
      "0 2824 3.08\n",
      "0 5389 17.89\n"
     ]
    }
   ],
   "source": [
    "print(min(f_ir_0to6), max(f_ir_0to6), round(np.mean(f_ir_0to6),2))\n",
    "print(min(f_full_0to6), max(f_full_0to6), round(np.mean(f_full_0to6),2))"
   ]
  },
  {
   "cell_type": "code",
   "execution_count": 11,
   "metadata": {},
   "outputs": [
    {
     "name": "stdout",
     "output_type": "stream",
     "text": [
      "0 304 11.4\n",
      "0 1745 68.38\n"
     ]
    }
   ],
   "source": [
    "print(min(f_ir_6to12), max(f_ir_6to12), round(np.mean(f_ir_6to12),2))\n",
    "print(min(f_full_6to12), max(f_full_6to12), round(np.mean(f_full_6to12),2))"
   ]
  },
  {
   "cell_type": "code",
   "execution_count": 13,
   "metadata": {},
   "outputs": [
    {
     "name": "stdout",
     "output_type": "stream",
     "text": [
      "0 7854 13.51\n",
      "0 25846 77.8\n"
     ]
    }
   ],
   "source": [
    "print(min(f_ir_12to18), max(f_ir_12to18), round(np.mean(f_ir_12to18),2))\n",
    "print(min(f_full_12to18), max(f_full_12to18), round(np.mean(f_full_12to18),2))"
   ]
  },
  {
   "cell_type": "code",
   "execution_count": 14,
   "metadata": {},
   "outputs": [
    {
     "name": "stdout",
     "output_type": "stream",
     "text": [
      "0 299 8.5\n",
      "0 2641 62.68\n"
     ]
    }
   ],
   "source": [
    "print(min(f_ir_18to24), max(f_ir_18to24), round(np.mean(f_ir_18to24),2))\n",
    "print(min(f_full_18to24), max(f_full_18to24), round(np.mean(f_full_18to24),2))"
   ]
  },
  {
   "cell_type": "code",
   "execution_count": null,
   "metadata": {},
   "outputs": [],
   "source": []
  },
  {
   "cell_type": "code",
   "execution_count": null,
   "metadata": {},
   "outputs": [],
   "source": []
  },
  {
   "cell_type": "code",
   "execution_count": null,
   "metadata": {},
   "outputs": [],
   "source": []
  },
  {
   "cell_type": "code",
   "execution_count": 15,
   "metadata": {},
   "outputs": [
    {
     "name": "stdout",
     "output_type": "stream",
     "text": [
      "0 435 5.48\n",
      "0 3756 41.17\n"
     ]
    }
   ],
   "source": [
    "print(min(ir_0to6), max(ir_0to6), round(np.mean(ir_0to6),2))\n",
    "print(min(full_0to6), max(full_0to6), round(np.mean(full_0to6),2))"
   ]
  },
  {
   "cell_type": "code",
   "execution_count": 16,
   "metadata": {},
   "outputs": [
    {
     "name": "stdout",
     "output_type": "stream",
     "text": [
      "0 59593 102.66\n",
      "0 65535 466.15\n"
     ]
    }
   ],
   "source": [
    "print(min(ir_6to12), max(ir_6to12), round(np.mean(ir_6to12),2))\n",
    "print(min(full_6to12), max(full_6to12), round(np.mean(full_6to12),2))"
   ]
  },
  {
   "cell_type": "code",
   "execution_count": 17,
   "metadata": {},
   "outputs": [
    {
     "name": "stdout",
     "output_type": "stream",
     "text": [
      "0 65535 335.27\n",
      "0 65535 923.07\n"
     ]
    }
   ],
   "source": [
    "print(min(ir_12to18), max(ir_12to18), round(np.mean(ir_12to18),2))\n",
    "print(min(full_12to18), max(full_12to18), round(np.mean(full_12to18),2))"
   ]
  },
  {
   "cell_type": "code",
   "execution_count": 18,
   "metadata": {},
   "outputs": [
    {
     "name": "stdout",
     "output_type": "stream",
     "text": [
      "0 866 9.79\n",
      "0 5552 75.48\n"
     ]
    }
   ],
   "source": [
    "print(min(ir_18to24), max(ir_18to24), round(np.mean(ir_18to24),2))\n",
    "print(min(full_18to24), max(full_18to24), round(np.mean(full_18to24),2))"
   ]
  },
  {
   "cell_type": "code",
   "execution_count": null,
   "metadata": {},
   "outputs": [],
   "source": []
  }
 ],
 "metadata": {
  "kernelspec": {
   "display_name": "Python 3",
   "language": "python",
   "name": "python3"
  },
  "language_info": {
   "codemirror_mode": {
    "name": "ipython",
    "version": 3
   },
   "file_extension": ".py",
   "mimetype": "text/x-python",
   "name": "python",
   "nbconvert_exporter": "python",
   "pygments_lexer": "ipython3",
   "version": "3.8.5"
  }
 },
 "nbformat": 4,
 "nbformat_minor": 4
}
