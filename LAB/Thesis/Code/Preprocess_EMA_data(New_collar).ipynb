{
 "cells": [
  {
   "cell_type": "markdown",
   "metadata": {},
   "source": [
    "### Import module"
   ]
  },
  {
   "cell_type": "code",
   "execution_count": 1,
   "metadata": {},
   "outputs": [],
   "source": [
    "from glob import glob\n",
    "import os, sys\n",
    "from os.path import join, dirname\n",
    "\n",
    "import datetime, time\n",
    "from datetime import datetime\n",
    "from dateutil.relativedelta import relativedelta\n",
    "\n",
    "import csv\n",
    "from glob import glob\n",
    "import chardet\n",
    "import numpy as np\n",
    "import pandas as pd\n",
    "\n",
    "from tqdm import notebook"
   ]
  },
  {
   "cell_type": "code",
   "execution_count": 2,
   "metadata": {},
   "outputs": [],
   "source": [
    "root_dir = '../Data'\n",
    "\n",
    "EMA_dir = root_dir + '/KOR_EMA_Data'\n",
    "EMA_folder_list = glob(EMA_dir + '/KOR*')\n",
    "preprocessed_dir = root_dir + '/Preprocessed'"
   ]
  },
  {
   "cell_type": "code",
   "execution_count": 3,
   "metadata": {},
   "outputs": [],
   "source": [
    "## EMA Data collumn name\n",
    "EMA_col_name = [\"Start Date\",\"End Date\",\"Time Scheduled\",\"Duration (in seconds)\",\"Finished\",\"Participant ID\",\"Location - Lat\",\n",
    "                \"Location - Long\",\"Survey\",\"Question 1\",\"Question 2\",\"Question 3\",\"Question 4.1\",\"Question 4.2\",\"Question 4.3\",\n",
    "                \"Question 4.4\",\"Question 4.5\",\"Question 4.6\",\"Question 4.7\",\"Question 4.8\",\"Question 5\",\"Question 6\",\"Question 7\"]"
   ]
  },
  {
   "cell_type": "code",
   "execution_count": 4,
   "metadata": {
    "scrolled": false
   },
   "outputs": [
    {
     "name": "stdout",
     "output_type": "stream",
     "text": [
      "../Data/KOR_EMA_Data/KORp10_EMA_data.csv\n",
      "../Data/KOR_EMA_Data/KORp11_EMA_data.csv\n",
      "../Data/KOR_EMA_Data/KORp12_EMA_data.csv\n",
      "../Data/KOR_EMA_Data/KORp13_EMA_data.csv\n",
      "../Data/KOR_EMA_Data/KORp14_EMA_data.csv\n",
      "../Data/KOR_EMA_Data/KORp15_EMA_data.csv\n",
      "../Data/KOR_EMA_Data/KORp16_EMA_data.csv\n",
      "../Data/KOR_EMA_Data/KORp17_EMA_data.csv\n",
      "../Data/KOR_EMA_Data/KORp5_EMA_data.csv\n",
      "../Data/KOR_EMA_Data/KORp6_EMA_data.csv\n",
      "../Data/KOR_EMA_Data/KORp7_EMA_data.csv\n",
      "../Data/KOR_EMA_Data/KORp8_EMA_data.csv\n",
      "../Data/KOR_EMA_Data/KORp9_EMA_data.csv\n"
     ]
    }
   ],
   "source": [
    "for path in EMA_folder_list:\n",
    "    \n",
    "    TimeBased_file = path+'\\\\TimeBased.csv'\n",
    "    TimeBased_data = pd.read_csv(TimeBased_file, header=3, encoding='utf-8')\n",
    "    TimeBased_data = TimeBased_data[4:]\n",
    "    col = TimeBased_data.columns.to_numpy()\n",
    "    col = col[[0,1,2,3,4,5,6,7,8,9,19,20,10,11,12,13,14,15,16,17,18,21]]             ### Align to Eventbase column order\n",
    "    TimeBased_data = TimeBased_data[col]\n",
    "    TimeBased_data = TimeBased_data.to_numpy()\n",
    "    \n",
    "    Eventbased_file = path+'\\\\Eventbased.csv'\n",
    "    Eventbased_data = pd.read_csv(Eventbased_file, header=3, encoding='utf-8' )\n",
    "    Eventbased_data = Eventbased_data[4:]\n",
    "    Eventbased_data = Eventbased_data.to_numpy()\n",
    "\n",
    "    file_name = path.split('\\\\')[1] + '.csv'\n",
    "    file_name = EMA_dir +'/'+ file_name\n",
    "    \n",
    "    print(file_name)\n",
    "    with open(file_name, 'w', newline='', encoding='utf-8') as f:\n",
    "        writer = csv.writer(f)\n",
    "        writer.writerow(['Start Date', 'End Date','Time Scheduled','Duration (in seconds)','Finished','Participant ID',\n",
    "            'Location - Lat', 'Location - Long', 'Survey', 'Question 1', 'Question 2', 'Question 3', 'Question 4.1', \n",
    "            'Question 4.2', 'Question 4.3', 'Question 4.4', 'Question 4.5', 'Question 4.6', 'Question 4.7',\n",
    "            'Question 4.8', 'Question 5', 'Question 6', 'Question 7'])\n",
    "        \n",
    "        for i in range(len(TimeBased_data)):\n",
    "            writer.writerow([TimeBased_data[i][0], TimeBased_data[i][1], TimeBased_data[i][2], TimeBased_data[i][3], TimeBased_data[i][4],\n",
    "                           TimeBased_data[i][5], TimeBased_data[i][6], TimeBased_data[i][7], TimeBased_data[i][8], TimeBased_data[i][9],\n",
    "                           TimeBased_data[i][10], TimeBased_data[i][11], TimeBased_data[i][12], TimeBased_data[i][13], TimeBased_data[i][14],\n",
    "                           TimeBased_data[i][15], TimeBased_data[i][16], TimeBased_data[i][17], 'nan', TimeBased_data[i][18], \n",
    "                            TimeBased_data[i][19], TimeBased_data[i][20], TimeBased_data[i][21]])\n",
    "\n",
    "        for j in range(len(Eventbased_data)):\n",
    "            writer.writerow(Eventbased_data[j])"
   ]
  },
  {
   "cell_type": "code",
   "execution_count": 4,
   "metadata": {},
   "outputs": [],
   "source": [
    "EMA_data_list = glob(EMA_dir + '/*.csv')\n",
    "target_data_list = []\n",
    "\n",
    "for tmp in EMA_data_list:\n",
    "    temp_name = tmp.split('\\\\')[1].split('_')[0]\n",
    "    temp_name = preprocessed_dir + '/target_' + temp_name + '.csv'\n",
    "    target_data_list.append(temp_name)"
   ]
  },
  {
   "cell_type": "code",
   "execution_count": 5,
   "metadata": {},
   "outputs": [],
   "source": [
    "def convert24(time_stamp): \n",
    "    \n",
    "    time_stamp = str(pd.to_datetime(time_stamp, infer_datetime_format=True))\n",
    "    # Checking if last two elements of time \n",
    "    # is AM and first two elements are 12 \n",
    "    \n",
    "    if time_stamp[-2:] == \"AM\" or time_stamp[-2:] == \"PM\":\n",
    "        if time_stamp[-2:] == \"AM\" and time_stamp[11:13] == \"12\": \n",
    "            return time_stamp[:11] + \"00\" + time_stamp[13:-2] \n",
    "\n",
    "        # remove the AM  \n",
    "        elif time_stamp[-2:] == \"AM\": \n",
    "            return time_stamp[:-2] \n",
    "\n",
    "        # Checking if last two elements of time \n",
    "        # is PM and first two elements are 12 \n",
    "        elif time_stamp[-2:] == \"PM\" and time_stamp[11:13] == \"12\": \n",
    "            return time_stamp[:-2] \n",
    "\n",
    "        else: \n",
    "\n",
    "            # add 12 to hours and remove PM \n",
    "            return time_stamp[:11] + str(int(time_stamp[11:13]) + 12) + time_stamp[13:-2]\n",
    "    \n",
    "    else: \n",
    "        return time_stamp"
   ]
  },
  {
   "cell_type": "code",
   "execution_count": 12,
   "metadata": {},
   "outputs": [
    {
     "name": "stderr",
     "output_type": "stream",
     "text": [
      "<ipython-input-12-361dd1eea9ac>:16: SettingWithCopyWarning: \n",
      "A value is trying to be set on a copy of a slice from a DataFrame\n",
      "\n",
      "See the caveats in the documentation: https://pandas.pydata.org/pandas-docs/stable/user_guide/indexing.html#returning-a-view-versus-a-copy\n",
      "  ema_time[i] = convert24(ema_time[i])\n"
     ]
    },
    {
     "name": "stdout",
     "output_type": "stream",
     "text": [
      "../Data/Preprocessed/target_KORp10.csv\n",
      "../Data/Preprocessed/target_KORp11.csv\n",
      "../Data/Preprocessed/target_KORp12.csv\n",
      "../Data/Preprocessed/target_KORp13.csv\n",
      "../Data/Preprocessed/target_KORp14.csv\n",
      "../Data/Preprocessed/target_KORp15.csv\n",
      "../Data/Preprocessed/target_KORp16.csv\n",
      "../Data/Preprocessed/target_KORp17.csv\n",
      "../Data/Preprocessed/target_KORp5.csv\n",
      "../Data/Preprocessed/target_KORp6.csv\n",
      "../Data/Preprocessed/target_KORp7.csv\n",
      "../Data/Preprocessed/target_KORp8.csv\n",
      "../Data/Preprocessed/target_KORp9.csv\n"
     ]
    }
   ],
   "source": [
    "## Dictionary for response types\n",
    "res = {\"0\" : \"Playing\",\n",
    "       \"1\" : \"Talking\",\n",
    "       \"2\" : \"Petting\",\n",
    "       \"3\" : \"TV / Radio\",\n",
    "       \"4\" : \"Eating / Cooking\",\n",
    "       \"5\" : \"Moved It\",\n",
    "       \"6\" : \"None of the above\",\n",
    "       \"7\" : \"Other\"}\n",
    "\n",
    "for x in range(len(EMA_data_list)):\n",
    "    \n",
    "    EMA = pd.read_csv(EMA_data_list[x], encoding='utf-8')\n",
    "    ema_time = EMA['Start Date']\n",
    "    for i in range(len(ema_time)):\n",
    "        ema_time[i] = convert24(ema_time[i])\n",
    "    EMA['Start Date'] = ema_time\n",
    "    EMA = EMA.sort_values(['Start Date', 'End Date','Time Scheduled','Duration (in seconds)','Finished','Participant ID',\n",
    "            'Location - Lat', 'Location - Long', 'Survey', 'Question 1', 'Question 2', 'Question 3', 'Question 4.1', \n",
    "            'Question 4.2', 'Question 4.3', 'Question 4.4', 'Question 4.5', 'Question 4.6', 'Question 4.7',\n",
    "            'Question 4.8', 'Question 5', 'Question 6', 'Question 7'], ascending=True)\n",
    "    EMA = EMA.to_records(index=False)\n",
    "    \n",
    "#     print(EMA)\n",
    "#     break\n",
    "    \n",
    "    ## Row number in will-be-created file\n",
    "    rowid = 1\n",
    "    prox = 0\n",
    "    \n",
    "    ## Write a csv file\n",
    "    print(target_data_list[x])\n",
    "    with open(target_data_list[x], 'w', newline='') as file:\n",
    "        writer = csv.writer(file)\n",
    "        writer.writerow([\"RowID\", \"Modality_cat\", \"Modality\", \"Proximity\", \"Start Window\", \"End Window\"])\n",
    "\n",
    "\n",
    "        for i in range(len(EMA)):\n",
    "            if EMA[i][\"Question 1\"] == \"Yes\":  # Check if the participant has interacted\n",
    "\n",
    "                interation_type = []\n",
    "                prox = 0  # prox reset\n",
    "                \n",
    "                ## Check the number of interaction types\n",
    "                for j in range(12, 20):\n",
    "                    if EMA[i][j] == \"Yes\":\n",
    "                        interation_type.append(j-12)\n",
    "                \n",
    "                for k in range(len(interation_type)):\n",
    "                    end_time = convert24(EMA[i][\"Start Date\"])\n",
    "                    start_time = pd.to_datetime(end_time, infer_datetime_format=True) - pd.Timedelta(pd.offsets.Minute(15))\n",
    "                    writer.writerow([rowid, interation_type[k], res[str(interation_type[k])], EMA[i][\"Question 6\"], start_time, end_time]) # Write data one (row) by one..\n",
    "                    rowid += 1"
   ]
  }
 ],
 "metadata": {
  "kernelspec": {
   "display_name": "Python 3",
   "language": "python",
   "name": "python3"
  },
  "language_info": {
   "codemirror_mode": {
    "name": "ipython",
    "version": 3
   },
   "file_extension": ".py",
   "mimetype": "text/x-python",
   "name": "python",
   "nbconvert_exporter": "python",
   "pygments_lexer": "ipython3",
   "version": "3.8.5"
  }
 },
 "nbformat": 4,
 "nbformat_minor": 4
}
